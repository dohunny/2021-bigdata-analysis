{
 "cells": [
  {
   "cell_type": "markdown",
   "metadata": {},
   "source": [
    "# 6. 실습"
   ]
  },
  {
   "cell_type": "code",
   "execution_count": 3,
   "metadata": {},
   "outputs": [],
   "source": [
    "# numpy import하기\n",
    "import numpy as np"
   ]
  },
  {
   "cell_type": "markdown",
   "metadata": {},
   "source": [
    "## 6-1. NumPy 배열 생성"
   ]
  },
  {
   "cell_type": "code",
   "execution_count": 3,
   "metadata": {},
   "outputs": [
    {
     "output_type": "execute_result",
     "data": {
      "text/plain": [
       "array([1, 2, 3, 4, 5])"
      ]
     },
     "metadata": {},
     "execution_count": 3
    }
   ],
   "source": [
    "# np.array()로 1차원 배열 [1, 2, 3, 4, 5] 생성 후 출력하기\n",
    "arr = np.array([1,2,3,4,5])\n",
    "arr"
   ]
  },
  {
   "cell_type": "code",
   "execution_count": 8,
   "metadata": {},
   "outputs": [
    {
     "output_type": "execute_result",
     "data": {
      "text/plain": [
       "(dtype('int32'), (5,), 5, 1)"
      ]
     },
     "metadata": {},
     "execution_count": 8
    }
   ],
   "source": [
    "# 1차원 배열의 데이터타입, 모양, 배열 전체 element의 수, 차원의 수 출력하기\n",
    "arr.dtype, arr.shape, arr.size, arr.ndim"
   ]
  },
  {
   "cell_type": "code",
   "execution_count": 9,
   "metadata": {},
   "outputs": [
    {
     "output_type": "execute_result",
     "data": {
      "text/plain": [
       "array([[10, 20, 30, 40],\n",
       "       [50, 60, 70, 80]])"
      ]
     },
     "metadata": {},
     "execution_count": 9
    }
   ],
   "source": [
    "# np.array()로 아래 2차원 배열 생성 후 출력하기\n",
    "# [[10, 20, 30, 40],\n",
    "#  [50, 60, 70, 80]]\n",
    "arr2 = np.array([[10,20,30,40],[50,60,70,80]])\n",
    "arr2"
   ]
  },
  {
   "cell_type": "code",
   "execution_count": 11,
   "metadata": {},
   "outputs": [
    {
     "output_type": "execute_result",
     "data": {
      "text/plain": [
       "array([1, 2, 3, 4, 5])"
      ]
     },
     "metadata": {},
     "execution_count": 11
    }
   ],
   "source": [
    "# np.arange()로 1차원 배열 [1, 2, 3, 4, 5] 생성 후 출력하기\n",
    "arr = np.arange(1,6)\n",
    "arr"
   ]
  },
  {
   "cell_type": "code",
   "execution_count": 14,
   "metadata": {},
   "outputs": [
    {
     "output_type": "execute_result",
     "data": {
      "text/plain": [
       "array([[10, 20, 30, 40],\n",
       "       [50, 60, 70, 80]])"
      ]
     },
     "metadata": {},
     "execution_count": 14
    }
   ],
   "source": [
    "# np.arange()로 아래 2차원 배열 생성 후 출력하기\n",
    "# [[10, 20, 30, 40],\n",
    "#  [50, 60, 70, 80]]\n",
    "arr2 = np.arange(10,90,10).reshape(2,4)\n",
    "arr2"
   ]
  },
  {
   "cell_type": "code",
   "execution_count": 29,
   "metadata": {},
   "outputs": [
    {
     "output_type": "execute_result",
     "data": {
      "text/plain": [
       "array([3, 1, 6, 1, 5, 2, 3, 6, 2, 5, 3, 3, 4, 5, 4, 6, 4, 2, 2, 6, 2, 1,\n",
       "       3, 5, 6, 5, 5, 4, 4, 6, 4, 5, 4, 5, 6, 3, 1, 5, 5, 2, 6, 6, 4, 3,\n",
       "       6, 1, 4, 2, 5, 4, 1, 6, 3, 1, 6, 2, 2, 1, 5, 6, 3, 3, 1, 5, 6, 5,\n",
       "       4, 5, 1, 1, 3, 2, 1, 2, 4, 3, 6, 1, 1, 4, 6, 1, 1, 6, 4, 3, 1, 2,\n",
       "       2, 5, 1, 1, 4, 1, 5, 1, 2, 6, 4, 2])"
      ]
     },
     "metadata": {},
     "execution_count": 29
    }
   ],
   "source": [
    "# 주사위를 100번 던져서 나오는 숫자 배열 출력하기\n",
    "arr = np.random.randint(6, size=100) + 1\n",
    "arr"
   ]
  },
  {
   "cell_type": "code",
   "execution_count": 31,
   "metadata": {},
   "outputs": [
    {
     "output_type": "execute_result",
     "data": {
      "text/plain": [
       "array([[0.88288184, 0.78026223, 0.35618642, 0.82093201],\n",
       "       [0.38133986, 0.33308267, 0.05311422, 0.69744862],\n",
       "       [0.86813055, 0.64551466, 0.3634527 , 0.11088103]])"
      ]
     },
     "metadata": {},
     "execution_count": 31
    }
   ],
   "source": [
    "# np.random을 사용하여 랜덤 실수값으로 이루어진 (3, 4) 2차원 배열 생성\n",
    "arr = np.random.rand(12).reshape(3,4)\n",
    "arr"
   ]
  },
  {
   "cell_type": "markdown",
   "metadata": {},
   "source": [
    "## 6-2. 산술연산"
   ]
  },
  {
   "cell_type": "code",
   "execution_count": 33,
   "metadata": {},
   "outputs": [
    {
     "output_type": "execute_result",
     "data": {
      "text/plain": [
       "(array([1, 2, 3, 4, 5]), array([ 6,  7,  8,  9, 10]))"
      ]
     },
     "metadata": {},
     "execution_count": 33
    }
   ],
   "source": [
    "# [1, 2, 3, 4, 5], [6, 7, 8, 9, 10] 1차원 배열 2개를 생성하고 출력하기\n",
    "arr1 = np.arange(1,6)\n",
    "arr2 = np.arange(6,11)\n",
    "arr1, arr2"
   ]
  },
  {
   "cell_type": "code",
   "execution_count": 34,
   "metadata": {},
   "outputs": [
    {
     "output_type": "execute_result",
     "data": {
      "text/plain": [
       "(array([ 7,  9, 11, 13, 15]),\n",
       " array([-5, -5, -5, -5, -5]),\n",
       " array([ 6, 14, 24, 36, 50]),\n",
       " array([0.16666667, 0.28571429, 0.375     , 0.44444444, 0.5       ]))"
      ]
     },
     "metadata": {},
     "execution_count": 34
    }
   ],
   "source": [
    "# 1차원 배열간 산술연산(덧셈, 뺄셈, 곱셈, 나눗셈) 하기\n",
    "arr1+arr2, arr1-arr2, arr1*arr2, arr1/arr2"
   ]
  },
  {
   "cell_type": "code",
   "execution_count": 36,
   "metadata": {},
   "outputs": [
    {
     "output_type": "execute_result",
     "data": {
      "text/plain": [
       "(array([[ 1,  2,  3,  4,  5],\n",
       "        [ 6,  7,  8,  9, 10]]),\n",
       " array([[11, 12, 13, 14, 15],\n",
       "        [16, 17, 18, 19, 20]]))"
      ]
     },
     "metadata": {},
     "execution_count": 36
    }
   ],
   "source": [
    "# [[1, 2, 3, 4, 5]   [[11, 12, 13, 14, 15]\n",
    "#  [6, 7, 8, 9, 10]], [16, 17, 18, 19, 20]] 2차원 배열 2개를 생성하고 출력하기\n",
    "arr1 = np.arange(1,11).reshape(2,5)\n",
    "arr2 = np.arange(11,21).reshape(2,5)\n",
    "arr1, arr2"
   ]
  },
  {
   "cell_type": "code",
   "execution_count": 37,
   "metadata": {},
   "outputs": [
    {
     "output_type": "execute_result",
     "data": {
      "text/plain": [
       "(array([[12, 14, 16, 18, 20],\n",
       "        [22, 24, 26, 28, 30]]),\n",
       " array([[-10, -10, -10, -10, -10],\n",
       "        [-10, -10, -10, -10, -10]]),\n",
       " array([[ 11,  24,  39,  56,  75],\n",
       "        [ 96, 119, 144, 171, 200]]),\n",
       " array([[0.09090909, 0.16666667, 0.23076923, 0.28571429, 0.33333333],\n",
       "        [0.375     , 0.41176471, 0.44444444, 0.47368421, 0.5       ]]))"
      ]
     },
     "metadata": {},
     "execution_count": 37
    }
   ],
   "source": [
    "# 2차원 배열간 산술연산(덧셈, 뺄셈, 나눗셈) 하기\n",
    "arr1+arr2, arr1-arr2, arr1*arr2, arr1/arr2"
   ]
  },
  {
   "cell_type": "code",
   "execution_count": 41,
   "metadata": {},
   "outputs": [
    {
     "output_type": "execute_result",
     "data": {
      "text/plain": [
       "array([[11, 12],\n",
       "       [13, 14],\n",
       "       [15, 16],\n",
       "       [17, 18],\n",
       "       [19, 20]])"
      ]
     },
     "metadata": {},
     "execution_count": 41
    }
   ],
   "source": [
    "# 두번째 배열의 shape을 (5, 2)로 만들고 출력하기\n",
    "arr2 = arr2.reshape(5,2)\n",
    "arr2"
   ]
  },
  {
   "cell_type": "code",
   "execution_count": 42,
   "metadata": {},
   "outputs": [
    {
     "output_type": "execute_result",
     "data": {
      "text/plain": [
       "array([[245, 260],\n",
       "       [620, 660]])"
      ]
     },
     "metadata": {},
     "execution_count": 42
    }
   ],
   "source": [
    "# 행렬곱셈(dot product) 연산하기\n",
    "np.dot(arr1, arr2)"
   ]
  },
  {
   "cell_type": "markdown",
   "metadata": {},
   "source": [
    "## 6-3. Aggregation 함수"
   ]
  },
  {
   "cell_type": "code",
   "execution_count": 45,
   "metadata": {},
   "outputs": [
    {
     "output_type": "execute_result",
     "data": {
      "text/plain": [
       "array([ 1,  2,  3,  4,  5,  6,  7,  8,  9, 10])"
      ]
     },
     "metadata": {},
     "execution_count": 45
    }
   ],
   "source": [
    "# 1~10까지 이루어진 1차원 배열 생성하기\n",
    "arr = np.arange(1,11)\n",
    "arr"
   ]
  },
  {
   "cell_type": "code",
   "execution_count": 47,
   "metadata": {},
   "outputs": [
    {
     "output_type": "execute_result",
     "data": {
      "text/plain": [
       "(10, 1)"
      ]
     },
     "metadata": {},
     "execution_count": 47
    }
   ],
   "source": [
    "# 최대값, 최소값 출력하기\n",
    "arr.max(), arr.min()"
   ]
  },
  {
   "cell_type": "code",
   "execution_count": 48,
   "metadata": {},
   "outputs": [
    {
     "output_type": "execute_result",
     "data": {
      "text/plain": [
       "(55, 5.5)"
      ]
     },
     "metadata": {},
     "execution_count": 48
    }
   ],
   "source": [
    "# 배열요소의 합, 평균값 출력하기\n",
    "arr.sum(), arr.mean()"
   ]
  },
  {
   "cell_type": "code",
   "execution_count": 51,
   "metadata": {},
   "outputs": [
    {
     "output_type": "execute_result",
     "data": {
      "text/plain": [
       "(5.5, 2.8722813232690143)"
      ]
     },
     "metadata": {},
     "execution_count": 51
    }
   ],
   "source": [
    "# 중앙값(중위값), 표준편차 출력하기\n",
    "np.median(arr), arr.std()"
   ]
  },
  {
   "cell_type": "code",
   "execution_count": 54,
   "metadata": {},
   "outputs": [
    {
     "output_type": "execute_result",
     "data": {
      "text/plain": [
       "array([[ 1,  2,  3,  4,  5],\n",
       "       [ 6,  7,  8,  9, 10],\n",
       "       [11, 12, 13, 14, 15],\n",
       "       [16, 17, 18, 19, 20]])"
      ]
     },
     "metadata": {},
     "execution_count": 54
    }
   ],
   "source": [
    "# 1~20까지 이루어진 2차원 배열 (4, 5) 생성하기\n",
    "arr = np.arange(1,21).reshape(4,5)\n",
    "arr"
   ]
  },
  {
   "cell_type": "code",
   "execution_count": 58,
   "metadata": {},
   "outputs": [
    {
     "output_type": "execute_result",
     "data": {
      "text/plain": [
       "(array([ 5, 10, 15, 20]), array([ 1,  6, 11, 16]))"
      ]
     },
     "metadata": {},
     "execution_count": 58
    }
   ],
   "source": [
    "# 각 행의 max값, min값 출력하기\n",
    "np.max(arr, axis=1), np.min(arr, axis=1)"
   ]
  },
  {
   "cell_type": "code",
   "execution_count": 59,
   "metadata": {},
   "outputs": [
    {
     "output_type": "execute_result",
     "data": {
      "text/plain": [
       "(array([16, 17, 18, 19, 20]), array([1, 2, 3, 4, 5]))"
      ]
     },
     "metadata": {},
     "execution_count": 59
    }
   ],
   "source": [
    "# 각 열의 max값, min값 출력하기\n",
    "np.max(arr, axis=0), np.min(arr, axis=0)"
   ]
  },
  {
   "cell_type": "code",
   "execution_count": 60,
   "metadata": {},
   "outputs": [
    {
     "output_type": "execute_result",
     "data": {
      "text/plain": [
       "array([15, 40, 65, 90])"
      ]
     },
     "metadata": {},
     "execution_count": 60
    }
   ],
   "source": [
    "# 각 행의 sum값 출력하기\n",
    "np.sum(arr, axis=1)"
   ]
  },
  {
   "cell_type": "code",
   "execution_count": 61,
   "metadata": {},
   "outputs": [
    {
     "output_type": "execute_result",
     "data": {
      "text/plain": [
       "array([34, 38, 42, 46, 50])"
      ]
     },
     "metadata": {},
     "execution_count": 61
    }
   ],
   "source": [
    "# 각 열의 sum값 출력하기\n",
    "np.sum(arr, axis=0)"
   ]
  },
  {
   "cell_type": "markdown",
   "metadata": {},
   "source": [
    "## 6-4. 정렬"
   ]
  },
  {
   "cell_type": "code",
   "execution_count": 70,
   "metadata": {},
   "outputs": [
    {
     "output_type": "execute_result",
     "data": {
      "text/plain": [
       "array([ 9, 25, 68, 88, 80, 49, 11, 95, 53, 99])"
      ]
     },
     "metadata": {},
     "execution_count": 70
    }
   ],
   "source": [
    "# 1~100까지 랜덤 정수값을 갖는 1차원 배열 (10, ) 생성하기\n",
    "# seed값 100부여하기\n",
    "np.random.seed(100)\n",
    "arr = np.random.randint(1,101, size = 10)\n",
    "arr"
   ]
  },
  {
   "cell_type": "code",
   "execution_count": 76,
   "metadata": {},
   "outputs": [
    {
     "output_type": "execute_result",
     "data": {
      "text/plain": [
       "array([ 9, 11, 25, 49, 53, 68, 80, 88, 95, 99])"
      ]
     },
     "metadata": {},
     "execution_count": 76
    }
   ],
   "source": [
    "# 위 1차원 배열을 오름차순 정렬하기\n",
    "np.sort(arr)"
   ]
  },
  {
   "cell_type": "code",
   "execution_count": 79,
   "metadata": {},
   "outputs": [
    {
     "output_type": "execute_result",
     "data": {
      "text/plain": [
       "array([99, 95, 88, 80, 68, 53, 49, 25, 11,  9])"
      ]
     },
     "metadata": {},
     "execution_count": 79
    }
   ],
   "source": [
    "# 위 1차원 배열을 내림차순 정렬하기\n",
    "np.sort(arr)[::-1]"
   ]
  },
  {
   "cell_type": "code",
   "execution_count": 81,
   "metadata": {},
   "outputs": [
    {
     "output_type": "execute_result",
     "data": {
      "text/plain": [
       "array([[ 9, 25, 68, 88, 80, 49, 11, 95, 53, 99],\n",
       "       [54, 67, 99, 15, 35, 25, 16, 61, 59, 17],\n",
       "       [10, 94, 87,  3, 28,  5, 32,  2, 14, 84],\n",
       "       [ 5, 92, 60, 68,  8, 50, 48, 66, 62, 15],\n",
       "       [56, 72, 81,  3, 95, 20, 99, 64, 54, 28]])"
      ]
     },
     "metadata": {},
     "execution_count": 81
    }
   ],
   "source": [
    "# 랜덤 seed값 100부여하기\n",
    "# 1~100까지 랜덤 정수값을 갖는 2차원 배열 (5, 10) 생성하기\n",
    "np.random.seed(100)\n",
    "arr = np.random.randint(1,101, size=50).reshape(5,10)\n",
    "arr"
   ]
  },
  {
   "cell_type": "code",
   "execution_count": 82,
   "metadata": {},
   "outputs": [
    {
     "output_type": "execute_result",
     "data": {
      "text/plain": [
       "array([[ 5, 25, 60,  3,  8,  5, 11,  2, 14, 15],\n",
       "       [ 9, 67, 68,  3, 28, 20, 16, 61, 53, 17],\n",
       "       [10, 72, 81, 15, 35, 25, 32, 64, 54, 28],\n",
       "       [54, 92, 87, 68, 80, 49, 48, 66, 59, 84],\n",
       "       [56, 94, 99, 88, 95, 50, 99, 95, 62, 99]])"
      ]
     },
     "metadata": {},
     "execution_count": 82
    }
   ],
   "source": [
    "# 열 기준 정렬하기\n",
    "np.sort(arr, axis=0)"
   ]
  },
  {
   "cell_type": "code",
   "execution_count": 83,
   "metadata": {},
   "outputs": [
    {
     "output_type": "execute_result",
     "data": {
      "text/plain": [
       "array([[ 9, 11, 25, 49, 53, 68, 80, 88, 95, 99],\n",
       "       [15, 16, 17, 25, 35, 54, 59, 61, 67, 99],\n",
       "       [ 2,  3,  5, 10, 14, 28, 32, 84, 87, 94],\n",
       "       [ 5,  8, 15, 48, 50, 60, 62, 66, 68, 92],\n",
       "       [ 3, 20, 28, 54, 56, 64, 72, 81, 95, 99]])"
      ]
     },
     "metadata": {},
     "execution_count": 83
    }
   ],
   "source": [
    "# 행 기준 정렬하기\n",
    "np.sort(arr, axis=1)"
   ]
  },
  {
   "cell_type": "markdown",
   "metadata": {},
   "source": [
    "## 6-5. 인덱싱과 슬라이싱"
   ]
  },
  {
   "cell_type": "code",
   "execution_count": 4,
   "metadata": {},
   "outputs": [
    {
     "output_type": "execute_result",
     "data": {
      "text/plain": [
       "array([[ 0,  1,  2,  3,  4],\n",
       "       [ 5,  6,  7,  8,  9],\n",
       "       [10, 11, 12, 13, 14]])"
      ]
     },
     "metadata": {},
     "execution_count": 4
    }
   ],
   "source": [
    "# 0~14로 이루어진 2차원 배열 (3, 5) 생성하기\n",
    "arr = np.arange(15).reshape(3,5)\n",
    "arr"
   ]
  },
  {
   "cell_type": "code",
   "execution_count": 85,
   "metadata": {},
   "outputs": [
    {
     "output_type": "execute_result",
     "data": {
      "text/plain": [
       "7"
      ]
     },
     "metadata": {},
     "execution_count": 85
    }
   ],
   "source": [
    "# 위 배열에서 7을 인덱싱하기\n",
    "arr[1][2]"
   ]
  },
  {
   "cell_type": "code",
   "execution_count": 87,
   "metadata": {},
   "outputs": [
    {
     "output_type": "execute_result",
     "data": {
      "text/plain": [
       "14"
      ]
     },
     "metadata": {},
     "execution_count": 87
    }
   ],
   "source": [
    "# 위 배열에서 14를 인덱싱하기 (음수 인덱스 사용)\n",
    "arr[-1][-1]"
   ]
  },
  {
   "cell_type": "code",
   "execution_count": 89,
   "metadata": {},
   "outputs": [
    {
     "output_type": "execute_result",
     "data": {
      "text/plain": [
       "array([6, 7])"
      ]
     },
     "metadata": {},
     "execution_count": 89
    }
   ],
   "source": [
    "# 위 배열에서 배열 [6, 7]을 슬라이싱하기\n",
    "arr[1,1:3]"
   ]
  },
  {
   "cell_type": "code",
   "execution_count": 11,
   "metadata": {},
   "outputs": [
    {
     "output_type": "execute_result",
     "data": {
      "text/plain": [
       "array([ 7, 12])"
      ]
     },
     "metadata": {},
     "execution_count": 11
    }
   ],
   "source": [
    "# 위 배열에서 배열 [7, 12]을 슬라이싱하기\n",
    "arr[1:3, 2]"
   ]
  },
  {
   "cell_type": "code",
   "execution_count": 13,
   "metadata": {},
   "outputs": [
    {
     "output_type": "execute_result",
     "data": {
      "text/plain": [
       "array([[3, 4],\n",
       "       [8, 9]])"
      ]
     },
     "metadata": {},
     "execution_count": 13
    }
   ],
   "source": [
    "# 위 배열에서 [[3, 4], [8, 9]]을 슬라이싱하기\n",
    "arr[:2, 3:5]"
   ]
  },
  {
   "cell_type": "code",
   "execution_count": 7,
   "metadata": {},
   "outputs": [
    {
     "output_type": "execute_result",
     "data": {
      "text/plain": [
       "array([ 3,  6,  9, 12])"
      ]
     },
     "metadata": {},
     "execution_count": 7
    }
   ],
   "source": [
    "# 위 배열에서 3의 배수 찾기\n",
    "arr[(arr%3 == 0) & (arr != 0)]"
   ]
  },
  {
   "cell_type": "code",
   "execution_count": 9,
   "metadata": {},
   "outputs": [
    {
     "output_type": "execute_result",
     "data": {
      "text/plain": [
       "array([ 1,  5,  9, 13])"
      ]
     },
     "metadata": {},
     "execution_count": 9
    }
   ],
   "source": [
    "# 위 배열에서 4로 나누면 1이 남는 수 찾기\n",
    "arr[arr %4 == 1]"
   ]
  },
  {
   "cell_type": "code",
   "execution_count": 10,
   "metadata": {},
   "outputs": [
    {
     "output_type": "execute_result",
     "data": {
      "text/plain": [
       "array([9])"
      ]
     },
     "metadata": {},
     "execution_count": 10
    }
   ],
   "source": [
    "# 위 배열에서 3의 배수이면서 4로 나누면 1이 남는 수 찾기\n",
    "arr[(arr % 3 == 0) & (arr % 4 == 1)]"
   ]
  },
  {
   "cell_type": "code",
   "execution_count": null,
   "metadata": {},
   "outputs": [],
   "source": []
  }
 ],
 "metadata": {
  "kernelspec": {
   "name": "python3",
   "display_name": "Python 3.9.2 64-bit",
   "metadata": {
    "interpreter": {
     "hash": "43371bba9c6e23250490e6da0056aaa5f1d60e7cf3ba392e52160197a72b4ba5"
    }
   }
  },
  "language_info": {
   "codemirror_mode": {
    "name": "ipython",
    "version": 3
   },
   "file_extension": ".py",
   "mimetype": "text/x-python",
   "name": "python",
   "nbconvert_exporter": "python",
   "pygments_lexer": "ipython3",
   "version": "3.9.2-final"
  }
 },
 "nbformat": 4,
 "nbformat_minor": 4
}