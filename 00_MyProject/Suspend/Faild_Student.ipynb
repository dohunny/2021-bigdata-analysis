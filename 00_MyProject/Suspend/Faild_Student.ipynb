{
 "metadata": {
  "language_info": {
   "codemirror_mode": {
    "name": "ipython",
    "version": 3
   },
   "file_extension": ".py",
   "mimetype": "text/x-python",
   "name": "python",
   "nbconvert_exporter": "python",
   "pygments_lexer": "ipython3",
   "version": "3.9.5"
  },
  "orig_nbformat": 4,
  "kernelspec": {
   "name": "python3",
   "display_name": "Python 3.9.5 64-bit"
  },
  "interpreter": {
   "hash": "aee8b7b246df8f9039afb4144a1f6fd8d2ca17a180786b69acc140d282b71a49"
  }
 },
 "nbformat": 4,
 "nbformat_minor": 2,
 "cells": [
  {
   "cell_type": "code",
   "execution_count": 2,
   "metadata": {},
   "outputs": [],
   "source": [
    "import numpy as np  \n",
    "import pandas as pd \n",
    "import matplotlib.pyplot as plt \n",
    "import seaborn as sns\n",
    "from matplotlib import rc\n",
    "\n",
    "rc('font', family='AppleGothic')\n",
    "\n",
    "plt.rcParams['axes.unicode_minus'] = False"
   ]
  },
  {
   "cell_type": "code",
   "execution_count": 3,
   "metadata": {},
   "outputs": [
    {
     "output_type": "execute_result",
     "data": {
      "text/plain": [
       "   기준년도 학교종류명 설립구분명       학교명    학과명(전공) 구분명 학과특성명 학과상태명  재적학생수(A)(명)  \\\n",
       "0  2018  기능대학    사립  ICT폴리텍대학  멀티미디어통신학과  주간  일반과정    기존          165   \n",
       "1  2018  기능대학    사립  ICT폴리텍대학     정보통신학과  주간  일반과정    기존          158   \n",
       "2  2018  기능대학    사립  ICT폴리텍대학    모바일통신학과  주간  일반과정    기존          151   \n",
       "3  2018  기능대학    사립  ICT폴리텍대학    방송통신설비과  주간  일반과정    폐과            0   \n",
       "4  2018  기능대학    사립  ICT폴리텍대학    스마트통신학과  주간  일반과정    기존          161   \n",
       "\n",
       "   합계(B)(명)  미등록수(명)  미복학수(명)  자퇴수(명)  학사경고수(명)  학생활동수(명)  유급제적수(명)  \\\n",
       "0         7        0        2       5         0         0         0   \n",
       "1        19        0        7      12         0         0         0   \n",
       "2        12        1        2       9         0         0         0   \n",
       "3         0        0        0       0         0         0         0   \n",
       "4        19        0        9      10         0         0         0   \n",
       "\n",
       "   수업연한초과수(명)  기타수(명)  중도탈락학생비율(%)((B/A) × 100)(%)  \n",
       "0           0       0                          4.2  \n",
       "1           0       0                         12.0  \n",
       "2           0       0                          7.9  \n",
       "3           0       0                          0.0  \n",
       "4           0       0                         11.8  "
      ],
      "text/html": "<div>\n<style scoped>\n    .dataframe tbody tr th:only-of-type {\n        vertical-align: middle;\n    }\n\n    .dataframe tbody tr th {\n        vertical-align: top;\n    }\n\n    .dataframe thead th {\n        text-align: right;\n    }\n</style>\n<table border=\"1\" class=\"dataframe\">\n  <thead>\n    <tr style=\"text-align: right;\">\n      <th></th>\n      <th>기준년도</th>\n      <th>학교종류명</th>\n      <th>설립구분명</th>\n      <th>학교명</th>\n      <th>학과명(전공)</th>\n      <th>구분명</th>\n      <th>학과특성명</th>\n      <th>학과상태명</th>\n      <th>재적학생수(A)(명)</th>\n      <th>합계(B)(명)</th>\n      <th>미등록수(명)</th>\n      <th>미복학수(명)</th>\n      <th>자퇴수(명)</th>\n      <th>학사경고수(명)</th>\n      <th>학생활동수(명)</th>\n      <th>유급제적수(명)</th>\n      <th>수업연한초과수(명)</th>\n      <th>기타수(명)</th>\n      <th>중도탈락학생비율(%)((B/A) × 100)(%)</th>\n    </tr>\n  </thead>\n  <tbody>\n    <tr>\n      <th>0</th>\n      <td>2018</td>\n      <td>기능대학</td>\n      <td>사립</td>\n      <td>ICT폴리텍대학</td>\n      <td>멀티미디어통신학과</td>\n      <td>주간</td>\n      <td>일반과정</td>\n      <td>기존</td>\n      <td>165</td>\n      <td>7</td>\n      <td>0</td>\n      <td>2</td>\n      <td>5</td>\n      <td>0</td>\n      <td>0</td>\n      <td>0</td>\n      <td>0</td>\n      <td>0</td>\n      <td>4.2</td>\n    </tr>\n    <tr>\n      <th>1</th>\n      <td>2018</td>\n      <td>기능대학</td>\n      <td>사립</td>\n      <td>ICT폴리텍대학</td>\n      <td>정보통신학과</td>\n      <td>주간</td>\n      <td>일반과정</td>\n      <td>기존</td>\n      <td>158</td>\n      <td>19</td>\n      <td>0</td>\n      <td>7</td>\n      <td>12</td>\n      <td>0</td>\n      <td>0</td>\n      <td>0</td>\n      <td>0</td>\n      <td>0</td>\n      <td>12.0</td>\n    </tr>\n    <tr>\n      <th>2</th>\n      <td>2018</td>\n      <td>기능대학</td>\n      <td>사립</td>\n      <td>ICT폴리텍대학</td>\n      <td>모바일통신학과</td>\n      <td>주간</td>\n      <td>일반과정</td>\n      <td>기존</td>\n      <td>151</td>\n      <td>12</td>\n      <td>1</td>\n      <td>2</td>\n      <td>9</td>\n      <td>0</td>\n      <td>0</td>\n      <td>0</td>\n      <td>0</td>\n      <td>0</td>\n      <td>7.9</td>\n    </tr>\n    <tr>\n      <th>3</th>\n      <td>2018</td>\n      <td>기능대학</td>\n      <td>사립</td>\n      <td>ICT폴리텍대학</td>\n      <td>방송통신설비과</td>\n      <td>주간</td>\n      <td>일반과정</td>\n      <td>폐과</td>\n      <td>0</td>\n      <td>0</td>\n      <td>0</td>\n      <td>0</td>\n      <td>0</td>\n      <td>0</td>\n      <td>0</td>\n      <td>0</td>\n      <td>0</td>\n      <td>0</td>\n      <td>0.0</td>\n    </tr>\n    <tr>\n      <th>4</th>\n      <td>2018</td>\n      <td>기능대학</td>\n      <td>사립</td>\n      <td>ICT폴리텍대학</td>\n      <td>스마트통신학과</td>\n      <td>주간</td>\n      <td>일반과정</td>\n      <td>기존</td>\n      <td>161</td>\n      <td>19</td>\n      <td>0</td>\n      <td>9</td>\n      <td>10</td>\n      <td>0</td>\n      <td>0</td>\n      <td>0</td>\n      <td>0</td>\n      <td>0</td>\n      <td>11.8</td>\n    </tr>\n  </tbody>\n</table>\n</div>"
     },
     "metadata": {},
     "execution_count": 3
    }
   ],
   "source": [
    "df = pd.read_excel('train.xlsx')\n",
    "df.head()"
   ]
  },
  {
   "cell_type": "code",
   "execution_count": 4,
   "metadata": {},
   "outputs": [
    {
     "output_type": "execute_result",
     "data": {
      "text/plain": [
       "     연도  학교종류 설립구분       학교명        학과명 시간대  학과과정 학과상태  재적학생수  합계  미등록수  미복학수  \\\n",
       "0  2018  기능대학   사립  ICT폴리텍대학  멀티미디어통신학과  주간  일반과정   기존    165   7     0     2   \n",
       "1  2018  기능대학   사립  ICT폴리텍대학     정보통신학과  주간  일반과정   기존    158  19     0     7   \n",
       "2  2018  기능대학   사립  ICT폴리텍대학    모바일통신학과  주간  일반과정   기존    151  12     1     2   \n",
       "3  2018  기능대학   사립  ICT폴리텍대학    방송통신설비과  주간  일반과정   폐과      0   0     0     0   \n",
       "4  2018  기능대학   사립  ICT폴리텍대학    스마트통신학과  주간  일반과정   기존    161  19     0     9   \n",
       "\n",
       "   자퇴수  학사경고수  학생활동수  유급제적수  수업연한초과수  기타수  중도탈락학생비율  \n",
       "0    5      0      0      0        0    0       4.2  \n",
       "1   12      0      0      0        0    0      12.0  \n",
       "2    9      0      0      0        0    0       7.9  \n",
       "3    0      0      0      0        0    0       0.0  \n",
       "4   10      0      0      0        0    0      11.8  "
      ],
      "text/html": "<div>\n<style scoped>\n    .dataframe tbody tr th:only-of-type {\n        vertical-align: middle;\n    }\n\n    .dataframe tbody tr th {\n        vertical-align: top;\n    }\n\n    .dataframe thead th {\n        text-align: right;\n    }\n</style>\n<table border=\"1\" class=\"dataframe\">\n  <thead>\n    <tr style=\"text-align: right;\">\n      <th></th>\n      <th>연도</th>\n      <th>학교종류</th>\n      <th>설립구분</th>\n      <th>학교명</th>\n      <th>학과명</th>\n      <th>시간대</th>\n      <th>학과과정</th>\n      <th>학과상태</th>\n      <th>재적학생수</th>\n      <th>합계</th>\n      <th>미등록수</th>\n      <th>미복학수</th>\n      <th>자퇴수</th>\n      <th>학사경고수</th>\n      <th>학생활동수</th>\n      <th>유급제적수</th>\n      <th>수업연한초과수</th>\n      <th>기타수</th>\n      <th>중도탈락학생비율</th>\n    </tr>\n  </thead>\n  <tbody>\n    <tr>\n      <th>0</th>\n      <td>2018</td>\n      <td>기능대학</td>\n      <td>사립</td>\n      <td>ICT폴리텍대학</td>\n      <td>멀티미디어통신학과</td>\n      <td>주간</td>\n      <td>일반과정</td>\n      <td>기존</td>\n      <td>165</td>\n      <td>7</td>\n      <td>0</td>\n      <td>2</td>\n      <td>5</td>\n      <td>0</td>\n      <td>0</td>\n      <td>0</td>\n      <td>0</td>\n      <td>0</td>\n      <td>4.2</td>\n    </tr>\n    <tr>\n      <th>1</th>\n      <td>2018</td>\n      <td>기능대학</td>\n      <td>사립</td>\n      <td>ICT폴리텍대학</td>\n      <td>정보통신학과</td>\n      <td>주간</td>\n      <td>일반과정</td>\n      <td>기존</td>\n      <td>158</td>\n      <td>19</td>\n      <td>0</td>\n      <td>7</td>\n      <td>12</td>\n      <td>0</td>\n      <td>0</td>\n      <td>0</td>\n      <td>0</td>\n      <td>0</td>\n      <td>12.0</td>\n    </tr>\n    <tr>\n      <th>2</th>\n      <td>2018</td>\n      <td>기능대학</td>\n      <td>사립</td>\n      <td>ICT폴리텍대학</td>\n      <td>모바일통신학과</td>\n      <td>주간</td>\n      <td>일반과정</td>\n      <td>기존</td>\n      <td>151</td>\n      <td>12</td>\n      <td>1</td>\n      <td>2</td>\n      <td>9</td>\n      <td>0</td>\n      <td>0</td>\n      <td>0</td>\n      <td>0</td>\n      <td>0</td>\n      <td>7.9</td>\n    </tr>\n    <tr>\n      <th>3</th>\n      <td>2018</td>\n      <td>기능대학</td>\n      <td>사립</td>\n      <td>ICT폴리텍대학</td>\n      <td>방송통신설비과</td>\n      <td>주간</td>\n      <td>일반과정</td>\n      <td>폐과</td>\n      <td>0</td>\n      <td>0</td>\n      <td>0</td>\n      <td>0</td>\n      <td>0</td>\n      <td>0</td>\n      <td>0</td>\n      <td>0</td>\n      <td>0</td>\n      <td>0</td>\n      <td>0.0</td>\n    </tr>\n    <tr>\n      <th>4</th>\n      <td>2018</td>\n      <td>기능대학</td>\n      <td>사립</td>\n      <td>ICT폴리텍대학</td>\n      <td>스마트통신학과</td>\n      <td>주간</td>\n      <td>일반과정</td>\n      <td>기존</td>\n      <td>161</td>\n      <td>19</td>\n      <td>0</td>\n      <td>9</td>\n      <td>10</td>\n      <td>0</td>\n      <td>0</td>\n      <td>0</td>\n      <td>0</td>\n      <td>0</td>\n      <td>11.8</td>\n    </tr>\n  </tbody>\n</table>\n</div>"
     },
     "metadata": {},
     "execution_count": 4
    }
   ],
   "source": [
    "df.columns = ['연도','학교종류','설립구분','학교명','학과명','시간대','학과과정','학과상태','재적학생수','합계','미등록수','미복학수','자퇴수','학사경고수','학생활동수','유급제적수','수업연한초과수','기타수','중도탈락학생비율']\n",
    "df.head()"
   ]
  },
  {
   "cell_type": "code",
   "execution_count": 5,
   "metadata": {},
   "outputs": [
    {
     "output_type": "execute_result",
     "data": {
      "text/plain": [
       "대학교          18422\n",
       "전문대학(2년제)    11645\n",
       "전문대학(3년제)    11030\n",
       "산업대학           893\n",
       "기능대학           280\n",
       "교육대학           148\n",
       "사이버대학(대학)      103\n",
       "각종대학(전문)         3\n",
       "Name: 학교종류, dtype: int64"
      ]
     },
     "metadata": {},
     "execution_count": 5
    }
   ],
   "source": [
    "df['학교종류'].value_counts()"
   ]
  },
  {
   "cell_type": "code",
   "execution_count": 25,
   "metadata": {},
   "outputs": [
    {
     "output_type": "execute_result",
     "data": {
      "text/plain": [
       "한양대학교(ERICA) _분교    904\n",
       "수원대학교               812\n",
       "가천대학교               768\n",
       "경기대학교               764\n",
       "가천대학교 _본교           743\n",
       "단국대학교               728\n",
       "동서울대학교              668\n",
       "부천대학교               600\n",
       "중앙대학교 _제2캠퍼스        567\n",
       "을지대학교 _제2캠퍼스        562\n",
       "대림대학교               560\n",
       "유한대학교               556\n",
       "두원공과대학교             532\n",
       "대진대학교               520\n",
       "경민대학교               504\n",
       "동원대학교               504\n",
       "신한대학교 _제2캠퍼스        503\n",
       "용인송담대학교 _본교         493\n",
       "단국대학교 _본교           476\n",
       "신구대학교               472\n",
       "Name: 학교명, dtype: int64"
      ]
     },
     "metadata": {},
     "execution_count": 25
    }
   ],
   "source": [
    "df['학교명'].value_counts().head(20)"
   ]
  },
  {
   "cell_type": "code",
   "execution_count": null,
   "metadata": {},
   "outputs": [],
   "source": []
  }
 ]
}