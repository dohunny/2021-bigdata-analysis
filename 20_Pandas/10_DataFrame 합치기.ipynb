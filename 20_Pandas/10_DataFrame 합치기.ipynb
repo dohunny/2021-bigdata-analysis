{
 "metadata": {
  "language_info": {
   "codemirror_mode": {
    "name": "ipython",
    "version": 3
   },
   "file_extension": ".py",
   "mimetype": "text/x-python",
   "name": "python",
   "nbconvert_exporter": "python",
   "pygments_lexer": "ipython3",
   "version": "3.9.5"
  },
  "orig_nbformat": 2,
  "kernelspec": {
   "name": "python395jvsc74a57bd0aee8b7b246df8f9039afb4144a1f6fd8d2ca17a180786b69acc140d282b71a49",
   "display_name": "Python 3.9.5 64-bit"
  },
  "metadata": {
   "interpreter": {
    "hash": "aee8b7b246df8f9039afb4144a1f6fd8d2ca17a180786b69acc140d282b71a49"
   }
  }
 },
 "nbformat": 4,
 "nbformat_minor": 2,
 "cells": [
  {
   "source": [
    "# 10. DataFrame 합치기"
   ],
   "cell_type": "markdown",
   "metadata": {}
  },
  {
   "cell_type": "code",
   "execution_count": 1,
   "metadata": {},
   "outputs": [],
   "source": [
    "import numpy as np \n",
    "import pandas as pd "
   ]
  },
  {
   "cell_type": "code",
   "execution_count": 2,
   "metadata": {},
   "outputs": [
    {
     "output_type": "execute_result",
     "data": {
      "text/plain": [
       "      이름     그룹      소속사  성별        생년월일      키 혈액형   브랜드평판지수\n",
       "0     지민  방탄소년단      빅히트  남자  1995-10-13  173.6   A  10523260\n",
       "1   지드래곤     빅뱅       YG  남자  1988-08-18  177.0   A   9916947\n",
       "2   강다니엘    NaN      커넥트  남자  1996-12-10  180.0   A   8273745\n",
       "3      뷔  방탄소년단      빅히트  남자  1995-12-30  178.0  AB   8073501\n",
       "4     화사    마마무      RBW  여자  1995-07-23  162.1   A   7650928\n",
       "5     정국  방탄소년단      빅히트  남자  1997-09-01  178.0   A   5208335\n",
       "6     민현   뉴이스트     플레디스  남자  1995-08-09  182.3   O   4989792\n",
       "7     소연    아이들       큐브  여자  1998-08-26    NaN   B   4668615\n",
       "8      진  방탄소년단      빅히트  남자  1992-12-04  179.2   O   4570308\n",
       "9    하성운     핫샷  스타크루이엔티  남자  1994-03-22  167.1   A   4036489\n",
       "10    태연   소녀시대       SM  여자  1989-03-09    NaN   A   3918661\n",
       "11   차은우   아스트로     판타지오  남자  1997-03-30  183.0   B   3506027\n",
       "12    백호   뉴이스트     플레디스  남자  1995-07-21  175.0  AB   3301654\n",
       "13    JR   뉴이스트     플레디스  남자  1995-06-08  176.0   O   3274137\n",
       "14    슈가  방탄소년단      빅히트  남자  1993-03-09  174.0   O   2925442"
      ],
      "text/html": "<div>\n<style scoped>\n    .dataframe tbody tr th:only-of-type {\n        vertical-align: middle;\n    }\n\n    .dataframe tbody tr th {\n        vertical-align: top;\n    }\n\n    .dataframe thead th {\n        text-align: right;\n    }\n</style>\n<table border=\"1\" class=\"dataframe\">\n  <thead>\n    <tr style=\"text-align: right;\">\n      <th></th>\n      <th>이름</th>\n      <th>그룹</th>\n      <th>소속사</th>\n      <th>성별</th>\n      <th>생년월일</th>\n      <th>키</th>\n      <th>혈액형</th>\n      <th>브랜드평판지수</th>\n    </tr>\n  </thead>\n  <tbody>\n    <tr>\n      <th>0</th>\n      <td>지민</td>\n      <td>방탄소년단</td>\n      <td>빅히트</td>\n      <td>남자</td>\n      <td>1995-10-13</td>\n      <td>173.6</td>\n      <td>A</td>\n      <td>10523260</td>\n    </tr>\n    <tr>\n      <th>1</th>\n      <td>지드래곤</td>\n      <td>빅뱅</td>\n      <td>YG</td>\n      <td>남자</td>\n      <td>1988-08-18</td>\n      <td>177.0</td>\n      <td>A</td>\n      <td>9916947</td>\n    </tr>\n    <tr>\n      <th>2</th>\n      <td>강다니엘</td>\n      <td>NaN</td>\n      <td>커넥트</td>\n      <td>남자</td>\n      <td>1996-12-10</td>\n      <td>180.0</td>\n      <td>A</td>\n      <td>8273745</td>\n    </tr>\n    <tr>\n      <th>3</th>\n      <td>뷔</td>\n      <td>방탄소년단</td>\n      <td>빅히트</td>\n      <td>남자</td>\n      <td>1995-12-30</td>\n      <td>178.0</td>\n      <td>AB</td>\n      <td>8073501</td>\n    </tr>\n    <tr>\n      <th>4</th>\n      <td>화사</td>\n      <td>마마무</td>\n      <td>RBW</td>\n      <td>여자</td>\n      <td>1995-07-23</td>\n      <td>162.1</td>\n      <td>A</td>\n      <td>7650928</td>\n    </tr>\n    <tr>\n      <th>5</th>\n      <td>정국</td>\n      <td>방탄소년단</td>\n      <td>빅히트</td>\n      <td>남자</td>\n      <td>1997-09-01</td>\n      <td>178.0</td>\n      <td>A</td>\n      <td>5208335</td>\n    </tr>\n    <tr>\n      <th>6</th>\n      <td>민현</td>\n      <td>뉴이스트</td>\n      <td>플레디스</td>\n      <td>남자</td>\n      <td>1995-08-09</td>\n      <td>182.3</td>\n      <td>O</td>\n      <td>4989792</td>\n    </tr>\n    <tr>\n      <th>7</th>\n      <td>소연</td>\n      <td>아이들</td>\n      <td>큐브</td>\n      <td>여자</td>\n      <td>1998-08-26</td>\n      <td>NaN</td>\n      <td>B</td>\n      <td>4668615</td>\n    </tr>\n    <tr>\n      <th>8</th>\n      <td>진</td>\n      <td>방탄소년단</td>\n      <td>빅히트</td>\n      <td>남자</td>\n      <td>1992-12-04</td>\n      <td>179.2</td>\n      <td>O</td>\n      <td>4570308</td>\n    </tr>\n    <tr>\n      <th>9</th>\n      <td>하성운</td>\n      <td>핫샷</td>\n      <td>스타크루이엔티</td>\n      <td>남자</td>\n      <td>1994-03-22</td>\n      <td>167.1</td>\n      <td>A</td>\n      <td>4036489</td>\n    </tr>\n    <tr>\n      <th>10</th>\n      <td>태연</td>\n      <td>소녀시대</td>\n      <td>SM</td>\n      <td>여자</td>\n      <td>1989-03-09</td>\n      <td>NaN</td>\n      <td>A</td>\n      <td>3918661</td>\n    </tr>\n    <tr>\n      <th>11</th>\n      <td>차은우</td>\n      <td>아스트로</td>\n      <td>판타지오</td>\n      <td>남자</td>\n      <td>1997-03-30</td>\n      <td>183.0</td>\n      <td>B</td>\n      <td>3506027</td>\n    </tr>\n    <tr>\n      <th>12</th>\n      <td>백호</td>\n      <td>뉴이스트</td>\n      <td>플레디스</td>\n      <td>남자</td>\n      <td>1995-07-21</td>\n      <td>175.0</td>\n      <td>AB</td>\n      <td>3301654</td>\n    </tr>\n    <tr>\n      <th>13</th>\n      <td>JR</td>\n      <td>뉴이스트</td>\n      <td>플레디스</td>\n      <td>남자</td>\n      <td>1995-06-08</td>\n      <td>176.0</td>\n      <td>O</td>\n      <td>3274137</td>\n    </tr>\n    <tr>\n      <th>14</th>\n      <td>슈가</td>\n      <td>방탄소년단</td>\n      <td>빅히트</td>\n      <td>남자</td>\n      <td>1993-03-09</td>\n      <td>174.0</td>\n      <td>O</td>\n      <td>2925442</td>\n    </tr>\n  </tbody>\n</table>\n</div>"
     },
     "metadata": {},
     "execution_count": 2
    }
   ],
   "source": [
    "d = pd.read_csv('../data/korean-idol.csv')\n",
    "d"
   ]
  },
  {
   "cell_type": "code",
   "execution_count": 3,
   "metadata": {},
   "outputs": [
    {
     "output_type": "execute_result",
     "data": {
      "text/plain": [
       "      이름    연봉  가족수\n",
       "0     지민  3000    3\n",
       "1   지드래곤  3500    3\n",
       "2   강다니엘  3200    4\n",
       "3      뷔  3050    4\n",
       "4     화사  4300    3\n",
       "5     정국  2900    5\n",
       "6     민현  3400    6\n",
       "7     소연  4500    5\n",
       "8      진  4200    4\n",
       "9    하성운  4300    4\n",
       "10    태연  3700    3\n",
       "11   차은우  3850    5\n",
       "12    백호  3900    4\n",
       "13    JR  4100    3\n",
       "14    슈가  4150    3"
      ],
      "text/html": "<div>\n<style scoped>\n    .dataframe tbody tr th:only-of-type {\n        vertical-align: middle;\n    }\n\n    .dataframe tbody tr th {\n        vertical-align: top;\n    }\n\n    .dataframe thead th {\n        text-align: right;\n    }\n</style>\n<table border=\"1\" class=\"dataframe\">\n  <thead>\n    <tr style=\"text-align: right;\">\n      <th></th>\n      <th>이름</th>\n      <th>연봉</th>\n      <th>가족수</th>\n    </tr>\n  </thead>\n  <tbody>\n    <tr>\n      <th>0</th>\n      <td>지민</td>\n      <td>3000</td>\n      <td>3</td>\n    </tr>\n    <tr>\n      <th>1</th>\n      <td>지드래곤</td>\n      <td>3500</td>\n      <td>3</td>\n    </tr>\n    <tr>\n      <th>2</th>\n      <td>강다니엘</td>\n      <td>3200</td>\n      <td>4</td>\n    </tr>\n    <tr>\n      <th>3</th>\n      <td>뷔</td>\n      <td>3050</td>\n      <td>4</td>\n    </tr>\n    <tr>\n      <th>4</th>\n      <td>화사</td>\n      <td>4300</td>\n      <td>3</td>\n    </tr>\n    <tr>\n      <th>5</th>\n      <td>정국</td>\n      <td>2900</td>\n      <td>5</td>\n    </tr>\n    <tr>\n      <th>6</th>\n      <td>민현</td>\n      <td>3400</td>\n      <td>6</td>\n    </tr>\n    <tr>\n      <th>7</th>\n      <td>소연</td>\n      <td>4500</td>\n      <td>5</td>\n    </tr>\n    <tr>\n      <th>8</th>\n      <td>진</td>\n      <td>4200</td>\n      <td>4</td>\n    </tr>\n    <tr>\n      <th>9</th>\n      <td>하성운</td>\n      <td>4300</td>\n      <td>4</td>\n    </tr>\n    <tr>\n      <th>10</th>\n      <td>태연</td>\n      <td>3700</td>\n      <td>3</td>\n    </tr>\n    <tr>\n      <th>11</th>\n      <td>차은우</td>\n      <td>3850</td>\n      <td>5</td>\n    </tr>\n    <tr>\n      <th>12</th>\n      <td>백호</td>\n      <td>3900</td>\n      <td>4</td>\n    </tr>\n    <tr>\n      <th>13</th>\n      <td>JR</td>\n      <td>4100</td>\n      <td>3</td>\n    </tr>\n    <tr>\n      <th>14</th>\n      <td>슈가</td>\n      <td>4150</td>\n      <td>3</td>\n    </tr>\n  </tbody>\n</table>\n</div>"
     },
     "metadata": {},
     "execution_count": 3
    }
   ],
   "source": [
    "d2 = pd.read_csv('http://bit.ly/ds-korean-idol-2')\n",
    "d2"
   ]
  },
  {
   "source": [
    "## 10-1. DataFrame 합치기 (concat)"
   ],
   "cell_type": "markdown",
   "metadata": {}
  },
  {
   "source": [
    "### Raw 기준으로 합치기"
   ],
   "cell_type": "markdown",
   "metadata": {}
  },
  {
   "cell_type": "code",
   "execution_count": 4,
   "metadata": {},
   "outputs": [
    {
     "output_type": "execute_result",
     "data": {
      "text/plain": [
       "     이름     그룹  소속사  성별        생년월일      키 혈액형   브랜드평판지수\n",
       "0    지민  방탄소년단  빅히트  남자  1995-10-13  173.6   A  10523260\n",
       "1  지드래곤     빅뱅   YG  남자  1988-08-18  177.0   A   9916947\n",
       "2  강다니엘    NaN  커넥트  남자  1996-12-10  180.0   A   8273745\n",
       "3     뷔  방탄소년단  빅히트  남자  1995-12-30  178.0  AB   8073501\n",
       "4    화사    마마무  RBW  여자  1995-07-23  162.1   A   7650928"
      ],
      "text/html": "<div>\n<style scoped>\n    .dataframe tbody tr th:only-of-type {\n        vertical-align: middle;\n    }\n\n    .dataframe tbody tr th {\n        vertical-align: top;\n    }\n\n    .dataframe thead th {\n        text-align: right;\n    }\n</style>\n<table border=\"1\" class=\"dataframe\">\n  <thead>\n    <tr style=\"text-align: right;\">\n      <th></th>\n      <th>이름</th>\n      <th>그룹</th>\n      <th>소속사</th>\n      <th>성별</th>\n      <th>생년월일</th>\n      <th>키</th>\n      <th>혈액형</th>\n      <th>브랜드평판지수</th>\n    </tr>\n  </thead>\n  <tbody>\n    <tr>\n      <th>0</th>\n      <td>지민</td>\n      <td>방탄소년단</td>\n      <td>빅히트</td>\n      <td>남자</td>\n      <td>1995-10-13</td>\n      <td>173.6</td>\n      <td>A</td>\n      <td>10523260</td>\n    </tr>\n    <tr>\n      <th>1</th>\n      <td>지드래곤</td>\n      <td>빅뱅</td>\n      <td>YG</td>\n      <td>남자</td>\n      <td>1988-08-18</td>\n      <td>177.0</td>\n      <td>A</td>\n      <td>9916947</td>\n    </tr>\n    <tr>\n      <th>2</th>\n      <td>강다니엘</td>\n      <td>NaN</td>\n      <td>커넥트</td>\n      <td>남자</td>\n      <td>1996-12-10</td>\n      <td>180.0</td>\n      <td>A</td>\n      <td>8273745</td>\n    </tr>\n    <tr>\n      <th>3</th>\n      <td>뷔</td>\n      <td>방탄소년단</td>\n      <td>빅히트</td>\n      <td>남자</td>\n      <td>1995-12-30</td>\n      <td>178.0</td>\n      <td>AB</td>\n      <td>8073501</td>\n    </tr>\n    <tr>\n      <th>4</th>\n      <td>화사</td>\n      <td>마마무</td>\n      <td>RBW</td>\n      <td>여자</td>\n      <td>1995-07-23</td>\n      <td>162.1</td>\n      <td>A</td>\n      <td>7650928</td>\n    </tr>\n  </tbody>\n</table>\n</div>"
     },
     "metadata": {},
     "execution_count": 4
    }
   ],
   "source": [
    "d_copy = d.copy()\n",
    "d_copy.head()"
   ]
  },
  {
   "cell_type": "code",
   "execution_count": 5,
   "metadata": {},
   "outputs": [
    {
     "output_type": "execute_result",
     "data": {
      "text/plain": [
       "      이름     그룹      소속사  성별        생년월일      키 혈액형   브랜드평판지수\n",
       "0     지민  방탄소년단      빅히트  남자  1995-10-13  173.6   A  10523260\n",
       "1   지드래곤     빅뱅       YG  남자  1988-08-18  177.0   A   9916947\n",
       "2   강다니엘    NaN      커넥트  남자  1996-12-10  180.0   A   8273745\n",
       "3      뷔  방탄소년단      빅히트  남자  1995-12-30  178.0  AB   8073501\n",
       "4     화사    마마무      RBW  여자  1995-07-23  162.1   A   7650928\n",
       "5     정국  방탄소년단      빅히트  남자  1997-09-01  178.0   A   5208335\n",
       "6     민현   뉴이스트     플레디스  남자  1995-08-09  182.3   O   4989792\n",
       "7     소연    아이들       큐브  여자  1998-08-26    NaN   B   4668615\n",
       "8      진  방탄소년단      빅히트  남자  1992-12-04  179.2   O   4570308\n",
       "9    하성운     핫샷  스타크루이엔티  남자  1994-03-22  167.1   A   4036489\n",
       "10    태연   소녀시대       SM  여자  1989-03-09    NaN   A   3918661\n",
       "11   차은우   아스트로     판타지오  남자  1997-03-30  183.0   B   3506027\n",
       "12    백호   뉴이스트     플레디스  남자  1995-07-21  175.0  AB   3301654\n",
       "13    JR   뉴이스트     플레디스  남자  1995-06-08  176.0   O   3274137\n",
       "14    슈가  방탄소년단      빅히트  남자  1993-03-09  174.0   O   2925442\n",
       "0     지민  방탄소년단      빅히트  남자  1995-10-13  173.6   A  10523260\n",
       "1   지드래곤     빅뱅       YG  남자  1988-08-18  177.0   A   9916947\n",
       "2   강다니엘    NaN      커넥트  남자  1996-12-10  180.0   A   8273745\n",
       "3      뷔  방탄소년단      빅히트  남자  1995-12-30  178.0  AB   8073501\n",
       "4     화사    마마무      RBW  여자  1995-07-23  162.1   A   7650928\n",
       "5     정국  방탄소년단      빅히트  남자  1997-09-01  178.0   A   5208335\n",
       "6     민현   뉴이스트     플레디스  남자  1995-08-09  182.3   O   4989792\n",
       "7     소연    아이들       큐브  여자  1998-08-26    NaN   B   4668615\n",
       "8      진  방탄소년단      빅히트  남자  1992-12-04  179.2   O   4570308\n",
       "9    하성운     핫샷  스타크루이엔티  남자  1994-03-22  167.1   A   4036489\n",
       "10    태연   소녀시대       SM  여자  1989-03-09    NaN   A   3918661\n",
       "11   차은우   아스트로     판타지오  남자  1997-03-30  183.0   B   3506027\n",
       "12    백호   뉴이스트     플레디스  남자  1995-07-21  175.0  AB   3301654\n",
       "13    JR   뉴이스트     플레디스  남자  1995-06-08  176.0   O   3274137\n",
       "14    슈가  방탄소년단      빅히트  남자  1993-03-09  174.0   O   2925442"
      ],
      "text/html": "<div>\n<style scoped>\n    .dataframe tbody tr th:only-of-type {\n        vertical-align: middle;\n    }\n\n    .dataframe tbody tr th {\n        vertical-align: top;\n    }\n\n    .dataframe thead th {\n        text-align: right;\n    }\n</style>\n<table border=\"1\" class=\"dataframe\">\n  <thead>\n    <tr style=\"text-align: right;\">\n      <th></th>\n      <th>이름</th>\n      <th>그룹</th>\n      <th>소속사</th>\n      <th>성별</th>\n      <th>생년월일</th>\n      <th>키</th>\n      <th>혈액형</th>\n      <th>브랜드평판지수</th>\n    </tr>\n  </thead>\n  <tbody>\n    <tr>\n      <th>0</th>\n      <td>지민</td>\n      <td>방탄소년단</td>\n      <td>빅히트</td>\n      <td>남자</td>\n      <td>1995-10-13</td>\n      <td>173.6</td>\n      <td>A</td>\n      <td>10523260</td>\n    </tr>\n    <tr>\n      <th>1</th>\n      <td>지드래곤</td>\n      <td>빅뱅</td>\n      <td>YG</td>\n      <td>남자</td>\n      <td>1988-08-18</td>\n      <td>177.0</td>\n      <td>A</td>\n      <td>9916947</td>\n    </tr>\n    <tr>\n      <th>2</th>\n      <td>강다니엘</td>\n      <td>NaN</td>\n      <td>커넥트</td>\n      <td>남자</td>\n      <td>1996-12-10</td>\n      <td>180.0</td>\n      <td>A</td>\n      <td>8273745</td>\n    </tr>\n    <tr>\n      <th>3</th>\n      <td>뷔</td>\n      <td>방탄소년단</td>\n      <td>빅히트</td>\n      <td>남자</td>\n      <td>1995-12-30</td>\n      <td>178.0</td>\n      <td>AB</td>\n      <td>8073501</td>\n    </tr>\n    <tr>\n      <th>4</th>\n      <td>화사</td>\n      <td>마마무</td>\n      <td>RBW</td>\n      <td>여자</td>\n      <td>1995-07-23</td>\n      <td>162.1</td>\n      <td>A</td>\n      <td>7650928</td>\n    </tr>\n    <tr>\n      <th>5</th>\n      <td>정국</td>\n      <td>방탄소년단</td>\n      <td>빅히트</td>\n      <td>남자</td>\n      <td>1997-09-01</td>\n      <td>178.0</td>\n      <td>A</td>\n      <td>5208335</td>\n    </tr>\n    <tr>\n      <th>6</th>\n      <td>민현</td>\n      <td>뉴이스트</td>\n      <td>플레디스</td>\n      <td>남자</td>\n      <td>1995-08-09</td>\n      <td>182.3</td>\n      <td>O</td>\n      <td>4989792</td>\n    </tr>\n    <tr>\n      <th>7</th>\n      <td>소연</td>\n      <td>아이들</td>\n      <td>큐브</td>\n      <td>여자</td>\n      <td>1998-08-26</td>\n      <td>NaN</td>\n      <td>B</td>\n      <td>4668615</td>\n    </tr>\n    <tr>\n      <th>8</th>\n      <td>진</td>\n      <td>방탄소년단</td>\n      <td>빅히트</td>\n      <td>남자</td>\n      <td>1992-12-04</td>\n      <td>179.2</td>\n      <td>O</td>\n      <td>4570308</td>\n    </tr>\n    <tr>\n      <th>9</th>\n      <td>하성운</td>\n      <td>핫샷</td>\n      <td>스타크루이엔티</td>\n      <td>남자</td>\n      <td>1994-03-22</td>\n      <td>167.1</td>\n      <td>A</td>\n      <td>4036489</td>\n    </tr>\n    <tr>\n      <th>10</th>\n      <td>태연</td>\n      <td>소녀시대</td>\n      <td>SM</td>\n      <td>여자</td>\n      <td>1989-03-09</td>\n      <td>NaN</td>\n      <td>A</td>\n      <td>3918661</td>\n    </tr>\n    <tr>\n      <th>11</th>\n      <td>차은우</td>\n      <td>아스트로</td>\n      <td>판타지오</td>\n      <td>남자</td>\n      <td>1997-03-30</td>\n      <td>183.0</td>\n      <td>B</td>\n      <td>3506027</td>\n    </tr>\n    <tr>\n      <th>12</th>\n      <td>백호</td>\n      <td>뉴이스트</td>\n      <td>플레디스</td>\n      <td>남자</td>\n      <td>1995-07-21</td>\n      <td>175.0</td>\n      <td>AB</td>\n      <td>3301654</td>\n    </tr>\n    <tr>\n      <th>13</th>\n      <td>JR</td>\n      <td>뉴이스트</td>\n      <td>플레디스</td>\n      <td>남자</td>\n      <td>1995-06-08</td>\n      <td>176.0</td>\n      <td>O</td>\n      <td>3274137</td>\n    </tr>\n    <tr>\n      <th>14</th>\n      <td>슈가</td>\n      <td>방탄소년단</td>\n      <td>빅히트</td>\n      <td>남자</td>\n      <td>1993-03-09</td>\n      <td>174.0</td>\n      <td>O</td>\n      <td>2925442</td>\n    </tr>\n    <tr>\n      <th>0</th>\n      <td>지민</td>\n      <td>방탄소년단</td>\n      <td>빅히트</td>\n      <td>남자</td>\n      <td>1995-10-13</td>\n      <td>173.6</td>\n      <td>A</td>\n      <td>10523260</td>\n    </tr>\n    <tr>\n      <th>1</th>\n      <td>지드래곤</td>\n      <td>빅뱅</td>\n      <td>YG</td>\n      <td>남자</td>\n      <td>1988-08-18</td>\n      <td>177.0</td>\n      <td>A</td>\n      <td>9916947</td>\n    </tr>\n    <tr>\n      <th>2</th>\n      <td>강다니엘</td>\n      <td>NaN</td>\n      <td>커넥트</td>\n      <td>남자</td>\n      <td>1996-12-10</td>\n      <td>180.0</td>\n      <td>A</td>\n      <td>8273745</td>\n    </tr>\n    <tr>\n      <th>3</th>\n      <td>뷔</td>\n      <td>방탄소년단</td>\n      <td>빅히트</td>\n      <td>남자</td>\n      <td>1995-12-30</td>\n      <td>178.0</td>\n      <td>AB</td>\n      <td>8073501</td>\n    </tr>\n    <tr>\n      <th>4</th>\n      <td>화사</td>\n      <td>마마무</td>\n      <td>RBW</td>\n      <td>여자</td>\n      <td>1995-07-23</td>\n      <td>162.1</td>\n      <td>A</td>\n      <td>7650928</td>\n    </tr>\n    <tr>\n      <th>5</th>\n      <td>정국</td>\n      <td>방탄소년단</td>\n      <td>빅히트</td>\n      <td>남자</td>\n      <td>1997-09-01</td>\n      <td>178.0</td>\n      <td>A</td>\n      <td>5208335</td>\n    </tr>\n    <tr>\n      <th>6</th>\n      <td>민현</td>\n      <td>뉴이스트</td>\n      <td>플레디스</td>\n      <td>남자</td>\n      <td>1995-08-09</td>\n      <td>182.3</td>\n      <td>O</td>\n      <td>4989792</td>\n    </tr>\n    <tr>\n      <th>7</th>\n      <td>소연</td>\n      <td>아이들</td>\n      <td>큐브</td>\n      <td>여자</td>\n      <td>1998-08-26</td>\n      <td>NaN</td>\n      <td>B</td>\n      <td>4668615</td>\n    </tr>\n    <tr>\n      <th>8</th>\n      <td>진</td>\n      <td>방탄소년단</td>\n      <td>빅히트</td>\n      <td>남자</td>\n      <td>1992-12-04</td>\n      <td>179.2</td>\n      <td>O</td>\n      <td>4570308</td>\n    </tr>\n    <tr>\n      <th>9</th>\n      <td>하성운</td>\n      <td>핫샷</td>\n      <td>스타크루이엔티</td>\n      <td>남자</td>\n      <td>1994-03-22</td>\n      <td>167.1</td>\n      <td>A</td>\n      <td>4036489</td>\n    </tr>\n    <tr>\n      <th>10</th>\n      <td>태연</td>\n      <td>소녀시대</td>\n      <td>SM</td>\n      <td>여자</td>\n      <td>1989-03-09</td>\n      <td>NaN</td>\n      <td>A</td>\n      <td>3918661</td>\n    </tr>\n    <tr>\n      <th>11</th>\n      <td>차은우</td>\n      <td>아스트로</td>\n      <td>판타지오</td>\n      <td>남자</td>\n      <td>1997-03-30</td>\n      <td>183.0</td>\n      <td>B</td>\n      <td>3506027</td>\n    </tr>\n    <tr>\n      <th>12</th>\n      <td>백호</td>\n      <td>뉴이스트</td>\n      <td>플레디스</td>\n      <td>남자</td>\n      <td>1995-07-21</td>\n      <td>175.0</td>\n      <td>AB</td>\n      <td>3301654</td>\n    </tr>\n    <tr>\n      <th>13</th>\n      <td>JR</td>\n      <td>뉴이스트</td>\n      <td>플레디스</td>\n      <td>남자</td>\n      <td>1995-06-08</td>\n      <td>176.0</td>\n      <td>O</td>\n      <td>3274137</td>\n    </tr>\n    <tr>\n      <th>14</th>\n      <td>슈가</td>\n      <td>방탄소년단</td>\n      <td>빅히트</td>\n      <td>남자</td>\n      <td>1993-03-09</td>\n      <td>174.0</td>\n      <td>O</td>\n      <td>2925442</td>\n    </tr>\n  </tbody>\n</table>\n</div>"
     },
     "metadata": {},
     "execution_count": 5
    }
   ],
   "source": [
    "d_concat = pd.concat([d,d_copy])\n",
    "d_concat"
   ]
  },
  {
   "cell_type": "code",
   "execution_count": 6,
   "metadata": {},
   "outputs": [
    {
     "output_type": "execute_result",
     "data": {
      "text/plain": [
       "      이름     그룹      소속사  성별        생년월일      키 혈액형   브랜드평판지수\n",
       "0     지민  방탄소년단      빅히트  남자  1995-10-13  173.6   A  10523260\n",
       "1   지드래곤     빅뱅       YG  남자  1988-08-18  177.0   A   9916947\n",
       "2   강다니엘    NaN      커넥트  남자  1996-12-10  180.0   A   8273745\n",
       "3      뷔  방탄소년단      빅히트  남자  1995-12-30  178.0  AB   8073501\n",
       "4     화사    마마무      RBW  여자  1995-07-23  162.1   A   7650928\n",
       "5     정국  방탄소년단      빅히트  남자  1997-09-01  178.0   A   5208335\n",
       "6     민현   뉴이스트     플레디스  남자  1995-08-09  182.3   O   4989792\n",
       "7     소연    아이들       큐브  여자  1998-08-26    NaN   B   4668615\n",
       "8      진  방탄소년단      빅히트  남자  1992-12-04  179.2   O   4570308\n",
       "9    하성운     핫샷  스타크루이엔티  남자  1994-03-22  167.1   A   4036489\n",
       "10    태연   소녀시대       SM  여자  1989-03-09    NaN   A   3918661\n",
       "11   차은우   아스트로     판타지오  남자  1997-03-30  183.0   B   3506027\n",
       "12    백호   뉴이스트     플레디스  남자  1995-07-21  175.0  AB   3301654\n",
       "13    JR   뉴이스트     플레디스  남자  1995-06-08  176.0   O   3274137\n",
       "14    슈가  방탄소년단      빅히트  남자  1993-03-09  174.0   O   2925442\n",
       "15    지민  방탄소년단      빅히트  남자  1995-10-13  173.6   A  10523260\n",
       "16  지드래곤     빅뱅       YG  남자  1988-08-18  177.0   A   9916947\n",
       "17  강다니엘    NaN      커넥트  남자  1996-12-10  180.0   A   8273745\n",
       "18     뷔  방탄소년단      빅히트  남자  1995-12-30  178.0  AB   8073501\n",
       "19    화사    마마무      RBW  여자  1995-07-23  162.1   A   7650928\n",
       "20    정국  방탄소년단      빅히트  남자  1997-09-01  178.0   A   5208335\n",
       "21    민현   뉴이스트     플레디스  남자  1995-08-09  182.3   O   4989792\n",
       "22    소연    아이들       큐브  여자  1998-08-26    NaN   B   4668615\n",
       "23     진  방탄소년단      빅히트  남자  1992-12-04  179.2   O   4570308\n",
       "24   하성운     핫샷  스타크루이엔티  남자  1994-03-22  167.1   A   4036489\n",
       "25    태연   소녀시대       SM  여자  1989-03-09    NaN   A   3918661\n",
       "26   차은우   아스트로     판타지오  남자  1997-03-30  183.0   B   3506027\n",
       "27    백호   뉴이스트     플레디스  남자  1995-07-21  175.0  AB   3301654\n",
       "28    JR   뉴이스트     플레디스  남자  1995-06-08  176.0   O   3274137\n",
       "29    슈가  방탄소년단      빅히트  남자  1993-03-09  174.0   O   2925442"
      ],
      "text/html": "<div>\n<style scoped>\n    .dataframe tbody tr th:only-of-type {\n        vertical-align: middle;\n    }\n\n    .dataframe tbody tr th {\n        vertical-align: top;\n    }\n\n    .dataframe thead th {\n        text-align: right;\n    }\n</style>\n<table border=\"1\" class=\"dataframe\">\n  <thead>\n    <tr style=\"text-align: right;\">\n      <th></th>\n      <th>이름</th>\n      <th>그룹</th>\n      <th>소속사</th>\n      <th>성별</th>\n      <th>생년월일</th>\n      <th>키</th>\n      <th>혈액형</th>\n      <th>브랜드평판지수</th>\n    </tr>\n  </thead>\n  <tbody>\n    <tr>\n      <th>0</th>\n      <td>지민</td>\n      <td>방탄소년단</td>\n      <td>빅히트</td>\n      <td>남자</td>\n      <td>1995-10-13</td>\n      <td>173.6</td>\n      <td>A</td>\n      <td>10523260</td>\n    </tr>\n    <tr>\n      <th>1</th>\n      <td>지드래곤</td>\n      <td>빅뱅</td>\n      <td>YG</td>\n      <td>남자</td>\n      <td>1988-08-18</td>\n      <td>177.0</td>\n      <td>A</td>\n      <td>9916947</td>\n    </tr>\n    <tr>\n      <th>2</th>\n      <td>강다니엘</td>\n      <td>NaN</td>\n      <td>커넥트</td>\n      <td>남자</td>\n      <td>1996-12-10</td>\n      <td>180.0</td>\n      <td>A</td>\n      <td>8273745</td>\n    </tr>\n    <tr>\n      <th>3</th>\n      <td>뷔</td>\n      <td>방탄소년단</td>\n      <td>빅히트</td>\n      <td>남자</td>\n      <td>1995-12-30</td>\n      <td>178.0</td>\n      <td>AB</td>\n      <td>8073501</td>\n    </tr>\n    <tr>\n      <th>4</th>\n      <td>화사</td>\n      <td>마마무</td>\n      <td>RBW</td>\n      <td>여자</td>\n      <td>1995-07-23</td>\n      <td>162.1</td>\n      <td>A</td>\n      <td>7650928</td>\n    </tr>\n    <tr>\n      <th>5</th>\n      <td>정국</td>\n      <td>방탄소년단</td>\n      <td>빅히트</td>\n      <td>남자</td>\n      <td>1997-09-01</td>\n      <td>178.0</td>\n      <td>A</td>\n      <td>5208335</td>\n    </tr>\n    <tr>\n      <th>6</th>\n      <td>민현</td>\n      <td>뉴이스트</td>\n      <td>플레디스</td>\n      <td>남자</td>\n      <td>1995-08-09</td>\n      <td>182.3</td>\n      <td>O</td>\n      <td>4989792</td>\n    </tr>\n    <tr>\n      <th>7</th>\n      <td>소연</td>\n      <td>아이들</td>\n      <td>큐브</td>\n      <td>여자</td>\n      <td>1998-08-26</td>\n      <td>NaN</td>\n      <td>B</td>\n      <td>4668615</td>\n    </tr>\n    <tr>\n      <th>8</th>\n      <td>진</td>\n      <td>방탄소년단</td>\n      <td>빅히트</td>\n      <td>남자</td>\n      <td>1992-12-04</td>\n      <td>179.2</td>\n      <td>O</td>\n      <td>4570308</td>\n    </tr>\n    <tr>\n      <th>9</th>\n      <td>하성운</td>\n      <td>핫샷</td>\n      <td>스타크루이엔티</td>\n      <td>남자</td>\n      <td>1994-03-22</td>\n      <td>167.1</td>\n      <td>A</td>\n      <td>4036489</td>\n    </tr>\n    <tr>\n      <th>10</th>\n      <td>태연</td>\n      <td>소녀시대</td>\n      <td>SM</td>\n      <td>여자</td>\n      <td>1989-03-09</td>\n      <td>NaN</td>\n      <td>A</td>\n      <td>3918661</td>\n    </tr>\n    <tr>\n      <th>11</th>\n      <td>차은우</td>\n      <td>아스트로</td>\n      <td>판타지오</td>\n      <td>남자</td>\n      <td>1997-03-30</td>\n      <td>183.0</td>\n      <td>B</td>\n      <td>3506027</td>\n    </tr>\n    <tr>\n      <th>12</th>\n      <td>백호</td>\n      <td>뉴이스트</td>\n      <td>플레디스</td>\n      <td>남자</td>\n      <td>1995-07-21</td>\n      <td>175.0</td>\n      <td>AB</td>\n      <td>3301654</td>\n    </tr>\n    <tr>\n      <th>13</th>\n      <td>JR</td>\n      <td>뉴이스트</td>\n      <td>플레디스</td>\n      <td>남자</td>\n      <td>1995-06-08</td>\n      <td>176.0</td>\n      <td>O</td>\n      <td>3274137</td>\n    </tr>\n    <tr>\n      <th>14</th>\n      <td>슈가</td>\n      <td>방탄소년단</td>\n      <td>빅히트</td>\n      <td>남자</td>\n      <td>1993-03-09</td>\n      <td>174.0</td>\n      <td>O</td>\n      <td>2925442</td>\n    </tr>\n    <tr>\n      <th>15</th>\n      <td>지민</td>\n      <td>방탄소년단</td>\n      <td>빅히트</td>\n      <td>남자</td>\n      <td>1995-10-13</td>\n      <td>173.6</td>\n      <td>A</td>\n      <td>10523260</td>\n    </tr>\n    <tr>\n      <th>16</th>\n      <td>지드래곤</td>\n      <td>빅뱅</td>\n      <td>YG</td>\n      <td>남자</td>\n      <td>1988-08-18</td>\n      <td>177.0</td>\n      <td>A</td>\n      <td>9916947</td>\n    </tr>\n    <tr>\n      <th>17</th>\n      <td>강다니엘</td>\n      <td>NaN</td>\n      <td>커넥트</td>\n      <td>남자</td>\n      <td>1996-12-10</td>\n      <td>180.0</td>\n      <td>A</td>\n      <td>8273745</td>\n    </tr>\n    <tr>\n      <th>18</th>\n      <td>뷔</td>\n      <td>방탄소년단</td>\n      <td>빅히트</td>\n      <td>남자</td>\n      <td>1995-12-30</td>\n      <td>178.0</td>\n      <td>AB</td>\n      <td>8073501</td>\n    </tr>\n    <tr>\n      <th>19</th>\n      <td>화사</td>\n      <td>마마무</td>\n      <td>RBW</td>\n      <td>여자</td>\n      <td>1995-07-23</td>\n      <td>162.1</td>\n      <td>A</td>\n      <td>7650928</td>\n    </tr>\n    <tr>\n      <th>20</th>\n      <td>정국</td>\n      <td>방탄소년단</td>\n      <td>빅히트</td>\n      <td>남자</td>\n      <td>1997-09-01</td>\n      <td>178.0</td>\n      <td>A</td>\n      <td>5208335</td>\n    </tr>\n    <tr>\n      <th>21</th>\n      <td>민현</td>\n      <td>뉴이스트</td>\n      <td>플레디스</td>\n      <td>남자</td>\n      <td>1995-08-09</td>\n      <td>182.3</td>\n      <td>O</td>\n      <td>4989792</td>\n    </tr>\n    <tr>\n      <th>22</th>\n      <td>소연</td>\n      <td>아이들</td>\n      <td>큐브</td>\n      <td>여자</td>\n      <td>1998-08-26</td>\n      <td>NaN</td>\n      <td>B</td>\n      <td>4668615</td>\n    </tr>\n    <tr>\n      <th>23</th>\n      <td>진</td>\n      <td>방탄소년단</td>\n      <td>빅히트</td>\n      <td>남자</td>\n      <td>1992-12-04</td>\n      <td>179.2</td>\n      <td>O</td>\n      <td>4570308</td>\n    </tr>\n    <tr>\n      <th>24</th>\n      <td>하성운</td>\n      <td>핫샷</td>\n      <td>스타크루이엔티</td>\n      <td>남자</td>\n      <td>1994-03-22</td>\n      <td>167.1</td>\n      <td>A</td>\n      <td>4036489</td>\n    </tr>\n    <tr>\n      <th>25</th>\n      <td>태연</td>\n      <td>소녀시대</td>\n      <td>SM</td>\n      <td>여자</td>\n      <td>1989-03-09</td>\n      <td>NaN</td>\n      <td>A</td>\n      <td>3918661</td>\n    </tr>\n    <tr>\n      <th>26</th>\n      <td>차은우</td>\n      <td>아스트로</td>\n      <td>판타지오</td>\n      <td>남자</td>\n      <td>1997-03-30</td>\n      <td>183.0</td>\n      <td>B</td>\n      <td>3506027</td>\n    </tr>\n    <tr>\n      <th>27</th>\n      <td>백호</td>\n      <td>뉴이스트</td>\n      <td>플레디스</td>\n      <td>남자</td>\n      <td>1995-07-21</td>\n      <td>175.0</td>\n      <td>AB</td>\n      <td>3301654</td>\n    </tr>\n    <tr>\n      <th>28</th>\n      <td>JR</td>\n      <td>뉴이스트</td>\n      <td>플레디스</td>\n      <td>남자</td>\n      <td>1995-06-08</td>\n      <td>176.0</td>\n      <td>O</td>\n      <td>3274137</td>\n    </tr>\n    <tr>\n      <th>29</th>\n      <td>슈가</td>\n      <td>방탄소년단</td>\n      <td>빅히트</td>\n      <td>남자</td>\n      <td>1993-03-09</td>\n      <td>174.0</td>\n      <td>O</td>\n      <td>2925442</td>\n    </tr>\n  </tbody>\n</table>\n</div>"
     },
     "metadata": {},
     "execution_count": 6
    }
   ],
   "source": [
    "d_concat.reset_index(drop=True)"
   ]
  },
  {
   "cell_type": "code",
   "execution_count": 7,
   "metadata": {},
   "outputs": [
    {
     "output_type": "execute_result",
     "data": {
      "text/plain": [
       "      이름     그룹      소속사  성별        생년월일      키 혈액형   브랜드평판지수    이름    연봉  가족수\n",
       "0     지민  방탄소년단      빅히트  남자  1995-10-13  173.6   A  10523260    지민  3000    3\n",
       "1   지드래곤     빅뱅       YG  남자  1988-08-18  177.0   A   9916947  지드래곤  3500    3\n",
       "2   강다니엘    NaN      커넥트  남자  1996-12-10  180.0   A   8273745  강다니엘  3200    4\n",
       "3      뷔  방탄소년단      빅히트  남자  1995-12-30  178.0  AB   8073501     뷔  3050    4\n",
       "4     화사    마마무      RBW  여자  1995-07-23  162.1   A   7650928    화사  4300    3\n",
       "5     정국  방탄소년단      빅히트  남자  1997-09-01  178.0   A   5208335    정국  2900    5\n",
       "6     민현   뉴이스트     플레디스  남자  1995-08-09  182.3   O   4989792    민현  3400    6\n",
       "7     소연    아이들       큐브  여자  1998-08-26    NaN   B   4668615    소연  4500    5\n",
       "8      진  방탄소년단      빅히트  남자  1992-12-04  179.2   O   4570308     진  4200    4\n",
       "9    하성운     핫샷  스타크루이엔티  남자  1994-03-22  167.1   A   4036489   하성운  4300    4\n",
       "10    태연   소녀시대       SM  여자  1989-03-09    NaN   A   3918661    태연  3700    3\n",
       "11   차은우   아스트로     판타지오  남자  1997-03-30  183.0   B   3506027   차은우  3850    5\n",
       "12    백호   뉴이스트     플레디스  남자  1995-07-21  175.0  AB   3301654    백호  3900    4\n",
       "13    JR   뉴이스트     플레디스  남자  1995-06-08  176.0   O   3274137    JR  4100    3\n",
       "14    슈가  방탄소년단      빅히트  남자  1993-03-09  174.0   O   2925442    슈가  4150    3"
      ],
      "text/html": "<div>\n<style scoped>\n    .dataframe tbody tr th:only-of-type {\n        vertical-align: middle;\n    }\n\n    .dataframe tbody tr th {\n        vertical-align: top;\n    }\n\n    .dataframe thead th {\n        text-align: right;\n    }\n</style>\n<table border=\"1\" class=\"dataframe\">\n  <thead>\n    <tr style=\"text-align: right;\">\n      <th></th>\n      <th>이름</th>\n      <th>그룹</th>\n      <th>소속사</th>\n      <th>성별</th>\n      <th>생년월일</th>\n      <th>키</th>\n      <th>혈액형</th>\n      <th>브랜드평판지수</th>\n      <th>이름</th>\n      <th>연봉</th>\n      <th>가족수</th>\n    </tr>\n  </thead>\n  <tbody>\n    <tr>\n      <th>0</th>\n      <td>지민</td>\n      <td>방탄소년단</td>\n      <td>빅히트</td>\n      <td>남자</td>\n      <td>1995-10-13</td>\n      <td>173.6</td>\n      <td>A</td>\n      <td>10523260</td>\n      <td>지민</td>\n      <td>3000</td>\n      <td>3</td>\n    </tr>\n    <tr>\n      <th>1</th>\n      <td>지드래곤</td>\n      <td>빅뱅</td>\n      <td>YG</td>\n      <td>남자</td>\n      <td>1988-08-18</td>\n      <td>177.0</td>\n      <td>A</td>\n      <td>9916947</td>\n      <td>지드래곤</td>\n      <td>3500</td>\n      <td>3</td>\n    </tr>\n    <tr>\n      <th>2</th>\n      <td>강다니엘</td>\n      <td>NaN</td>\n      <td>커넥트</td>\n      <td>남자</td>\n      <td>1996-12-10</td>\n      <td>180.0</td>\n      <td>A</td>\n      <td>8273745</td>\n      <td>강다니엘</td>\n      <td>3200</td>\n      <td>4</td>\n    </tr>\n    <tr>\n      <th>3</th>\n      <td>뷔</td>\n      <td>방탄소년단</td>\n      <td>빅히트</td>\n      <td>남자</td>\n      <td>1995-12-30</td>\n      <td>178.0</td>\n      <td>AB</td>\n      <td>8073501</td>\n      <td>뷔</td>\n      <td>3050</td>\n      <td>4</td>\n    </tr>\n    <tr>\n      <th>4</th>\n      <td>화사</td>\n      <td>마마무</td>\n      <td>RBW</td>\n      <td>여자</td>\n      <td>1995-07-23</td>\n      <td>162.1</td>\n      <td>A</td>\n      <td>7650928</td>\n      <td>화사</td>\n      <td>4300</td>\n      <td>3</td>\n    </tr>\n    <tr>\n      <th>5</th>\n      <td>정국</td>\n      <td>방탄소년단</td>\n      <td>빅히트</td>\n      <td>남자</td>\n      <td>1997-09-01</td>\n      <td>178.0</td>\n      <td>A</td>\n      <td>5208335</td>\n      <td>정국</td>\n      <td>2900</td>\n      <td>5</td>\n    </tr>\n    <tr>\n      <th>6</th>\n      <td>민현</td>\n      <td>뉴이스트</td>\n      <td>플레디스</td>\n      <td>남자</td>\n      <td>1995-08-09</td>\n      <td>182.3</td>\n      <td>O</td>\n      <td>4989792</td>\n      <td>민현</td>\n      <td>3400</td>\n      <td>6</td>\n    </tr>\n    <tr>\n      <th>7</th>\n      <td>소연</td>\n      <td>아이들</td>\n      <td>큐브</td>\n      <td>여자</td>\n      <td>1998-08-26</td>\n      <td>NaN</td>\n      <td>B</td>\n      <td>4668615</td>\n      <td>소연</td>\n      <td>4500</td>\n      <td>5</td>\n    </tr>\n    <tr>\n      <th>8</th>\n      <td>진</td>\n      <td>방탄소년단</td>\n      <td>빅히트</td>\n      <td>남자</td>\n      <td>1992-12-04</td>\n      <td>179.2</td>\n      <td>O</td>\n      <td>4570308</td>\n      <td>진</td>\n      <td>4200</td>\n      <td>4</td>\n    </tr>\n    <tr>\n      <th>9</th>\n      <td>하성운</td>\n      <td>핫샷</td>\n      <td>스타크루이엔티</td>\n      <td>남자</td>\n      <td>1994-03-22</td>\n      <td>167.1</td>\n      <td>A</td>\n      <td>4036489</td>\n      <td>하성운</td>\n      <td>4300</td>\n      <td>4</td>\n    </tr>\n    <tr>\n      <th>10</th>\n      <td>태연</td>\n      <td>소녀시대</td>\n      <td>SM</td>\n      <td>여자</td>\n      <td>1989-03-09</td>\n      <td>NaN</td>\n      <td>A</td>\n      <td>3918661</td>\n      <td>태연</td>\n      <td>3700</td>\n      <td>3</td>\n    </tr>\n    <tr>\n      <th>11</th>\n      <td>차은우</td>\n      <td>아스트로</td>\n      <td>판타지오</td>\n      <td>남자</td>\n      <td>1997-03-30</td>\n      <td>183.0</td>\n      <td>B</td>\n      <td>3506027</td>\n      <td>차은우</td>\n      <td>3850</td>\n      <td>5</td>\n    </tr>\n    <tr>\n      <th>12</th>\n      <td>백호</td>\n      <td>뉴이스트</td>\n      <td>플레디스</td>\n      <td>남자</td>\n      <td>1995-07-21</td>\n      <td>175.0</td>\n      <td>AB</td>\n      <td>3301654</td>\n      <td>백호</td>\n      <td>3900</td>\n      <td>4</td>\n    </tr>\n    <tr>\n      <th>13</th>\n      <td>JR</td>\n      <td>뉴이스트</td>\n      <td>플레디스</td>\n      <td>남자</td>\n      <td>1995-06-08</td>\n      <td>176.0</td>\n      <td>O</td>\n      <td>3274137</td>\n      <td>JR</td>\n      <td>4100</td>\n      <td>3</td>\n    </tr>\n    <tr>\n      <th>14</th>\n      <td>슈가</td>\n      <td>방탄소년단</td>\n      <td>빅히트</td>\n      <td>남자</td>\n      <td>1993-03-09</td>\n      <td>174.0</td>\n      <td>O</td>\n      <td>2925442</td>\n      <td>슈가</td>\n      <td>4150</td>\n      <td>3</td>\n    </tr>\n  </tbody>\n</table>\n</div>"
     },
     "metadata": {},
     "execution_count": 7
    }
   ],
   "source": [
    "# 행 인덱스 라벨을 기준으로 붙임 \n",
    "d_concat = pd.concat([d, d2], axis=1)\n",
    "d_concat"
   ]
  },
  {
   "cell_type": "code",
   "execution_count": 8,
   "metadata": {},
   "outputs": [
    {
     "output_type": "execute_result",
     "data": {
      "text/plain": [
       "      이름     그룹      소속사  성별        생년월일      키 혈액형   브랜드평판지수\n",
       "0     지민  방탄소년단      빅히트  남자  1995-10-13  173.6   A  10523260\n",
       "2   강다니엘    NaN      커넥트  남자  1996-12-10  180.0   A   8273745\n",
       "3      뷔  방탄소년단      빅히트  남자  1995-12-30  178.0  AB   8073501\n",
       "4     화사    마마무      RBW  여자  1995-07-23  162.1   A   7650928\n",
       "5     정국  방탄소년단      빅히트  남자  1997-09-01  178.0   A   5208335\n",
       "6     민현   뉴이스트     플레디스  남자  1995-08-09  182.3   O   4989792\n",
       "7     소연    아이들       큐브  여자  1998-08-26    NaN   B   4668615\n",
       "8      진  방탄소년단      빅히트  남자  1992-12-04  179.2   O   4570308\n",
       "9    하성운     핫샷  스타크루이엔티  남자  1994-03-22  167.1   A   4036489\n",
       "10    태연   소녀시대       SM  여자  1989-03-09    NaN   A   3918661\n",
       "11   차은우   아스트로     판타지오  남자  1997-03-30  183.0   B   3506027\n",
       "12    백호   뉴이스트     플레디스  남자  1995-07-21  175.0  AB   3301654\n",
       "13    JR   뉴이스트     플레디스  남자  1995-06-08  176.0   O   3274137\n",
       "14    슈가  방탄소년단      빅히트  남자  1993-03-09  174.0   O   2925442"
      ],
      "text/html": "<div>\n<style scoped>\n    .dataframe tbody tr th:only-of-type {\n        vertical-align: middle;\n    }\n\n    .dataframe tbody tr th {\n        vertical-align: top;\n    }\n\n    .dataframe thead th {\n        text-align: right;\n    }\n</style>\n<table border=\"1\" class=\"dataframe\">\n  <thead>\n    <tr style=\"text-align: right;\">\n      <th></th>\n      <th>이름</th>\n      <th>그룹</th>\n      <th>소속사</th>\n      <th>성별</th>\n      <th>생년월일</th>\n      <th>키</th>\n      <th>혈액형</th>\n      <th>브랜드평판지수</th>\n    </tr>\n  </thead>\n  <tbody>\n    <tr>\n      <th>0</th>\n      <td>지민</td>\n      <td>방탄소년단</td>\n      <td>빅히트</td>\n      <td>남자</td>\n      <td>1995-10-13</td>\n      <td>173.6</td>\n      <td>A</td>\n      <td>10523260</td>\n    </tr>\n    <tr>\n      <th>2</th>\n      <td>강다니엘</td>\n      <td>NaN</td>\n      <td>커넥트</td>\n      <td>남자</td>\n      <td>1996-12-10</td>\n      <td>180.0</td>\n      <td>A</td>\n      <td>8273745</td>\n    </tr>\n    <tr>\n      <th>3</th>\n      <td>뷔</td>\n      <td>방탄소년단</td>\n      <td>빅히트</td>\n      <td>남자</td>\n      <td>1995-12-30</td>\n      <td>178.0</td>\n      <td>AB</td>\n      <td>8073501</td>\n    </tr>\n    <tr>\n      <th>4</th>\n      <td>화사</td>\n      <td>마마무</td>\n      <td>RBW</td>\n      <td>여자</td>\n      <td>1995-07-23</td>\n      <td>162.1</td>\n      <td>A</td>\n      <td>7650928</td>\n    </tr>\n    <tr>\n      <th>5</th>\n      <td>정국</td>\n      <td>방탄소년단</td>\n      <td>빅히트</td>\n      <td>남자</td>\n      <td>1997-09-01</td>\n      <td>178.0</td>\n      <td>A</td>\n      <td>5208335</td>\n    </tr>\n    <tr>\n      <th>6</th>\n      <td>민현</td>\n      <td>뉴이스트</td>\n      <td>플레디스</td>\n      <td>남자</td>\n      <td>1995-08-09</td>\n      <td>182.3</td>\n      <td>O</td>\n      <td>4989792</td>\n    </tr>\n    <tr>\n      <th>7</th>\n      <td>소연</td>\n      <td>아이들</td>\n      <td>큐브</td>\n      <td>여자</td>\n      <td>1998-08-26</td>\n      <td>NaN</td>\n      <td>B</td>\n      <td>4668615</td>\n    </tr>\n    <tr>\n      <th>8</th>\n      <td>진</td>\n      <td>방탄소년단</td>\n      <td>빅히트</td>\n      <td>남자</td>\n      <td>1992-12-04</td>\n      <td>179.2</td>\n      <td>O</td>\n      <td>4570308</td>\n    </tr>\n    <tr>\n      <th>9</th>\n      <td>하성운</td>\n      <td>핫샷</td>\n      <td>스타크루이엔티</td>\n      <td>남자</td>\n      <td>1994-03-22</td>\n      <td>167.1</td>\n      <td>A</td>\n      <td>4036489</td>\n    </tr>\n    <tr>\n      <th>10</th>\n      <td>태연</td>\n      <td>소녀시대</td>\n      <td>SM</td>\n      <td>여자</td>\n      <td>1989-03-09</td>\n      <td>NaN</td>\n      <td>A</td>\n      <td>3918661</td>\n    </tr>\n    <tr>\n      <th>11</th>\n      <td>차은우</td>\n      <td>아스트로</td>\n      <td>판타지오</td>\n      <td>남자</td>\n      <td>1997-03-30</td>\n      <td>183.0</td>\n      <td>B</td>\n      <td>3506027</td>\n    </tr>\n    <tr>\n      <th>12</th>\n      <td>백호</td>\n      <td>뉴이스트</td>\n      <td>플레디스</td>\n      <td>남자</td>\n      <td>1995-07-21</td>\n      <td>175.0</td>\n      <td>AB</td>\n      <td>3301654</td>\n    </tr>\n    <tr>\n      <th>13</th>\n      <td>JR</td>\n      <td>뉴이스트</td>\n      <td>플레디스</td>\n      <td>남자</td>\n      <td>1995-06-08</td>\n      <td>176.0</td>\n      <td>O</td>\n      <td>3274137</td>\n    </tr>\n    <tr>\n      <th>14</th>\n      <td>슈가</td>\n      <td>방탄소년단</td>\n      <td>빅히트</td>\n      <td>남자</td>\n      <td>1993-03-09</td>\n      <td>174.0</td>\n      <td>O</td>\n      <td>2925442</td>\n    </tr>\n  </tbody>\n</table>\n</div>"
     },
     "metadata": {},
     "execution_count": 8
    }
   ],
   "source": [
    "# d 에서 행 인덱스 1번 삭제 (지드래곤)\n",
    "d.drop(1, inplace=True)\n",
    "d"
   ]
  },
  {
   "cell_type": "code",
   "execution_count": 9,
   "metadata": {},
   "outputs": [
    {
     "output_type": "execute_result",
     "data": {
      "text/plain": [
       "      이름    연봉  가족수\n",
       "0     지민  3000    3\n",
       "1   지드래곤  3500    3\n",
       "2   강다니엘  3200    4\n",
       "4     화사  4300    3\n",
       "6     민현  3400    6\n",
       "7     소연  4500    5\n",
       "8      진  4200    4\n",
       "9    하성운  4300    4\n",
       "10    태연  3700    3\n",
       "11   차은우  3850    5\n",
       "12    백호  3900    4\n",
       "13    JR  4100    3\n",
       "14    슈가  4150    3"
      ],
      "text/html": "<div>\n<style scoped>\n    .dataframe tbody tr th:only-of-type {\n        vertical-align: middle;\n    }\n\n    .dataframe tbody tr th {\n        vertical-align: top;\n    }\n\n    .dataframe thead th {\n        text-align: right;\n    }\n</style>\n<table border=\"1\" class=\"dataframe\">\n  <thead>\n    <tr style=\"text-align: right;\">\n      <th></th>\n      <th>이름</th>\n      <th>연봉</th>\n      <th>가족수</th>\n    </tr>\n  </thead>\n  <tbody>\n    <tr>\n      <th>0</th>\n      <td>지민</td>\n      <td>3000</td>\n      <td>3</td>\n    </tr>\n    <tr>\n      <th>1</th>\n      <td>지드래곤</td>\n      <td>3500</td>\n      <td>3</td>\n    </tr>\n    <tr>\n      <th>2</th>\n      <td>강다니엘</td>\n      <td>3200</td>\n      <td>4</td>\n    </tr>\n    <tr>\n      <th>4</th>\n      <td>화사</td>\n      <td>4300</td>\n      <td>3</td>\n    </tr>\n    <tr>\n      <th>6</th>\n      <td>민현</td>\n      <td>3400</td>\n      <td>6</td>\n    </tr>\n    <tr>\n      <th>7</th>\n      <td>소연</td>\n      <td>4500</td>\n      <td>5</td>\n    </tr>\n    <tr>\n      <th>8</th>\n      <td>진</td>\n      <td>4200</td>\n      <td>4</td>\n    </tr>\n    <tr>\n      <th>9</th>\n      <td>하성운</td>\n      <td>4300</td>\n      <td>4</td>\n    </tr>\n    <tr>\n      <th>10</th>\n      <td>태연</td>\n      <td>3700</td>\n      <td>3</td>\n    </tr>\n    <tr>\n      <th>11</th>\n      <td>차은우</td>\n      <td>3850</td>\n      <td>5</td>\n    </tr>\n    <tr>\n      <th>12</th>\n      <td>백호</td>\n      <td>3900</td>\n      <td>4</td>\n    </tr>\n    <tr>\n      <th>13</th>\n      <td>JR</td>\n      <td>4100</td>\n      <td>3</td>\n    </tr>\n    <tr>\n      <th>14</th>\n      <td>슈가</td>\n      <td>4150</td>\n      <td>3</td>\n    </tr>\n  </tbody>\n</table>\n</div>"
     },
     "metadata": {},
     "execution_count": 9
    }
   ],
   "source": [
    "# d2 에서 행 인덱스 라벨 3,5 번 삭제 (뷔, 정국)\n",
    "d2.drop([3,5], inplace=True)\n",
    "d2"
   ]
  },
  {
   "cell_type": "code",
   "execution_count": 10,
   "metadata": {},
   "outputs": [
    {
     "output_type": "execute_result",
     "data": {
      "text/plain": [
       "      이름     그룹      소속사   성별        생년월일      키  혈액형     브랜드평판지수    이름  \\\n",
       "0     지민  방탄소년단      빅히트   남자  1995-10-13  173.6    A  10523260.0    지민   \n",
       "1    NaN    NaN      NaN  NaN         NaN    NaN  NaN         NaN  지드래곤   \n",
       "2   강다니엘    NaN      커넥트   남자  1996-12-10  180.0    A   8273745.0  강다니엘   \n",
       "3      뷔  방탄소년단      빅히트   남자  1995-12-30  178.0   AB   8073501.0   NaN   \n",
       "4     화사    마마무      RBW   여자  1995-07-23  162.1    A   7650928.0    화사   \n",
       "5     정국  방탄소년단      빅히트   남자  1997-09-01  178.0    A   5208335.0   NaN   \n",
       "6     민현   뉴이스트     플레디스   남자  1995-08-09  182.3    O   4989792.0    민현   \n",
       "7     소연    아이들       큐브   여자  1998-08-26    NaN    B   4668615.0    소연   \n",
       "8      진  방탄소년단      빅히트   남자  1992-12-04  179.2    O   4570308.0     진   \n",
       "9    하성운     핫샷  스타크루이엔티   남자  1994-03-22  167.1    A   4036489.0   하성운   \n",
       "10    태연   소녀시대       SM   여자  1989-03-09    NaN    A   3918661.0    태연   \n",
       "11   차은우   아스트로     판타지오   남자  1997-03-30  183.0    B   3506027.0   차은우   \n",
       "12    백호   뉴이스트     플레디스   남자  1995-07-21  175.0   AB   3301654.0    백호   \n",
       "13    JR   뉴이스트     플레디스   남자  1995-06-08  176.0    O   3274137.0    JR   \n",
       "14    슈가  방탄소년단      빅히트   남자  1993-03-09  174.0    O   2925442.0    슈가   \n",
       "\n",
       "        연봉  가족수  \n",
       "0   3000.0  3.0  \n",
       "1   3500.0  3.0  \n",
       "2   3200.0  4.0  \n",
       "3      NaN  NaN  \n",
       "4   4300.0  3.0  \n",
       "5      NaN  NaN  \n",
       "6   3400.0  6.0  \n",
       "7   4500.0  5.0  \n",
       "8   4200.0  4.0  \n",
       "9   4300.0  4.0  \n",
       "10  3700.0  3.0  \n",
       "11  3850.0  5.0  \n",
       "12  3900.0  4.0  \n",
       "13  4100.0  3.0  \n",
       "14  4150.0  3.0  "
      ],
      "text/html": "<div>\n<style scoped>\n    .dataframe tbody tr th:only-of-type {\n        vertical-align: middle;\n    }\n\n    .dataframe tbody tr th {\n        vertical-align: top;\n    }\n\n    .dataframe thead th {\n        text-align: right;\n    }\n</style>\n<table border=\"1\" class=\"dataframe\">\n  <thead>\n    <tr style=\"text-align: right;\">\n      <th></th>\n      <th>이름</th>\n      <th>그룹</th>\n      <th>소속사</th>\n      <th>성별</th>\n      <th>생년월일</th>\n      <th>키</th>\n      <th>혈액형</th>\n      <th>브랜드평판지수</th>\n      <th>이름</th>\n      <th>연봉</th>\n      <th>가족수</th>\n    </tr>\n  </thead>\n  <tbody>\n    <tr>\n      <th>0</th>\n      <td>지민</td>\n      <td>방탄소년단</td>\n      <td>빅히트</td>\n      <td>남자</td>\n      <td>1995-10-13</td>\n      <td>173.6</td>\n      <td>A</td>\n      <td>10523260.0</td>\n      <td>지민</td>\n      <td>3000.0</td>\n      <td>3.0</td>\n    </tr>\n    <tr>\n      <th>1</th>\n      <td>NaN</td>\n      <td>NaN</td>\n      <td>NaN</td>\n      <td>NaN</td>\n      <td>NaN</td>\n      <td>NaN</td>\n      <td>NaN</td>\n      <td>NaN</td>\n      <td>지드래곤</td>\n      <td>3500.0</td>\n      <td>3.0</td>\n    </tr>\n    <tr>\n      <th>2</th>\n      <td>강다니엘</td>\n      <td>NaN</td>\n      <td>커넥트</td>\n      <td>남자</td>\n      <td>1996-12-10</td>\n      <td>180.0</td>\n      <td>A</td>\n      <td>8273745.0</td>\n      <td>강다니엘</td>\n      <td>3200.0</td>\n      <td>4.0</td>\n    </tr>\n    <tr>\n      <th>3</th>\n      <td>뷔</td>\n      <td>방탄소년단</td>\n      <td>빅히트</td>\n      <td>남자</td>\n      <td>1995-12-30</td>\n      <td>178.0</td>\n      <td>AB</td>\n      <td>8073501.0</td>\n      <td>NaN</td>\n      <td>NaN</td>\n      <td>NaN</td>\n    </tr>\n    <tr>\n      <th>4</th>\n      <td>화사</td>\n      <td>마마무</td>\n      <td>RBW</td>\n      <td>여자</td>\n      <td>1995-07-23</td>\n      <td>162.1</td>\n      <td>A</td>\n      <td>7650928.0</td>\n      <td>화사</td>\n      <td>4300.0</td>\n      <td>3.0</td>\n    </tr>\n    <tr>\n      <th>5</th>\n      <td>정국</td>\n      <td>방탄소년단</td>\n      <td>빅히트</td>\n      <td>남자</td>\n      <td>1997-09-01</td>\n      <td>178.0</td>\n      <td>A</td>\n      <td>5208335.0</td>\n      <td>NaN</td>\n      <td>NaN</td>\n      <td>NaN</td>\n    </tr>\n    <tr>\n      <th>6</th>\n      <td>민현</td>\n      <td>뉴이스트</td>\n      <td>플레디스</td>\n      <td>남자</td>\n      <td>1995-08-09</td>\n      <td>182.3</td>\n      <td>O</td>\n      <td>4989792.0</td>\n      <td>민현</td>\n      <td>3400.0</td>\n      <td>6.0</td>\n    </tr>\n    <tr>\n      <th>7</th>\n      <td>소연</td>\n      <td>아이들</td>\n      <td>큐브</td>\n      <td>여자</td>\n      <td>1998-08-26</td>\n      <td>NaN</td>\n      <td>B</td>\n      <td>4668615.0</td>\n      <td>소연</td>\n      <td>4500.0</td>\n      <td>5.0</td>\n    </tr>\n    <tr>\n      <th>8</th>\n      <td>진</td>\n      <td>방탄소년단</td>\n      <td>빅히트</td>\n      <td>남자</td>\n      <td>1992-12-04</td>\n      <td>179.2</td>\n      <td>O</td>\n      <td>4570308.0</td>\n      <td>진</td>\n      <td>4200.0</td>\n      <td>4.0</td>\n    </tr>\n    <tr>\n      <th>9</th>\n      <td>하성운</td>\n      <td>핫샷</td>\n      <td>스타크루이엔티</td>\n      <td>남자</td>\n      <td>1994-03-22</td>\n      <td>167.1</td>\n      <td>A</td>\n      <td>4036489.0</td>\n      <td>하성운</td>\n      <td>4300.0</td>\n      <td>4.0</td>\n    </tr>\n    <tr>\n      <th>10</th>\n      <td>태연</td>\n      <td>소녀시대</td>\n      <td>SM</td>\n      <td>여자</td>\n      <td>1989-03-09</td>\n      <td>NaN</td>\n      <td>A</td>\n      <td>3918661.0</td>\n      <td>태연</td>\n      <td>3700.0</td>\n      <td>3.0</td>\n    </tr>\n    <tr>\n      <th>11</th>\n      <td>차은우</td>\n      <td>아스트로</td>\n      <td>판타지오</td>\n      <td>남자</td>\n      <td>1997-03-30</td>\n      <td>183.0</td>\n      <td>B</td>\n      <td>3506027.0</td>\n      <td>차은우</td>\n      <td>3850.0</td>\n      <td>5.0</td>\n    </tr>\n    <tr>\n      <th>12</th>\n      <td>백호</td>\n      <td>뉴이스트</td>\n      <td>플레디스</td>\n      <td>남자</td>\n      <td>1995-07-21</td>\n      <td>175.0</td>\n      <td>AB</td>\n      <td>3301654.0</td>\n      <td>백호</td>\n      <td>3900.0</td>\n      <td>4.0</td>\n    </tr>\n    <tr>\n      <th>13</th>\n      <td>JR</td>\n      <td>뉴이스트</td>\n      <td>플레디스</td>\n      <td>남자</td>\n      <td>1995-06-08</td>\n      <td>176.0</td>\n      <td>O</td>\n      <td>3274137.0</td>\n      <td>JR</td>\n      <td>4100.0</td>\n      <td>3.0</td>\n    </tr>\n    <tr>\n      <th>14</th>\n      <td>슈가</td>\n      <td>방탄소년단</td>\n      <td>빅히트</td>\n      <td>남자</td>\n      <td>1993-03-09</td>\n      <td>174.0</td>\n      <td>O</td>\n      <td>2925442.0</td>\n      <td>슈가</td>\n      <td>4150.0</td>\n      <td>3.0</td>\n    </tr>\n  </tbody>\n</table>\n</div>"
     },
     "metadata": {},
     "execution_count": 10
    }
   ],
   "source": [
    "d_concat = pd.concat([d, d2], axis=1)\n",
    "d_concat"
   ]
  },
  {
   "cell_type": "code",
   "execution_count": 11,
   "metadata": {},
   "outputs": [
    {
     "output_type": "execute_result",
     "data": {
      "text/plain": [
       "      이름     그룹      소속사  성별        생년월일      키 혈액형   브랜드평판지수\n",
       "0     지민  방탄소년단      빅히트  남자  1995-10-13  173.6   A  10523260\n",
       "1   강다니엘    NaN      커넥트  남자  1996-12-10  180.0   A   8273745\n",
       "2      뷔  방탄소년단      빅히트  남자  1995-12-30  178.0  AB   8073501\n",
       "3     화사    마마무      RBW  여자  1995-07-23  162.1   A   7650928\n",
       "4     정국  방탄소년단      빅히트  남자  1997-09-01  178.0   A   5208335\n",
       "5     민현   뉴이스트     플레디스  남자  1995-08-09  182.3   O   4989792\n",
       "6     소연    아이들       큐브  여자  1998-08-26    NaN   B   4668615\n",
       "7      진  방탄소년단      빅히트  남자  1992-12-04  179.2   O   4570308\n",
       "8    하성운     핫샷  스타크루이엔티  남자  1994-03-22  167.1   A   4036489\n",
       "9     태연   소녀시대       SM  여자  1989-03-09    NaN   A   3918661\n",
       "10   차은우   아스트로     판타지오  남자  1997-03-30  183.0   B   3506027\n",
       "11    백호   뉴이스트     플레디스  남자  1995-07-21  175.0  AB   3301654\n",
       "12    JR   뉴이스트     플레디스  남자  1995-06-08  176.0   O   3274137\n",
       "13    슈가  방탄소년단      빅히트  남자  1993-03-09  174.0   O   2925442"
      ],
      "text/html": "<div>\n<style scoped>\n    .dataframe tbody tr th:only-of-type {\n        vertical-align: middle;\n    }\n\n    .dataframe tbody tr th {\n        vertical-align: top;\n    }\n\n    .dataframe thead th {\n        text-align: right;\n    }\n</style>\n<table border=\"1\" class=\"dataframe\">\n  <thead>\n    <tr style=\"text-align: right;\">\n      <th></th>\n      <th>이름</th>\n      <th>그룹</th>\n      <th>소속사</th>\n      <th>성별</th>\n      <th>생년월일</th>\n      <th>키</th>\n      <th>혈액형</th>\n      <th>브랜드평판지수</th>\n    </tr>\n  </thead>\n  <tbody>\n    <tr>\n      <th>0</th>\n      <td>지민</td>\n      <td>방탄소년단</td>\n      <td>빅히트</td>\n      <td>남자</td>\n      <td>1995-10-13</td>\n      <td>173.6</td>\n      <td>A</td>\n      <td>10523260</td>\n    </tr>\n    <tr>\n      <th>1</th>\n      <td>강다니엘</td>\n      <td>NaN</td>\n      <td>커넥트</td>\n      <td>남자</td>\n      <td>1996-12-10</td>\n      <td>180.0</td>\n      <td>A</td>\n      <td>8273745</td>\n    </tr>\n    <tr>\n      <th>2</th>\n      <td>뷔</td>\n      <td>방탄소년단</td>\n      <td>빅히트</td>\n      <td>남자</td>\n      <td>1995-12-30</td>\n      <td>178.0</td>\n      <td>AB</td>\n      <td>8073501</td>\n    </tr>\n    <tr>\n      <th>3</th>\n      <td>화사</td>\n      <td>마마무</td>\n      <td>RBW</td>\n      <td>여자</td>\n      <td>1995-07-23</td>\n      <td>162.1</td>\n      <td>A</td>\n      <td>7650928</td>\n    </tr>\n    <tr>\n      <th>4</th>\n      <td>정국</td>\n      <td>방탄소년단</td>\n      <td>빅히트</td>\n      <td>남자</td>\n      <td>1997-09-01</td>\n      <td>178.0</td>\n      <td>A</td>\n      <td>5208335</td>\n    </tr>\n    <tr>\n      <th>5</th>\n      <td>민현</td>\n      <td>뉴이스트</td>\n      <td>플레디스</td>\n      <td>남자</td>\n      <td>1995-08-09</td>\n      <td>182.3</td>\n      <td>O</td>\n      <td>4989792</td>\n    </tr>\n    <tr>\n      <th>6</th>\n      <td>소연</td>\n      <td>아이들</td>\n      <td>큐브</td>\n      <td>여자</td>\n      <td>1998-08-26</td>\n      <td>NaN</td>\n      <td>B</td>\n      <td>4668615</td>\n    </tr>\n    <tr>\n      <th>7</th>\n      <td>진</td>\n      <td>방탄소년단</td>\n      <td>빅히트</td>\n      <td>남자</td>\n      <td>1992-12-04</td>\n      <td>179.2</td>\n      <td>O</td>\n      <td>4570308</td>\n    </tr>\n    <tr>\n      <th>8</th>\n      <td>하성운</td>\n      <td>핫샷</td>\n      <td>스타크루이엔티</td>\n      <td>남자</td>\n      <td>1994-03-22</td>\n      <td>167.1</td>\n      <td>A</td>\n      <td>4036489</td>\n    </tr>\n    <tr>\n      <th>9</th>\n      <td>태연</td>\n      <td>소녀시대</td>\n      <td>SM</td>\n      <td>여자</td>\n      <td>1989-03-09</td>\n      <td>NaN</td>\n      <td>A</td>\n      <td>3918661</td>\n    </tr>\n    <tr>\n      <th>10</th>\n      <td>차은우</td>\n      <td>아스트로</td>\n      <td>판타지오</td>\n      <td>남자</td>\n      <td>1997-03-30</td>\n      <td>183.0</td>\n      <td>B</td>\n      <td>3506027</td>\n    </tr>\n    <tr>\n      <th>11</th>\n      <td>백호</td>\n      <td>뉴이스트</td>\n      <td>플레디스</td>\n      <td>남자</td>\n      <td>1995-07-21</td>\n      <td>175.0</td>\n      <td>AB</td>\n      <td>3301654</td>\n    </tr>\n    <tr>\n      <th>12</th>\n      <td>JR</td>\n      <td>뉴이스트</td>\n      <td>플레디스</td>\n      <td>남자</td>\n      <td>1995-06-08</td>\n      <td>176.0</td>\n      <td>O</td>\n      <td>3274137</td>\n    </tr>\n    <tr>\n      <th>13</th>\n      <td>슈가</td>\n      <td>방탄소년단</td>\n      <td>빅히트</td>\n      <td>남자</td>\n      <td>1993-03-09</td>\n      <td>174.0</td>\n      <td>O</td>\n      <td>2925442</td>\n    </tr>\n  </tbody>\n</table>\n</div>"
     },
     "metadata": {},
     "execution_count": 11
    }
   ],
   "source": [
    "d.reset_index(drop=True, inplace=True)\n",
    "d\n"
   ]
  },
  {
   "cell_type": "code",
   "execution_count": 12,
   "metadata": {},
   "outputs": [
    {
     "output_type": "execute_result",
     "data": {
      "text/plain": [
       "      이름    연봉  가족수\n",
       "0     지민  3000    3\n",
       "1   지드래곤  3500    3\n",
       "2   강다니엘  3200    4\n",
       "3     화사  4300    3\n",
       "4     민현  3400    6\n",
       "5     소연  4500    5\n",
       "6      진  4200    4\n",
       "7    하성운  4300    4\n",
       "8     태연  3700    3\n",
       "9    차은우  3850    5\n",
       "10    백호  3900    4\n",
       "11    JR  4100    3\n",
       "12    슈가  4150    3"
      ],
      "text/html": "<div>\n<style scoped>\n    .dataframe tbody tr th:only-of-type {\n        vertical-align: middle;\n    }\n\n    .dataframe tbody tr th {\n        vertical-align: top;\n    }\n\n    .dataframe thead th {\n        text-align: right;\n    }\n</style>\n<table border=\"1\" class=\"dataframe\">\n  <thead>\n    <tr style=\"text-align: right;\">\n      <th></th>\n      <th>이름</th>\n      <th>연봉</th>\n      <th>가족수</th>\n    </tr>\n  </thead>\n  <tbody>\n    <tr>\n      <th>0</th>\n      <td>지민</td>\n      <td>3000</td>\n      <td>3</td>\n    </tr>\n    <tr>\n      <th>1</th>\n      <td>지드래곤</td>\n      <td>3500</td>\n      <td>3</td>\n    </tr>\n    <tr>\n      <th>2</th>\n      <td>강다니엘</td>\n      <td>3200</td>\n      <td>4</td>\n    </tr>\n    <tr>\n      <th>3</th>\n      <td>화사</td>\n      <td>4300</td>\n      <td>3</td>\n    </tr>\n    <tr>\n      <th>4</th>\n      <td>민현</td>\n      <td>3400</td>\n      <td>6</td>\n    </tr>\n    <tr>\n      <th>5</th>\n      <td>소연</td>\n      <td>4500</td>\n      <td>5</td>\n    </tr>\n    <tr>\n      <th>6</th>\n      <td>진</td>\n      <td>4200</td>\n      <td>4</td>\n    </tr>\n    <tr>\n      <th>7</th>\n      <td>하성운</td>\n      <td>4300</td>\n      <td>4</td>\n    </tr>\n    <tr>\n      <th>8</th>\n      <td>태연</td>\n      <td>3700</td>\n      <td>3</td>\n    </tr>\n    <tr>\n      <th>9</th>\n      <td>차은우</td>\n      <td>3850</td>\n      <td>5</td>\n    </tr>\n    <tr>\n      <th>10</th>\n      <td>백호</td>\n      <td>3900</td>\n      <td>4</td>\n    </tr>\n    <tr>\n      <th>11</th>\n      <td>JR</td>\n      <td>4100</td>\n      <td>3</td>\n    </tr>\n    <tr>\n      <th>12</th>\n      <td>슈가</td>\n      <td>4150</td>\n      <td>3</td>\n    </tr>\n  </tbody>\n</table>\n</div>"
     },
     "metadata": {},
     "execution_count": 12
    }
   ],
   "source": [
    "d2.reset_index(drop=True, inplace=True)\n",
    "d2"
   ]
  },
  {
   "cell_type": "code",
   "execution_count": 13,
   "metadata": {},
   "outputs": [
    {
     "output_type": "execute_result",
     "data": {
      "text/plain": [
       "      이름     그룹      소속사  성별        생년월일      키 혈액형   브랜드평판지수    이름      연봉  \\\n",
       "0     지민  방탄소년단      빅히트  남자  1995-10-13  173.6   A  10523260    지민  3000.0   \n",
       "1   강다니엘    NaN      커넥트  남자  1996-12-10  180.0   A   8273745  지드래곤  3500.0   \n",
       "2      뷔  방탄소년단      빅히트  남자  1995-12-30  178.0  AB   8073501  강다니엘  3200.0   \n",
       "3     화사    마마무      RBW  여자  1995-07-23  162.1   A   7650928    화사  4300.0   \n",
       "4     정국  방탄소년단      빅히트  남자  1997-09-01  178.0   A   5208335    민현  3400.0   \n",
       "5     민현   뉴이스트     플레디스  남자  1995-08-09  182.3   O   4989792    소연  4500.0   \n",
       "6     소연    아이들       큐브  여자  1998-08-26    NaN   B   4668615     진  4200.0   \n",
       "7      진  방탄소년단      빅히트  남자  1992-12-04  179.2   O   4570308   하성운  4300.0   \n",
       "8    하성운     핫샷  스타크루이엔티  남자  1994-03-22  167.1   A   4036489    태연  3700.0   \n",
       "9     태연   소녀시대       SM  여자  1989-03-09    NaN   A   3918661   차은우  3850.0   \n",
       "10   차은우   아스트로     판타지오  남자  1997-03-30  183.0   B   3506027    백호  3900.0   \n",
       "11    백호   뉴이스트     플레디스  남자  1995-07-21  175.0  AB   3301654    JR  4100.0   \n",
       "12    JR   뉴이스트     플레디스  남자  1995-06-08  176.0   O   3274137    슈가  4150.0   \n",
       "13    슈가  방탄소년단      빅히트  남자  1993-03-09  174.0   O   2925442   NaN     NaN   \n",
       "\n",
       "    가족수  \n",
       "0   3.0  \n",
       "1   3.0  \n",
       "2   4.0  \n",
       "3   3.0  \n",
       "4   6.0  \n",
       "5   5.0  \n",
       "6   4.0  \n",
       "7   4.0  \n",
       "8   3.0  \n",
       "9   5.0  \n",
       "10  4.0  \n",
       "11  3.0  \n",
       "12  3.0  \n",
       "13  NaN  "
      ],
      "text/html": "<div>\n<style scoped>\n    .dataframe tbody tr th:only-of-type {\n        vertical-align: middle;\n    }\n\n    .dataframe tbody tr th {\n        vertical-align: top;\n    }\n\n    .dataframe thead th {\n        text-align: right;\n    }\n</style>\n<table border=\"1\" class=\"dataframe\">\n  <thead>\n    <tr style=\"text-align: right;\">\n      <th></th>\n      <th>이름</th>\n      <th>그룹</th>\n      <th>소속사</th>\n      <th>성별</th>\n      <th>생년월일</th>\n      <th>키</th>\n      <th>혈액형</th>\n      <th>브랜드평판지수</th>\n      <th>이름</th>\n      <th>연봉</th>\n      <th>가족수</th>\n    </tr>\n  </thead>\n  <tbody>\n    <tr>\n      <th>0</th>\n      <td>지민</td>\n      <td>방탄소년단</td>\n      <td>빅히트</td>\n      <td>남자</td>\n      <td>1995-10-13</td>\n      <td>173.6</td>\n      <td>A</td>\n      <td>10523260</td>\n      <td>지민</td>\n      <td>3000.0</td>\n      <td>3.0</td>\n    </tr>\n    <tr>\n      <th>1</th>\n      <td>강다니엘</td>\n      <td>NaN</td>\n      <td>커넥트</td>\n      <td>남자</td>\n      <td>1996-12-10</td>\n      <td>180.0</td>\n      <td>A</td>\n      <td>8273745</td>\n      <td>지드래곤</td>\n      <td>3500.0</td>\n      <td>3.0</td>\n    </tr>\n    <tr>\n      <th>2</th>\n      <td>뷔</td>\n      <td>방탄소년단</td>\n      <td>빅히트</td>\n      <td>남자</td>\n      <td>1995-12-30</td>\n      <td>178.0</td>\n      <td>AB</td>\n      <td>8073501</td>\n      <td>강다니엘</td>\n      <td>3200.0</td>\n      <td>4.0</td>\n    </tr>\n    <tr>\n      <th>3</th>\n      <td>화사</td>\n      <td>마마무</td>\n      <td>RBW</td>\n      <td>여자</td>\n      <td>1995-07-23</td>\n      <td>162.1</td>\n      <td>A</td>\n      <td>7650928</td>\n      <td>화사</td>\n      <td>4300.0</td>\n      <td>3.0</td>\n    </tr>\n    <tr>\n      <th>4</th>\n      <td>정국</td>\n      <td>방탄소년단</td>\n      <td>빅히트</td>\n      <td>남자</td>\n      <td>1997-09-01</td>\n      <td>178.0</td>\n      <td>A</td>\n      <td>5208335</td>\n      <td>민현</td>\n      <td>3400.0</td>\n      <td>6.0</td>\n    </tr>\n    <tr>\n      <th>5</th>\n      <td>민현</td>\n      <td>뉴이스트</td>\n      <td>플레디스</td>\n      <td>남자</td>\n      <td>1995-08-09</td>\n      <td>182.3</td>\n      <td>O</td>\n      <td>4989792</td>\n      <td>소연</td>\n      <td>4500.0</td>\n      <td>5.0</td>\n    </tr>\n    <tr>\n      <th>6</th>\n      <td>소연</td>\n      <td>아이들</td>\n      <td>큐브</td>\n      <td>여자</td>\n      <td>1998-08-26</td>\n      <td>NaN</td>\n      <td>B</td>\n      <td>4668615</td>\n      <td>진</td>\n      <td>4200.0</td>\n      <td>4.0</td>\n    </tr>\n    <tr>\n      <th>7</th>\n      <td>진</td>\n      <td>방탄소년단</td>\n      <td>빅히트</td>\n      <td>남자</td>\n      <td>1992-12-04</td>\n      <td>179.2</td>\n      <td>O</td>\n      <td>4570308</td>\n      <td>하성운</td>\n      <td>4300.0</td>\n      <td>4.0</td>\n    </tr>\n    <tr>\n      <th>8</th>\n      <td>하성운</td>\n      <td>핫샷</td>\n      <td>스타크루이엔티</td>\n      <td>남자</td>\n      <td>1994-03-22</td>\n      <td>167.1</td>\n      <td>A</td>\n      <td>4036489</td>\n      <td>태연</td>\n      <td>3700.0</td>\n      <td>3.0</td>\n    </tr>\n    <tr>\n      <th>9</th>\n      <td>태연</td>\n      <td>소녀시대</td>\n      <td>SM</td>\n      <td>여자</td>\n      <td>1989-03-09</td>\n      <td>NaN</td>\n      <td>A</td>\n      <td>3918661</td>\n      <td>차은우</td>\n      <td>3850.0</td>\n      <td>5.0</td>\n    </tr>\n    <tr>\n      <th>10</th>\n      <td>차은우</td>\n      <td>아스트로</td>\n      <td>판타지오</td>\n      <td>남자</td>\n      <td>1997-03-30</td>\n      <td>183.0</td>\n      <td>B</td>\n      <td>3506027</td>\n      <td>백호</td>\n      <td>3900.0</td>\n      <td>4.0</td>\n    </tr>\n    <tr>\n      <th>11</th>\n      <td>백호</td>\n      <td>뉴이스트</td>\n      <td>플레디스</td>\n      <td>남자</td>\n      <td>1995-07-21</td>\n      <td>175.0</td>\n      <td>AB</td>\n      <td>3301654</td>\n      <td>JR</td>\n      <td>4100.0</td>\n      <td>3.0</td>\n    </tr>\n    <tr>\n      <th>12</th>\n      <td>JR</td>\n      <td>뉴이스트</td>\n      <td>플레디스</td>\n      <td>남자</td>\n      <td>1995-06-08</td>\n      <td>176.0</td>\n      <td>O</td>\n      <td>3274137</td>\n      <td>슈가</td>\n      <td>4150.0</td>\n      <td>3.0</td>\n    </tr>\n    <tr>\n      <th>13</th>\n      <td>슈가</td>\n      <td>방탄소년단</td>\n      <td>빅히트</td>\n      <td>남자</td>\n      <td>1993-03-09</td>\n      <td>174.0</td>\n      <td>O</td>\n      <td>2925442</td>\n      <td>NaN</td>\n      <td>NaN</td>\n      <td>NaN</td>\n    </tr>\n  </tbody>\n</table>\n</div>"
     },
     "metadata": {},
     "execution_count": 13
    }
   ],
   "source": [
    "# 행 인덱스 라벨을 기준으로 데이터를 붙이므로, 데이터 불일치가 발생할 수 있음\n",
    "d_concat = pd.concat([d,d2], axis=1)\n",
    "d_concat"
   ]
  },
  {
   "source": [
    "## 10-2. 데이터 병합하기 (Merge)\n",
    "* merge : 특정 키를 기준으로 DataFrame을 병합하기 -> 이름을 기준으로 병합하기\n",
    "* 데이터 베이스의 join과 유사\n",
    "* pd.merge(left, right, on, how)\n",
    "    * left, right : 병합할 두 DataFrame\n",
    "    * on : 병합 기준이 되는 컬럼명 (이름)\n",
    "    * how : 'left', 'right', 'inner', 'outer' 4가지 방법 중 택 1"
   ],
   "cell_type": "markdown",
   "metadata": {}
  },
  {
   "source": [
    "### 1) left, right 방식"
   ],
   "cell_type": "markdown",
   "metadata": {}
  },
  {
   "cell_type": "code",
   "execution_count": 14,
   "metadata": {},
   "outputs": [
    {
     "output_type": "execute_result",
     "data": {
      "text/plain": [
       "      이름     그룹      소속사  성별        생년월일      키 혈액형   브랜드평판지수      연봉  가족수\n",
       "0     지민  방탄소년단      빅히트  남자  1995-10-13  173.6   A  10523260  3000.0  3.0\n",
       "1   강다니엘    NaN      커넥트  남자  1996-12-10  180.0   A   8273745  3200.0  4.0\n",
       "2      뷔  방탄소년단      빅히트  남자  1995-12-30  178.0  AB   8073501     NaN  NaN\n",
       "3     화사    마마무      RBW  여자  1995-07-23  162.1   A   7650928  4300.0  3.0\n",
       "4     정국  방탄소년단      빅히트  남자  1997-09-01  178.0   A   5208335     NaN  NaN\n",
       "5     민현   뉴이스트     플레디스  남자  1995-08-09  182.3   O   4989792  3400.0  6.0\n",
       "6     소연    아이들       큐브  여자  1998-08-26    NaN   B   4668615  4500.0  5.0\n",
       "7      진  방탄소년단      빅히트  남자  1992-12-04  179.2   O   4570308  4200.0  4.0\n",
       "8    하성운     핫샷  스타크루이엔티  남자  1994-03-22  167.1   A   4036489  4300.0  4.0\n",
       "9     태연   소녀시대       SM  여자  1989-03-09    NaN   A   3918661  3700.0  3.0\n",
       "10   차은우   아스트로     판타지오  남자  1997-03-30  183.0   B   3506027  3850.0  5.0\n",
       "11    백호   뉴이스트     플레디스  남자  1995-07-21  175.0  AB   3301654  3900.0  4.0\n",
       "12    JR   뉴이스트     플레디스  남자  1995-06-08  176.0   O   3274137  4100.0  3.0\n",
       "13    슈가  방탄소년단      빅히트  남자  1993-03-09  174.0   O   2925442  4150.0  3.0"
      ],
      "text/html": "<div>\n<style scoped>\n    .dataframe tbody tr th:only-of-type {\n        vertical-align: middle;\n    }\n\n    .dataframe tbody tr th {\n        vertical-align: top;\n    }\n\n    .dataframe thead th {\n        text-align: right;\n    }\n</style>\n<table border=\"1\" class=\"dataframe\">\n  <thead>\n    <tr style=\"text-align: right;\">\n      <th></th>\n      <th>이름</th>\n      <th>그룹</th>\n      <th>소속사</th>\n      <th>성별</th>\n      <th>생년월일</th>\n      <th>키</th>\n      <th>혈액형</th>\n      <th>브랜드평판지수</th>\n      <th>연봉</th>\n      <th>가족수</th>\n    </tr>\n  </thead>\n  <tbody>\n    <tr>\n      <th>0</th>\n      <td>지민</td>\n      <td>방탄소년단</td>\n      <td>빅히트</td>\n      <td>남자</td>\n      <td>1995-10-13</td>\n      <td>173.6</td>\n      <td>A</td>\n      <td>10523260</td>\n      <td>3000.0</td>\n      <td>3.0</td>\n    </tr>\n    <tr>\n      <th>1</th>\n      <td>강다니엘</td>\n      <td>NaN</td>\n      <td>커넥트</td>\n      <td>남자</td>\n      <td>1996-12-10</td>\n      <td>180.0</td>\n      <td>A</td>\n      <td>8273745</td>\n      <td>3200.0</td>\n      <td>4.0</td>\n    </tr>\n    <tr>\n      <th>2</th>\n      <td>뷔</td>\n      <td>방탄소년단</td>\n      <td>빅히트</td>\n      <td>남자</td>\n      <td>1995-12-30</td>\n      <td>178.0</td>\n      <td>AB</td>\n      <td>8073501</td>\n      <td>NaN</td>\n      <td>NaN</td>\n    </tr>\n    <tr>\n      <th>3</th>\n      <td>화사</td>\n      <td>마마무</td>\n      <td>RBW</td>\n      <td>여자</td>\n      <td>1995-07-23</td>\n      <td>162.1</td>\n      <td>A</td>\n      <td>7650928</td>\n      <td>4300.0</td>\n      <td>3.0</td>\n    </tr>\n    <tr>\n      <th>4</th>\n      <td>정국</td>\n      <td>방탄소년단</td>\n      <td>빅히트</td>\n      <td>남자</td>\n      <td>1997-09-01</td>\n      <td>178.0</td>\n      <td>A</td>\n      <td>5208335</td>\n      <td>NaN</td>\n      <td>NaN</td>\n    </tr>\n    <tr>\n      <th>5</th>\n      <td>민현</td>\n      <td>뉴이스트</td>\n      <td>플레디스</td>\n      <td>남자</td>\n      <td>1995-08-09</td>\n      <td>182.3</td>\n      <td>O</td>\n      <td>4989792</td>\n      <td>3400.0</td>\n      <td>6.0</td>\n    </tr>\n    <tr>\n      <th>6</th>\n      <td>소연</td>\n      <td>아이들</td>\n      <td>큐브</td>\n      <td>여자</td>\n      <td>1998-08-26</td>\n      <td>NaN</td>\n      <td>B</td>\n      <td>4668615</td>\n      <td>4500.0</td>\n      <td>5.0</td>\n    </tr>\n    <tr>\n      <th>7</th>\n      <td>진</td>\n      <td>방탄소년단</td>\n      <td>빅히트</td>\n      <td>남자</td>\n      <td>1992-12-04</td>\n      <td>179.2</td>\n      <td>O</td>\n      <td>4570308</td>\n      <td>4200.0</td>\n      <td>4.0</td>\n    </tr>\n    <tr>\n      <th>8</th>\n      <td>하성운</td>\n      <td>핫샷</td>\n      <td>스타크루이엔티</td>\n      <td>남자</td>\n      <td>1994-03-22</td>\n      <td>167.1</td>\n      <td>A</td>\n      <td>4036489</td>\n      <td>4300.0</td>\n      <td>4.0</td>\n    </tr>\n    <tr>\n      <th>9</th>\n      <td>태연</td>\n      <td>소녀시대</td>\n      <td>SM</td>\n      <td>여자</td>\n      <td>1989-03-09</td>\n      <td>NaN</td>\n      <td>A</td>\n      <td>3918661</td>\n      <td>3700.0</td>\n      <td>3.0</td>\n    </tr>\n    <tr>\n      <th>10</th>\n      <td>차은우</td>\n      <td>아스트로</td>\n      <td>판타지오</td>\n      <td>남자</td>\n      <td>1997-03-30</td>\n      <td>183.0</td>\n      <td>B</td>\n      <td>3506027</td>\n      <td>3850.0</td>\n      <td>5.0</td>\n    </tr>\n    <tr>\n      <th>11</th>\n      <td>백호</td>\n      <td>뉴이스트</td>\n      <td>플레디스</td>\n      <td>남자</td>\n      <td>1995-07-21</td>\n      <td>175.0</td>\n      <td>AB</td>\n      <td>3301654</td>\n      <td>3900.0</td>\n      <td>4.0</td>\n    </tr>\n    <tr>\n      <th>12</th>\n      <td>JR</td>\n      <td>뉴이스트</td>\n      <td>플레디스</td>\n      <td>남자</td>\n      <td>1995-06-08</td>\n      <td>176.0</td>\n      <td>O</td>\n      <td>3274137</td>\n      <td>4100.0</td>\n      <td>3.0</td>\n    </tr>\n    <tr>\n      <th>13</th>\n      <td>슈가</td>\n      <td>방탄소년단</td>\n      <td>빅히트</td>\n      <td>남자</td>\n      <td>1993-03-09</td>\n      <td>174.0</td>\n      <td>O</td>\n      <td>2925442</td>\n      <td>4150.0</td>\n      <td>3.0</td>\n    </tr>\n  </tbody>\n</table>\n</div>"
     },
     "metadata": {},
     "execution_count": 14
    }
   ],
   "source": [
    "# left 인 경우 left DataFrame을 기준으로 병합이 됨 (행 개수 14개)\n",
    "pd.merge(d, d2, on='이름', how='left')"
   ]
  },
  {
   "cell_type": "code",
   "execution_count": 15,
   "metadata": {},
   "outputs": [
    {
     "output_type": "execute_result",
     "data": {
      "text/plain": [
       "      이름     그룹      소속사   성별        생년월일      키  혈액형     브랜드평판지수    연봉  가족수\n",
       "0     지민  방탄소년단      빅히트   남자  1995-10-13  173.6    A  10523260.0  3000    3\n",
       "1   지드래곤    NaN      NaN  NaN         NaN    NaN  NaN         NaN  3500    3\n",
       "2   강다니엘    NaN      커넥트   남자  1996-12-10  180.0    A   8273745.0  3200    4\n",
       "3     화사    마마무      RBW   여자  1995-07-23  162.1    A   7650928.0  4300    3\n",
       "4     민현   뉴이스트     플레디스   남자  1995-08-09  182.3    O   4989792.0  3400    6\n",
       "5     소연    아이들       큐브   여자  1998-08-26    NaN    B   4668615.0  4500    5\n",
       "6      진  방탄소년단      빅히트   남자  1992-12-04  179.2    O   4570308.0  4200    4\n",
       "7    하성운     핫샷  스타크루이엔티   남자  1994-03-22  167.1    A   4036489.0  4300    4\n",
       "8     태연   소녀시대       SM   여자  1989-03-09    NaN    A   3918661.0  3700    3\n",
       "9    차은우   아스트로     판타지오   남자  1997-03-30  183.0    B   3506027.0  3850    5\n",
       "10    백호   뉴이스트     플레디스   남자  1995-07-21  175.0   AB   3301654.0  3900    4\n",
       "11    JR   뉴이스트     플레디스   남자  1995-06-08  176.0    O   3274137.0  4100    3\n",
       "12    슈가  방탄소년단      빅히트   남자  1993-03-09  174.0    O   2925442.0  4150    3"
      ],
      "text/html": "<div>\n<style scoped>\n    .dataframe tbody tr th:only-of-type {\n        vertical-align: middle;\n    }\n\n    .dataframe tbody tr th {\n        vertical-align: top;\n    }\n\n    .dataframe thead th {\n        text-align: right;\n    }\n</style>\n<table border=\"1\" class=\"dataframe\">\n  <thead>\n    <tr style=\"text-align: right;\">\n      <th></th>\n      <th>이름</th>\n      <th>그룹</th>\n      <th>소속사</th>\n      <th>성별</th>\n      <th>생년월일</th>\n      <th>키</th>\n      <th>혈액형</th>\n      <th>브랜드평판지수</th>\n      <th>연봉</th>\n      <th>가족수</th>\n    </tr>\n  </thead>\n  <tbody>\n    <tr>\n      <th>0</th>\n      <td>지민</td>\n      <td>방탄소년단</td>\n      <td>빅히트</td>\n      <td>남자</td>\n      <td>1995-10-13</td>\n      <td>173.6</td>\n      <td>A</td>\n      <td>10523260.0</td>\n      <td>3000</td>\n      <td>3</td>\n    </tr>\n    <tr>\n      <th>1</th>\n      <td>지드래곤</td>\n      <td>NaN</td>\n      <td>NaN</td>\n      <td>NaN</td>\n      <td>NaN</td>\n      <td>NaN</td>\n      <td>NaN</td>\n      <td>NaN</td>\n      <td>3500</td>\n      <td>3</td>\n    </tr>\n    <tr>\n      <th>2</th>\n      <td>강다니엘</td>\n      <td>NaN</td>\n      <td>커넥트</td>\n      <td>남자</td>\n      <td>1996-12-10</td>\n      <td>180.0</td>\n      <td>A</td>\n      <td>8273745.0</td>\n      <td>3200</td>\n      <td>4</td>\n    </tr>\n    <tr>\n      <th>3</th>\n      <td>화사</td>\n      <td>마마무</td>\n      <td>RBW</td>\n      <td>여자</td>\n      <td>1995-07-23</td>\n      <td>162.1</td>\n      <td>A</td>\n      <td>7650928.0</td>\n      <td>4300</td>\n      <td>3</td>\n    </tr>\n    <tr>\n      <th>4</th>\n      <td>민현</td>\n      <td>뉴이스트</td>\n      <td>플레디스</td>\n      <td>남자</td>\n      <td>1995-08-09</td>\n      <td>182.3</td>\n      <td>O</td>\n      <td>4989792.0</td>\n      <td>3400</td>\n      <td>6</td>\n    </tr>\n    <tr>\n      <th>5</th>\n      <td>소연</td>\n      <td>아이들</td>\n      <td>큐브</td>\n      <td>여자</td>\n      <td>1998-08-26</td>\n      <td>NaN</td>\n      <td>B</td>\n      <td>4668615.0</td>\n      <td>4500</td>\n      <td>5</td>\n    </tr>\n    <tr>\n      <th>6</th>\n      <td>진</td>\n      <td>방탄소년단</td>\n      <td>빅히트</td>\n      <td>남자</td>\n      <td>1992-12-04</td>\n      <td>179.2</td>\n      <td>O</td>\n      <td>4570308.0</td>\n      <td>4200</td>\n      <td>4</td>\n    </tr>\n    <tr>\n      <th>7</th>\n      <td>하성운</td>\n      <td>핫샷</td>\n      <td>스타크루이엔티</td>\n      <td>남자</td>\n      <td>1994-03-22</td>\n      <td>167.1</td>\n      <td>A</td>\n      <td>4036489.0</td>\n      <td>4300</td>\n      <td>4</td>\n    </tr>\n    <tr>\n      <th>8</th>\n      <td>태연</td>\n      <td>소녀시대</td>\n      <td>SM</td>\n      <td>여자</td>\n      <td>1989-03-09</td>\n      <td>NaN</td>\n      <td>A</td>\n      <td>3918661.0</td>\n      <td>3700</td>\n      <td>3</td>\n    </tr>\n    <tr>\n      <th>9</th>\n      <td>차은우</td>\n      <td>아스트로</td>\n      <td>판타지오</td>\n      <td>남자</td>\n      <td>1997-03-30</td>\n      <td>183.0</td>\n      <td>B</td>\n      <td>3506027.0</td>\n      <td>3850</td>\n      <td>5</td>\n    </tr>\n    <tr>\n      <th>10</th>\n      <td>백호</td>\n      <td>뉴이스트</td>\n      <td>플레디스</td>\n      <td>남자</td>\n      <td>1995-07-21</td>\n      <td>175.0</td>\n      <td>AB</td>\n      <td>3301654.0</td>\n      <td>3900</td>\n      <td>4</td>\n    </tr>\n    <tr>\n      <th>11</th>\n      <td>JR</td>\n      <td>뉴이스트</td>\n      <td>플레디스</td>\n      <td>남자</td>\n      <td>1995-06-08</td>\n      <td>176.0</td>\n      <td>O</td>\n      <td>3274137.0</td>\n      <td>4100</td>\n      <td>3</td>\n    </tr>\n    <tr>\n      <th>12</th>\n      <td>슈가</td>\n      <td>방탄소년단</td>\n      <td>빅히트</td>\n      <td>남자</td>\n      <td>1993-03-09</td>\n      <td>174.0</td>\n      <td>O</td>\n      <td>2925442.0</td>\n      <td>4150</td>\n      <td>3</td>\n    </tr>\n  </tbody>\n</table>\n</div>"
     },
     "metadata": {},
     "execution_count": 15
    }
   ],
   "source": [
    "# right 인 경우 right DataFrame을 기준으로 병합이 됨 (행 데이터 개수 : 13개)\n",
    "pd.merge(d, d2, on='이름', how='right')"
   ]
  },
  {
   "source": [
    "### 2) inner, outer 방식\n",
    "* inner 방식은 두개의 DataFrame에 키 값이 모두 존재하는 경우에 병합이 됨\n",
    "* outer 방식은 하나의 DataFrame에 키 값이 있는 경우에 모두 병합이 됨"
   ],
   "cell_type": "markdown",
   "metadata": {}
  },
  {
   "cell_type": "code",
   "execution_count": 16,
   "metadata": {},
   "outputs": [
    {
     "output_type": "execute_result",
     "data": {
      "text/plain": [
       "      이름     그룹      소속사  성별        생년월일      키 혈액형   브랜드평판지수    연봉  가족수\n",
       "0     지민  방탄소년단      빅히트  남자  1995-10-13  173.6   A  10523260  3000    3\n",
       "1   강다니엘    NaN      커넥트  남자  1996-12-10  180.0   A   8273745  3200    4\n",
       "2     화사    마마무      RBW  여자  1995-07-23  162.1   A   7650928  4300    3\n",
       "3     민현   뉴이스트     플레디스  남자  1995-08-09  182.3   O   4989792  3400    6\n",
       "4     소연    아이들       큐브  여자  1998-08-26    NaN   B   4668615  4500    5\n",
       "5      진  방탄소년단      빅히트  남자  1992-12-04  179.2   O   4570308  4200    4\n",
       "6    하성운     핫샷  스타크루이엔티  남자  1994-03-22  167.1   A   4036489  4300    4\n",
       "7     태연   소녀시대       SM  여자  1989-03-09    NaN   A   3918661  3700    3\n",
       "8    차은우   아스트로     판타지오  남자  1997-03-30  183.0   B   3506027  3850    5\n",
       "9     백호   뉴이스트     플레디스  남자  1995-07-21  175.0  AB   3301654  3900    4\n",
       "10    JR   뉴이스트     플레디스  남자  1995-06-08  176.0   O   3274137  4100    3\n",
       "11    슈가  방탄소년단      빅히트  남자  1993-03-09  174.0   O   2925442  4150    3"
      ],
      "text/html": "<div>\n<style scoped>\n    .dataframe tbody tr th:only-of-type {\n        vertical-align: middle;\n    }\n\n    .dataframe tbody tr th {\n        vertical-align: top;\n    }\n\n    .dataframe thead th {\n        text-align: right;\n    }\n</style>\n<table border=\"1\" class=\"dataframe\">\n  <thead>\n    <tr style=\"text-align: right;\">\n      <th></th>\n      <th>이름</th>\n      <th>그룹</th>\n      <th>소속사</th>\n      <th>성별</th>\n      <th>생년월일</th>\n      <th>키</th>\n      <th>혈액형</th>\n      <th>브랜드평판지수</th>\n      <th>연봉</th>\n      <th>가족수</th>\n    </tr>\n  </thead>\n  <tbody>\n    <tr>\n      <th>0</th>\n      <td>지민</td>\n      <td>방탄소년단</td>\n      <td>빅히트</td>\n      <td>남자</td>\n      <td>1995-10-13</td>\n      <td>173.6</td>\n      <td>A</td>\n      <td>10523260</td>\n      <td>3000</td>\n      <td>3</td>\n    </tr>\n    <tr>\n      <th>1</th>\n      <td>강다니엘</td>\n      <td>NaN</td>\n      <td>커넥트</td>\n      <td>남자</td>\n      <td>1996-12-10</td>\n      <td>180.0</td>\n      <td>A</td>\n      <td>8273745</td>\n      <td>3200</td>\n      <td>4</td>\n    </tr>\n    <tr>\n      <th>2</th>\n      <td>화사</td>\n      <td>마마무</td>\n      <td>RBW</td>\n      <td>여자</td>\n      <td>1995-07-23</td>\n      <td>162.1</td>\n      <td>A</td>\n      <td>7650928</td>\n      <td>4300</td>\n      <td>3</td>\n    </tr>\n    <tr>\n      <th>3</th>\n      <td>민현</td>\n      <td>뉴이스트</td>\n      <td>플레디스</td>\n      <td>남자</td>\n      <td>1995-08-09</td>\n      <td>182.3</td>\n      <td>O</td>\n      <td>4989792</td>\n      <td>3400</td>\n      <td>6</td>\n    </tr>\n    <tr>\n      <th>4</th>\n      <td>소연</td>\n      <td>아이들</td>\n      <td>큐브</td>\n      <td>여자</td>\n      <td>1998-08-26</td>\n      <td>NaN</td>\n      <td>B</td>\n      <td>4668615</td>\n      <td>4500</td>\n      <td>5</td>\n    </tr>\n    <tr>\n      <th>5</th>\n      <td>진</td>\n      <td>방탄소년단</td>\n      <td>빅히트</td>\n      <td>남자</td>\n      <td>1992-12-04</td>\n      <td>179.2</td>\n      <td>O</td>\n      <td>4570308</td>\n      <td>4200</td>\n      <td>4</td>\n    </tr>\n    <tr>\n      <th>6</th>\n      <td>하성운</td>\n      <td>핫샷</td>\n      <td>스타크루이엔티</td>\n      <td>남자</td>\n      <td>1994-03-22</td>\n      <td>167.1</td>\n      <td>A</td>\n      <td>4036489</td>\n      <td>4300</td>\n      <td>4</td>\n    </tr>\n    <tr>\n      <th>7</th>\n      <td>태연</td>\n      <td>소녀시대</td>\n      <td>SM</td>\n      <td>여자</td>\n      <td>1989-03-09</td>\n      <td>NaN</td>\n      <td>A</td>\n      <td>3918661</td>\n      <td>3700</td>\n      <td>3</td>\n    </tr>\n    <tr>\n      <th>8</th>\n      <td>차은우</td>\n      <td>아스트로</td>\n      <td>판타지오</td>\n      <td>남자</td>\n      <td>1997-03-30</td>\n      <td>183.0</td>\n      <td>B</td>\n      <td>3506027</td>\n      <td>3850</td>\n      <td>5</td>\n    </tr>\n    <tr>\n      <th>9</th>\n      <td>백호</td>\n      <td>뉴이스트</td>\n      <td>플레디스</td>\n      <td>남자</td>\n      <td>1995-07-21</td>\n      <td>175.0</td>\n      <td>AB</td>\n      <td>3301654</td>\n      <td>3900</td>\n      <td>4</td>\n    </tr>\n    <tr>\n      <th>10</th>\n      <td>JR</td>\n      <td>뉴이스트</td>\n      <td>플레디스</td>\n      <td>남자</td>\n      <td>1995-06-08</td>\n      <td>176.0</td>\n      <td>O</td>\n      <td>3274137</td>\n      <td>4100</td>\n      <td>3</td>\n    </tr>\n    <tr>\n      <th>11</th>\n      <td>슈가</td>\n      <td>방탄소년단</td>\n      <td>빅히트</td>\n      <td>남자</td>\n      <td>1993-03-09</td>\n      <td>174.0</td>\n      <td>O</td>\n      <td>2925442</td>\n      <td>4150</td>\n      <td>3</td>\n    </tr>\n  </tbody>\n</table>\n</div>"
     },
     "metadata": {},
     "execution_count": 16
    }
   ],
   "source": [
    "# 데이터 개수 : 12개\n",
    "pd.merge(d, d2, on='이름', how='inner')"
   ]
  },
  {
   "cell_type": "code",
   "execution_count": 17,
   "metadata": {},
   "outputs": [
    {
     "output_type": "execute_result",
     "data": {
      "text/plain": [
       "      이름     그룹      소속사   성별        생년월일      키  혈액형     브랜드평판지수      연봉  가족수\n",
       "0     지민  방탄소년단      빅히트   남자  1995-10-13  173.6    A  10523260.0  3000.0  3.0\n",
       "1   강다니엘    NaN      커넥트   남자  1996-12-10  180.0    A   8273745.0  3200.0  4.0\n",
       "2      뷔  방탄소년단      빅히트   남자  1995-12-30  178.0   AB   8073501.0     NaN  NaN\n",
       "3     화사    마마무      RBW   여자  1995-07-23  162.1    A   7650928.0  4300.0  3.0\n",
       "4     정국  방탄소년단      빅히트   남자  1997-09-01  178.0    A   5208335.0     NaN  NaN\n",
       "5     민현   뉴이스트     플레디스   남자  1995-08-09  182.3    O   4989792.0  3400.0  6.0\n",
       "6     소연    아이들       큐브   여자  1998-08-26    NaN    B   4668615.0  4500.0  5.0\n",
       "7      진  방탄소년단      빅히트   남자  1992-12-04  179.2    O   4570308.0  4200.0  4.0\n",
       "8    하성운     핫샷  스타크루이엔티   남자  1994-03-22  167.1    A   4036489.0  4300.0  4.0\n",
       "9     태연   소녀시대       SM   여자  1989-03-09    NaN    A   3918661.0  3700.0  3.0\n",
       "10   차은우   아스트로     판타지오   남자  1997-03-30  183.0    B   3506027.0  3850.0  5.0\n",
       "11    백호   뉴이스트     플레디스   남자  1995-07-21  175.0   AB   3301654.0  3900.0  4.0\n",
       "12    JR   뉴이스트     플레디스   남자  1995-06-08  176.0    O   3274137.0  4100.0  3.0\n",
       "13    슈가  방탄소년단      빅히트   남자  1993-03-09  174.0    O   2925442.0  4150.0  3.0\n",
       "14  지드래곤    NaN      NaN  NaN         NaN    NaN  NaN         NaN  3500.0  3.0"
      ],
      "text/html": "<div>\n<style scoped>\n    .dataframe tbody tr th:only-of-type {\n        vertical-align: middle;\n    }\n\n    .dataframe tbody tr th {\n        vertical-align: top;\n    }\n\n    .dataframe thead th {\n        text-align: right;\n    }\n</style>\n<table border=\"1\" class=\"dataframe\">\n  <thead>\n    <tr style=\"text-align: right;\">\n      <th></th>\n      <th>이름</th>\n      <th>그룹</th>\n      <th>소속사</th>\n      <th>성별</th>\n      <th>생년월일</th>\n      <th>키</th>\n      <th>혈액형</th>\n      <th>브랜드평판지수</th>\n      <th>연봉</th>\n      <th>가족수</th>\n    </tr>\n  </thead>\n  <tbody>\n    <tr>\n      <th>0</th>\n      <td>지민</td>\n      <td>방탄소년단</td>\n      <td>빅히트</td>\n      <td>남자</td>\n      <td>1995-10-13</td>\n      <td>173.6</td>\n      <td>A</td>\n      <td>10523260.0</td>\n      <td>3000.0</td>\n      <td>3.0</td>\n    </tr>\n    <tr>\n      <th>1</th>\n      <td>강다니엘</td>\n      <td>NaN</td>\n      <td>커넥트</td>\n      <td>남자</td>\n      <td>1996-12-10</td>\n      <td>180.0</td>\n      <td>A</td>\n      <td>8273745.0</td>\n      <td>3200.0</td>\n      <td>4.0</td>\n    </tr>\n    <tr>\n      <th>2</th>\n      <td>뷔</td>\n      <td>방탄소년단</td>\n      <td>빅히트</td>\n      <td>남자</td>\n      <td>1995-12-30</td>\n      <td>178.0</td>\n      <td>AB</td>\n      <td>8073501.0</td>\n      <td>NaN</td>\n      <td>NaN</td>\n    </tr>\n    <tr>\n      <th>3</th>\n      <td>화사</td>\n      <td>마마무</td>\n      <td>RBW</td>\n      <td>여자</td>\n      <td>1995-07-23</td>\n      <td>162.1</td>\n      <td>A</td>\n      <td>7650928.0</td>\n      <td>4300.0</td>\n      <td>3.0</td>\n    </tr>\n    <tr>\n      <th>4</th>\n      <td>정국</td>\n      <td>방탄소년단</td>\n      <td>빅히트</td>\n      <td>남자</td>\n      <td>1997-09-01</td>\n      <td>178.0</td>\n      <td>A</td>\n      <td>5208335.0</td>\n      <td>NaN</td>\n      <td>NaN</td>\n    </tr>\n    <tr>\n      <th>5</th>\n      <td>민현</td>\n      <td>뉴이스트</td>\n      <td>플레디스</td>\n      <td>남자</td>\n      <td>1995-08-09</td>\n      <td>182.3</td>\n      <td>O</td>\n      <td>4989792.0</td>\n      <td>3400.0</td>\n      <td>6.0</td>\n    </tr>\n    <tr>\n      <th>6</th>\n      <td>소연</td>\n      <td>아이들</td>\n      <td>큐브</td>\n      <td>여자</td>\n      <td>1998-08-26</td>\n      <td>NaN</td>\n      <td>B</td>\n      <td>4668615.0</td>\n      <td>4500.0</td>\n      <td>5.0</td>\n    </tr>\n    <tr>\n      <th>7</th>\n      <td>진</td>\n      <td>방탄소년단</td>\n      <td>빅히트</td>\n      <td>남자</td>\n      <td>1992-12-04</td>\n      <td>179.2</td>\n      <td>O</td>\n      <td>4570308.0</td>\n      <td>4200.0</td>\n      <td>4.0</td>\n    </tr>\n    <tr>\n      <th>8</th>\n      <td>하성운</td>\n      <td>핫샷</td>\n      <td>스타크루이엔티</td>\n      <td>남자</td>\n      <td>1994-03-22</td>\n      <td>167.1</td>\n      <td>A</td>\n      <td>4036489.0</td>\n      <td>4300.0</td>\n      <td>4.0</td>\n    </tr>\n    <tr>\n      <th>9</th>\n      <td>태연</td>\n      <td>소녀시대</td>\n      <td>SM</td>\n      <td>여자</td>\n      <td>1989-03-09</td>\n      <td>NaN</td>\n      <td>A</td>\n      <td>3918661.0</td>\n      <td>3700.0</td>\n      <td>3.0</td>\n    </tr>\n    <tr>\n      <th>10</th>\n      <td>차은우</td>\n      <td>아스트로</td>\n      <td>판타지오</td>\n      <td>남자</td>\n      <td>1997-03-30</td>\n      <td>183.0</td>\n      <td>B</td>\n      <td>3506027.0</td>\n      <td>3850.0</td>\n      <td>5.0</td>\n    </tr>\n    <tr>\n      <th>11</th>\n      <td>백호</td>\n      <td>뉴이스트</td>\n      <td>플레디스</td>\n      <td>남자</td>\n      <td>1995-07-21</td>\n      <td>175.0</td>\n      <td>AB</td>\n      <td>3301654.0</td>\n      <td>3900.0</td>\n      <td>4.0</td>\n    </tr>\n    <tr>\n      <th>12</th>\n      <td>JR</td>\n      <td>뉴이스트</td>\n      <td>플레디스</td>\n      <td>남자</td>\n      <td>1995-06-08</td>\n      <td>176.0</td>\n      <td>O</td>\n      <td>3274137.0</td>\n      <td>4100.0</td>\n      <td>3.0</td>\n    </tr>\n    <tr>\n      <th>13</th>\n      <td>슈가</td>\n      <td>방탄소년단</td>\n      <td>빅히트</td>\n      <td>남자</td>\n      <td>1993-03-09</td>\n      <td>174.0</td>\n      <td>O</td>\n      <td>2925442.0</td>\n      <td>4150.0</td>\n      <td>3.0</td>\n    </tr>\n    <tr>\n      <th>14</th>\n      <td>지드래곤</td>\n      <td>NaN</td>\n      <td>NaN</td>\n      <td>NaN</td>\n      <td>NaN</td>\n      <td>NaN</td>\n      <td>NaN</td>\n      <td>NaN</td>\n      <td>3500.0</td>\n      <td>3.0</td>\n    </tr>\n  </tbody>\n</table>\n</div>"
     },
     "metadata": {},
     "execution_count": 17
    }
   ],
   "source": [
    "# 데이터 개수 : 15개 \n",
    "pd.merge(d, d2, on='이름',how='outer')"
   ]
  },
  {
   "cell_type": "code",
   "execution_count": 18,
   "metadata": {},
   "outputs": [
    {
     "output_type": "execute_result",
     "data": {
      "text/plain": [
       "      성함    연봉  가족수\n",
       "0     지민  3000    3\n",
       "1   지드래곤  3500    3\n",
       "2   강다니엘  3200    4\n",
       "3     화사  4300    3\n",
       "4     민현  3400    6\n",
       "5     소연  4500    5\n",
       "6      진  4200    4\n",
       "7    하성운  4300    4\n",
       "8     태연  3700    3\n",
       "9    차은우  3850    5\n",
       "10    백호  3900    4\n",
       "11    JR  4100    3\n",
       "12    슈가  4150    3"
      ],
      "text/html": "<div>\n<style scoped>\n    .dataframe tbody tr th:only-of-type {\n        vertical-align: middle;\n    }\n\n    .dataframe tbody tr th {\n        vertical-align: top;\n    }\n\n    .dataframe thead th {\n        text-align: right;\n    }\n</style>\n<table border=\"1\" class=\"dataframe\">\n  <thead>\n    <tr style=\"text-align: right;\">\n      <th></th>\n      <th>성함</th>\n      <th>연봉</th>\n      <th>가족수</th>\n    </tr>\n  </thead>\n  <tbody>\n    <tr>\n      <th>0</th>\n      <td>지민</td>\n      <td>3000</td>\n      <td>3</td>\n    </tr>\n    <tr>\n      <th>1</th>\n      <td>지드래곤</td>\n      <td>3500</td>\n      <td>3</td>\n    </tr>\n    <tr>\n      <th>2</th>\n      <td>강다니엘</td>\n      <td>3200</td>\n      <td>4</td>\n    </tr>\n    <tr>\n      <th>3</th>\n      <td>화사</td>\n      <td>4300</td>\n      <td>3</td>\n    </tr>\n    <tr>\n      <th>4</th>\n      <td>민현</td>\n      <td>3400</td>\n      <td>6</td>\n    </tr>\n    <tr>\n      <th>5</th>\n      <td>소연</td>\n      <td>4500</td>\n      <td>5</td>\n    </tr>\n    <tr>\n      <th>6</th>\n      <td>진</td>\n      <td>4200</td>\n      <td>4</td>\n    </tr>\n    <tr>\n      <th>7</th>\n      <td>하성운</td>\n      <td>4300</td>\n      <td>4</td>\n    </tr>\n    <tr>\n      <th>8</th>\n      <td>태연</td>\n      <td>3700</td>\n      <td>3</td>\n    </tr>\n    <tr>\n      <th>9</th>\n      <td>차은우</td>\n      <td>3850</td>\n      <td>5</td>\n    </tr>\n    <tr>\n      <th>10</th>\n      <td>백호</td>\n      <td>3900</td>\n      <td>4</td>\n    </tr>\n    <tr>\n      <th>11</th>\n      <td>JR</td>\n      <td>4100</td>\n      <td>3</td>\n    </tr>\n    <tr>\n      <th>12</th>\n      <td>슈가</td>\n      <td>4150</td>\n      <td>3</td>\n    </tr>\n  </tbody>\n</table>\n</div>"
     },
     "metadata": {},
     "execution_count": 18
    }
   ],
   "source": [
    "# 컬럼명은 다르지만, 동일한 데이터의 경우 병합하기\n",
    "d2.columns = ['성함','연봉','가족수']\n",
    "d2"
   ]
  },
  {
   "cell_type": "code",
   "execution_count": 19,
   "metadata": {},
   "outputs": [
    {
     "output_type": "execute_result",
     "data": {
      "text/plain": [
       "      이름     그룹      소속사   성별        생년월일      키  혈액형     브랜드평판지수    성함  \\\n",
       "0     지민  방탄소년단      빅히트   남자  1995-10-13  173.6    A  10523260.0    지민   \n",
       "1   강다니엘    NaN      커넥트   남자  1996-12-10  180.0    A   8273745.0  강다니엘   \n",
       "2      뷔  방탄소년단      빅히트   남자  1995-12-30  178.0   AB   8073501.0   NaN   \n",
       "3     화사    마마무      RBW   여자  1995-07-23  162.1    A   7650928.0    화사   \n",
       "4     정국  방탄소년단      빅히트   남자  1997-09-01  178.0    A   5208335.0   NaN   \n",
       "5     민현   뉴이스트     플레디스   남자  1995-08-09  182.3    O   4989792.0    민현   \n",
       "6     소연    아이들       큐브   여자  1998-08-26    NaN    B   4668615.0    소연   \n",
       "7      진  방탄소년단      빅히트   남자  1992-12-04  179.2    O   4570308.0     진   \n",
       "8    하성운     핫샷  스타크루이엔티   남자  1994-03-22  167.1    A   4036489.0   하성운   \n",
       "9     태연   소녀시대       SM   여자  1989-03-09    NaN    A   3918661.0    태연   \n",
       "10   차은우   아스트로     판타지오   남자  1997-03-30  183.0    B   3506027.0   차은우   \n",
       "11    백호   뉴이스트     플레디스   남자  1995-07-21  175.0   AB   3301654.0    백호   \n",
       "12    JR   뉴이스트     플레디스   남자  1995-06-08  176.0    O   3274137.0    JR   \n",
       "13    슈가  방탄소년단      빅히트   남자  1993-03-09  174.0    O   2925442.0    슈가   \n",
       "14   NaN    NaN      NaN  NaN         NaN    NaN  NaN         NaN  지드래곤   \n",
       "\n",
       "        연봉  가족수  \n",
       "0   3000.0  3.0  \n",
       "1   3200.0  4.0  \n",
       "2      NaN  NaN  \n",
       "3   4300.0  3.0  \n",
       "4      NaN  NaN  \n",
       "5   3400.0  6.0  \n",
       "6   4500.0  5.0  \n",
       "7   4200.0  4.0  \n",
       "8   4300.0  4.0  \n",
       "9   3700.0  3.0  \n",
       "10  3850.0  5.0  \n",
       "11  3900.0  4.0  \n",
       "12  4100.0  3.0  \n",
       "13  4150.0  3.0  \n",
       "14  3500.0  3.0  "
      ],
      "text/html": "<div>\n<style scoped>\n    .dataframe tbody tr th:only-of-type {\n        vertical-align: middle;\n    }\n\n    .dataframe tbody tr th {\n        vertical-align: top;\n    }\n\n    .dataframe thead th {\n        text-align: right;\n    }\n</style>\n<table border=\"1\" class=\"dataframe\">\n  <thead>\n    <tr style=\"text-align: right;\">\n      <th></th>\n      <th>이름</th>\n      <th>그룹</th>\n      <th>소속사</th>\n      <th>성별</th>\n      <th>생년월일</th>\n      <th>키</th>\n      <th>혈액형</th>\n      <th>브랜드평판지수</th>\n      <th>성함</th>\n      <th>연봉</th>\n      <th>가족수</th>\n    </tr>\n  </thead>\n  <tbody>\n    <tr>\n      <th>0</th>\n      <td>지민</td>\n      <td>방탄소년단</td>\n      <td>빅히트</td>\n      <td>남자</td>\n      <td>1995-10-13</td>\n      <td>173.6</td>\n      <td>A</td>\n      <td>10523260.0</td>\n      <td>지민</td>\n      <td>3000.0</td>\n      <td>3.0</td>\n    </tr>\n    <tr>\n      <th>1</th>\n      <td>강다니엘</td>\n      <td>NaN</td>\n      <td>커넥트</td>\n      <td>남자</td>\n      <td>1996-12-10</td>\n      <td>180.0</td>\n      <td>A</td>\n      <td>8273745.0</td>\n      <td>강다니엘</td>\n      <td>3200.0</td>\n      <td>4.0</td>\n    </tr>\n    <tr>\n      <th>2</th>\n      <td>뷔</td>\n      <td>방탄소년단</td>\n      <td>빅히트</td>\n      <td>남자</td>\n      <td>1995-12-30</td>\n      <td>178.0</td>\n      <td>AB</td>\n      <td>8073501.0</td>\n      <td>NaN</td>\n      <td>NaN</td>\n      <td>NaN</td>\n    </tr>\n    <tr>\n      <th>3</th>\n      <td>화사</td>\n      <td>마마무</td>\n      <td>RBW</td>\n      <td>여자</td>\n      <td>1995-07-23</td>\n      <td>162.1</td>\n      <td>A</td>\n      <td>7650928.0</td>\n      <td>화사</td>\n      <td>4300.0</td>\n      <td>3.0</td>\n    </tr>\n    <tr>\n      <th>4</th>\n      <td>정국</td>\n      <td>방탄소년단</td>\n      <td>빅히트</td>\n      <td>남자</td>\n      <td>1997-09-01</td>\n      <td>178.0</td>\n      <td>A</td>\n      <td>5208335.0</td>\n      <td>NaN</td>\n      <td>NaN</td>\n      <td>NaN</td>\n    </tr>\n    <tr>\n      <th>5</th>\n      <td>민현</td>\n      <td>뉴이스트</td>\n      <td>플레디스</td>\n      <td>남자</td>\n      <td>1995-08-09</td>\n      <td>182.3</td>\n      <td>O</td>\n      <td>4989792.0</td>\n      <td>민현</td>\n      <td>3400.0</td>\n      <td>6.0</td>\n    </tr>\n    <tr>\n      <th>6</th>\n      <td>소연</td>\n      <td>아이들</td>\n      <td>큐브</td>\n      <td>여자</td>\n      <td>1998-08-26</td>\n      <td>NaN</td>\n      <td>B</td>\n      <td>4668615.0</td>\n      <td>소연</td>\n      <td>4500.0</td>\n      <td>5.0</td>\n    </tr>\n    <tr>\n      <th>7</th>\n      <td>진</td>\n      <td>방탄소년단</td>\n      <td>빅히트</td>\n      <td>남자</td>\n      <td>1992-12-04</td>\n      <td>179.2</td>\n      <td>O</td>\n      <td>4570308.0</td>\n      <td>진</td>\n      <td>4200.0</td>\n      <td>4.0</td>\n    </tr>\n    <tr>\n      <th>8</th>\n      <td>하성운</td>\n      <td>핫샷</td>\n      <td>스타크루이엔티</td>\n      <td>남자</td>\n      <td>1994-03-22</td>\n      <td>167.1</td>\n      <td>A</td>\n      <td>4036489.0</td>\n      <td>하성운</td>\n      <td>4300.0</td>\n      <td>4.0</td>\n    </tr>\n    <tr>\n      <th>9</th>\n      <td>태연</td>\n      <td>소녀시대</td>\n      <td>SM</td>\n      <td>여자</td>\n      <td>1989-03-09</td>\n      <td>NaN</td>\n      <td>A</td>\n      <td>3918661.0</td>\n      <td>태연</td>\n      <td>3700.0</td>\n      <td>3.0</td>\n    </tr>\n    <tr>\n      <th>10</th>\n      <td>차은우</td>\n      <td>아스트로</td>\n      <td>판타지오</td>\n      <td>남자</td>\n      <td>1997-03-30</td>\n      <td>183.0</td>\n      <td>B</td>\n      <td>3506027.0</td>\n      <td>차은우</td>\n      <td>3850.0</td>\n      <td>5.0</td>\n    </tr>\n    <tr>\n      <th>11</th>\n      <td>백호</td>\n      <td>뉴이스트</td>\n      <td>플레디스</td>\n      <td>남자</td>\n      <td>1995-07-21</td>\n      <td>175.0</td>\n      <td>AB</td>\n      <td>3301654.0</td>\n      <td>백호</td>\n      <td>3900.0</td>\n      <td>4.0</td>\n    </tr>\n    <tr>\n      <th>12</th>\n      <td>JR</td>\n      <td>뉴이스트</td>\n      <td>플레디스</td>\n      <td>남자</td>\n      <td>1995-06-08</td>\n      <td>176.0</td>\n      <td>O</td>\n      <td>3274137.0</td>\n      <td>JR</td>\n      <td>4100.0</td>\n      <td>3.0</td>\n    </tr>\n    <tr>\n      <th>13</th>\n      <td>슈가</td>\n      <td>방탄소년단</td>\n      <td>빅히트</td>\n      <td>남자</td>\n      <td>1993-03-09</td>\n      <td>174.0</td>\n      <td>O</td>\n      <td>2925442.0</td>\n      <td>슈가</td>\n      <td>4150.0</td>\n      <td>3.0</td>\n    </tr>\n    <tr>\n      <th>14</th>\n      <td>NaN</td>\n      <td>NaN</td>\n      <td>NaN</td>\n      <td>NaN</td>\n      <td>NaN</td>\n      <td>NaN</td>\n      <td>NaN</td>\n      <td>NaN</td>\n      <td>지드래곤</td>\n      <td>3500.0</td>\n      <td>3.0</td>\n    </tr>\n  </tbody>\n</table>\n</div>"
     },
     "metadata": {},
     "execution_count": 19
    }
   ],
   "source": [
    "pd.merge(d, d2, left_on='이름', right_on='성함', how='outer')"
   ]
  },
  {
   "cell_type": "code",
   "execution_count": null,
   "metadata": {},
   "outputs": [],
   "source": []
  }
 ]
}