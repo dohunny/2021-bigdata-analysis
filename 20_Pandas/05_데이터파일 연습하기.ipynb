{
 "metadata": {
  "language_info": {
   "codemirror_mode": {
    "name": "ipython",
    "version": 3
   },
   "file_extension": ".py",
   "mimetype": "text/x-python",
   "name": "python",
   "nbconvert_exporter": "python",
   "pygments_lexer": "ipython3",
   "version": "3.9.2"
  },
  "orig_nbformat": 2,
  "kernelspec": {
   "name": "python392jvsc74a57bd043371bba9c6e23250490e6da0056aaa5f1d60e7cf3ba392e52160197a72b4ba5",
   "display_name": "Python 3.9.2 64-bit"
  },
  "metadata": {
   "interpreter": {
    "hash": "43371bba9c6e23250490e6da0056aaa5f1d60e7cf3ba392e52160197a72b4ba5"
   }
  }
 },
 "nbformat": 4,
 "nbformat_minor": 2,
 "cells": [
  {
   "source": [
    "# 5. DataFrame 연습하기"
   ],
   "cell_type": "markdown",
   "metadata": {}
  },
  {
   "cell_type": "code",
   "execution_count": 92,
   "metadata": {},
   "outputs": [],
   "source": [
    "import numpy as np \n",
    "import pandas as pd "
   ]
  },
  {
   "source": [
    "## 5-1. 데이터 가져오기"
   ],
   "cell_type": "markdown",
   "metadata": {}
  },
  {
   "cell_type": "code",
   "execution_count": 95,
   "metadata": {},
   "outputs": [
    {
     "output_type": "execute_result",
     "data": {
      "text/plain": [
       "      이름     그룹      소속사  성별        생년월일      키 혈액형   브랜드평판지수\n",
       "0     지민  방탄소년단      빅히트  남자  1995-10-13  173.6   A  10523260\n",
       "1   지드래곤     빅뱅       YG  남자  1988-08-18  177.0   A   9916947\n",
       "2   강다니엘    NaN      커넥트  남자  1996-12-10  180.0   A   8273745\n",
       "3      뷔  방탄소년단      빅히트  남자  1995-12-30  178.0  AB   8073501\n",
       "4     화사    마마무      RBW  여자  1995-07-23  162.1   A   7650928\n",
       "5     정국  방탄소년단      빅히트  남자  1997-09-01  178.0   A   5208335\n",
       "6     민현   뉴이스트     플레디스  남자  1995-08-09  182.3   O   4989792\n",
       "7     소연    아이들       큐브  여자  1998-08-26    NaN   B   4668615\n",
       "8      진  방탄소년단      빅히트  남자  1992-12-04  179.2   O   4570308\n",
       "9    하성운     핫샷  스타크루이엔티  남자  1994-03-22  167.1   A   4036489\n",
       "10    태연   소녀시대       SM  여자  1989-03-09    NaN   A   3918661\n",
       "11   차은우   아스트로     판타지오  남자  1997-03-30  183.0   B   3506027\n",
       "12    백호   뉴이스트     플레디스  남자  1995-07-21  175.0  AB   3301654\n",
       "13    JR   뉴이스트     플레디스  남자  1995-06-08  176.0   O   3274137\n",
       "14    슈가  방탄소년단      빅히트  남자  1993-03-09  174.0   O   2925442"
      ],
      "text/html": "<div>\n<style scoped>\n    .dataframe tbody tr th:only-of-type {\n        vertical-align: middle;\n    }\n\n    .dataframe tbody tr th {\n        vertical-align: top;\n    }\n\n    .dataframe thead th {\n        text-align: right;\n    }\n</style>\n<table border=\"1\" class=\"dataframe\">\n  <thead>\n    <tr style=\"text-align: right;\">\n      <th></th>\n      <th>이름</th>\n      <th>그룹</th>\n      <th>소속사</th>\n      <th>성별</th>\n      <th>생년월일</th>\n      <th>키</th>\n      <th>혈액형</th>\n      <th>브랜드평판지수</th>\n    </tr>\n  </thead>\n  <tbody>\n    <tr>\n      <th>0</th>\n      <td>지민</td>\n      <td>방탄소년단</td>\n      <td>빅히트</td>\n      <td>남자</td>\n      <td>1995-10-13</td>\n      <td>173.6</td>\n      <td>A</td>\n      <td>10523260</td>\n    </tr>\n    <tr>\n      <th>1</th>\n      <td>지드래곤</td>\n      <td>빅뱅</td>\n      <td>YG</td>\n      <td>남자</td>\n      <td>1988-08-18</td>\n      <td>177.0</td>\n      <td>A</td>\n      <td>9916947</td>\n    </tr>\n    <tr>\n      <th>2</th>\n      <td>강다니엘</td>\n      <td>NaN</td>\n      <td>커넥트</td>\n      <td>남자</td>\n      <td>1996-12-10</td>\n      <td>180.0</td>\n      <td>A</td>\n      <td>8273745</td>\n    </tr>\n    <tr>\n      <th>3</th>\n      <td>뷔</td>\n      <td>방탄소년단</td>\n      <td>빅히트</td>\n      <td>남자</td>\n      <td>1995-12-30</td>\n      <td>178.0</td>\n      <td>AB</td>\n      <td>8073501</td>\n    </tr>\n    <tr>\n      <th>4</th>\n      <td>화사</td>\n      <td>마마무</td>\n      <td>RBW</td>\n      <td>여자</td>\n      <td>1995-07-23</td>\n      <td>162.1</td>\n      <td>A</td>\n      <td>7650928</td>\n    </tr>\n    <tr>\n      <th>5</th>\n      <td>정국</td>\n      <td>방탄소년단</td>\n      <td>빅히트</td>\n      <td>남자</td>\n      <td>1997-09-01</td>\n      <td>178.0</td>\n      <td>A</td>\n      <td>5208335</td>\n    </tr>\n    <tr>\n      <th>6</th>\n      <td>민현</td>\n      <td>뉴이스트</td>\n      <td>플레디스</td>\n      <td>남자</td>\n      <td>1995-08-09</td>\n      <td>182.3</td>\n      <td>O</td>\n      <td>4989792</td>\n    </tr>\n    <tr>\n      <th>7</th>\n      <td>소연</td>\n      <td>아이들</td>\n      <td>큐브</td>\n      <td>여자</td>\n      <td>1998-08-26</td>\n      <td>NaN</td>\n      <td>B</td>\n      <td>4668615</td>\n    </tr>\n    <tr>\n      <th>8</th>\n      <td>진</td>\n      <td>방탄소년단</td>\n      <td>빅히트</td>\n      <td>남자</td>\n      <td>1992-12-04</td>\n      <td>179.2</td>\n      <td>O</td>\n      <td>4570308</td>\n    </tr>\n    <tr>\n      <th>9</th>\n      <td>하성운</td>\n      <td>핫샷</td>\n      <td>스타크루이엔티</td>\n      <td>남자</td>\n      <td>1994-03-22</td>\n      <td>167.1</td>\n      <td>A</td>\n      <td>4036489</td>\n    </tr>\n    <tr>\n      <th>10</th>\n      <td>태연</td>\n      <td>소녀시대</td>\n      <td>SM</td>\n      <td>여자</td>\n      <td>1989-03-09</td>\n      <td>NaN</td>\n      <td>A</td>\n      <td>3918661</td>\n    </tr>\n    <tr>\n      <th>11</th>\n      <td>차은우</td>\n      <td>아스트로</td>\n      <td>판타지오</td>\n      <td>남자</td>\n      <td>1997-03-30</td>\n      <td>183.0</td>\n      <td>B</td>\n      <td>3506027</td>\n    </tr>\n    <tr>\n      <th>12</th>\n      <td>백호</td>\n      <td>뉴이스트</td>\n      <td>플레디스</td>\n      <td>남자</td>\n      <td>1995-07-21</td>\n      <td>175.0</td>\n      <td>AB</td>\n      <td>3301654</td>\n    </tr>\n    <tr>\n      <th>13</th>\n      <td>JR</td>\n      <td>뉴이스트</td>\n      <td>플레디스</td>\n      <td>남자</td>\n      <td>1995-06-08</td>\n      <td>176.0</td>\n      <td>O</td>\n      <td>3274137</td>\n    </tr>\n    <tr>\n      <th>14</th>\n      <td>슈가</td>\n      <td>방탄소년단</td>\n      <td>빅히트</td>\n      <td>남자</td>\n      <td>1993-03-09</td>\n      <td>174.0</td>\n      <td>O</td>\n      <td>2925442</td>\n    </tr>\n  </tbody>\n</table>\n</div>"
     },
     "metadata": {},
     "execution_count": 95
    }
   ],
   "source": [
    "d = pd.read_csv('../data/korean-idol.csv')\n",
    "d"
   ]
  },
  {
   "source": [
    "# 5-2. 데이터 살펴보기\n"
   ],
   "cell_type": "markdown",
   "metadata": {}
  },
  {
   "cell_type": "code",
   "execution_count": 98,
   "metadata": {},
   "outputs": [
    {
     "output_type": "execute_result",
     "data": {
      "text/plain": [
       "(15, 8)"
      ]
     },
     "metadata": {},
     "execution_count": 98
    }
   ],
   "source": [
    "d.shape"
   ]
  },
  {
   "cell_type": "code",
   "execution_count": 101,
   "metadata": {},
   "outputs": [
    {
     "output_type": "execute_result",
     "data": {
      "text/plain": [
       "     이름     그룹  소속사  성별        생년월일      키 혈액형   브랜드평판지수\n",
       "0    지민  방탄소년단  빅히트  남자  1995-10-13  173.6   A  10523260\n",
       "1  지드래곤     빅뱅   YG  남자  1988-08-18  177.0   A   9916947\n",
       "2  강다니엘    NaN  커넥트  남자  1996-12-10  180.0   A   8273745\n",
       "3     뷔  방탄소년단  빅히트  남자  1995-12-30  178.0  AB   8073501\n",
       "4    화사    마마무  RBW  여자  1995-07-23  162.1   A   7650928"
      ],
      "text/html": "<div>\n<style scoped>\n    .dataframe tbody tr th:only-of-type {\n        vertical-align: middle;\n    }\n\n    .dataframe tbody tr th {\n        vertical-align: top;\n    }\n\n    .dataframe thead th {\n        text-align: right;\n    }\n</style>\n<table border=\"1\" class=\"dataframe\">\n  <thead>\n    <tr style=\"text-align: right;\">\n      <th></th>\n      <th>이름</th>\n      <th>그룹</th>\n      <th>소속사</th>\n      <th>성별</th>\n      <th>생년월일</th>\n      <th>키</th>\n      <th>혈액형</th>\n      <th>브랜드평판지수</th>\n    </tr>\n  </thead>\n  <tbody>\n    <tr>\n      <th>0</th>\n      <td>지민</td>\n      <td>방탄소년단</td>\n      <td>빅히트</td>\n      <td>남자</td>\n      <td>1995-10-13</td>\n      <td>173.6</td>\n      <td>A</td>\n      <td>10523260</td>\n    </tr>\n    <tr>\n      <th>1</th>\n      <td>지드래곤</td>\n      <td>빅뱅</td>\n      <td>YG</td>\n      <td>남자</td>\n      <td>1988-08-18</td>\n      <td>177.0</td>\n      <td>A</td>\n      <td>9916947</td>\n    </tr>\n    <tr>\n      <th>2</th>\n      <td>강다니엘</td>\n      <td>NaN</td>\n      <td>커넥트</td>\n      <td>남자</td>\n      <td>1996-12-10</td>\n      <td>180.0</td>\n      <td>A</td>\n      <td>8273745</td>\n    </tr>\n    <tr>\n      <th>3</th>\n      <td>뷔</td>\n      <td>방탄소년단</td>\n      <td>빅히트</td>\n      <td>남자</td>\n      <td>1995-12-30</td>\n      <td>178.0</td>\n      <td>AB</td>\n      <td>8073501</td>\n    </tr>\n    <tr>\n      <th>4</th>\n      <td>화사</td>\n      <td>마마무</td>\n      <td>RBW</td>\n      <td>여자</td>\n      <td>1995-07-23</td>\n      <td>162.1</td>\n      <td>A</td>\n      <td>7650928</td>\n    </tr>\n  </tbody>\n</table>\n</div>"
     },
     "metadata": {},
     "execution_count": 101
    }
   ],
   "source": [
    "d.head(5)"
   ]
  },
  {
   "cell_type": "code",
   "execution_count": 104,
   "metadata": {},
   "outputs": [
    {
     "output_type": "execute_result",
     "data": {
      "text/plain": [
       "     이름     그룹   소속사  성별        생년월일      키 혈액형   브랜드평판지수\n",
       "11  차은우   아스트로  판타지오  남자  1997-03-30  183.0   B   3506027\n",
       "12   백호   뉴이스트  플레디스  남자  1995-07-21  175.0  AB   3301654\n",
       "13   JR   뉴이스트  플레디스  남자  1995-06-08  176.0   O   3274137\n",
       "14   슈가  방탄소년단   빅히트  남자  1993-03-09  174.0   O   2925442\n",
       "16  아이유    NaN  EDAM  여자  1993-05-16  161.8   O  12345678"
      ],
      "text/html": "<div>\n<style scoped>\n    .dataframe tbody tr th:only-of-type {\n        vertical-align: middle;\n    }\n\n    .dataframe tbody tr th {\n        vertical-align: top;\n    }\n\n    .dataframe thead th {\n        text-align: right;\n    }\n</style>\n<table border=\"1\" class=\"dataframe\">\n  <thead>\n    <tr style=\"text-align: right;\">\n      <th></th>\n      <th>이름</th>\n      <th>그룹</th>\n      <th>소속사</th>\n      <th>성별</th>\n      <th>생년월일</th>\n      <th>키</th>\n      <th>혈액형</th>\n      <th>브랜드평판지수</th>\n    </tr>\n  </thead>\n  <tbody>\n    <tr>\n      <th>11</th>\n      <td>차은우</td>\n      <td>아스트로</td>\n      <td>판타지오</td>\n      <td>남자</td>\n      <td>1997-03-30</td>\n      <td>183.0</td>\n      <td>B</td>\n      <td>3506027</td>\n    </tr>\n    <tr>\n      <th>12</th>\n      <td>백호</td>\n      <td>뉴이스트</td>\n      <td>플레디스</td>\n      <td>남자</td>\n      <td>1995-07-21</td>\n      <td>175.0</td>\n      <td>AB</td>\n      <td>3301654</td>\n    </tr>\n    <tr>\n      <th>13</th>\n      <td>JR</td>\n      <td>뉴이스트</td>\n      <td>플레디스</td>\n      <td>남자</td>\n      <td>1995-06-08</td>\n      <td>176.0</td>\n      <td>O</td>\n      <td>3274137</td>\n    </tr>\n    <tr>\n      <th>14</th>\n      <td>슈가</td>\n      <td>방탄소년단</td>\n      <td>빅히트</td>\n      <td>남자</td>\n      <td>1993-03-09</td>\n      <td>174.0</td>\n      <td>O</td>\n      <td>2925442</td>\n    </tr>\n    <tr>\n      <th>16</th>\n      <td>아이유</td>\n      <td>NaN</td>\n      <td>EDAM</td>\n      <td>여자</td>\n      <td>1993-05-16</td>\n      <td>161.8</td>\n      <td>O</td>\n      <td>12345678</td>\n    </tr>\n  </tbody>\n</table>\n</div>"
     },
     "metadata": {},
     "execution_count": 104
    }
   ],
   "source": [
    "d.tail()"
   ]
  },
  {
   "cell_type": "code",
   "execution_count": 107,
   "metadata": {},
   "outputs": [
    {
     "output_type": "stream",
     "name": "stdout",
     "text": [
      "<class 'pandas.core.frame.DataFrame'>\nInt64Index: 15 entries, 0 to 14\nData columns (total 8 columns):\n #   Column   Non-Null Count  Dtype  \n---  ------   --------------  -----  \n 0   이름       15 non-null     object \n 1   그룹       14 non-null     object \n 2   소속사      15 non-null     object \n 3   성별       15 non-null     object \n 4   생년월일     15 non-null     object \n 5   키        13 non-null     float64\n 6   혈액형      15 non-null     object \n 7   브랜드평판지수  15 non-null     int64  \ndtypes: float64(1), int64(1), object(6)\nmemory usage: 1.1+ KB\n"
     ]
    }
   ],
   "source": [
    "d.info()"
   ]
  },
  {
   "cell_type": "code",
   "execution_count": 109,
   "metadata": {},
   "outputs": [
    {
     "output_type": "execute_result",
     "data": {
      "text/plain": [
       "                키       브랜드평판지수\n",
       "count   13.000000  1.500000e+01\n",
       "mean   175.792308  5.655856e+06\n",
       "std      5.820576  2.539068e+06\n",
       "min    162.100000  2.925442e+06\n",
       "25%    174.000000  3.712344e+06\n",
       "50%    177.000000  4.668615e+06\n",
       "75%    179.200000  7.862214e+06\n",
       "max    183.000000  1.052326e+07"
      ],
      "text/html": "<div>\n<style scoped>\n    .dataframe tbody tr th:only-of-type {\n        vertical-align: middle;\n    }\n\n    .dataframe tbody tr th {\n        vertical-align: top;\n    }\n\n    .dataframe thead th {\n        text-align: right;\n    }\n</style>\n<table border=\"1\" class=\"dataframe\">\n  <thead>\n    <tr style=\"text-align: right;\">\n      <th></th>\n      <th>키</th>\n      <th>브랜드평판지수</th>\n    </tr>\n  </thead>\n  <tbody>\n    <tr>\n      <th>count</th>\n      <td>13.000000</td>\n      <td>1.500000e+01</td>\n    </tr>\n    <tr>\n      <th>mean</th>\n      <td>175.792308</td>\n      <td>5.655856e+06</td>\n    </tr>\n    <tr>\n      <th>std</th>\n      <td>5.820576</td>\n      <td>2.539068e+06</td>\n    </tr>\n    <tr>\n      <th>min</th>\n      <td>162.100000</td>\n      <td>2.925442e+06</td>\n    </tr>\n    <tr>\n      <th>25%</th>\n      <td>174.000000</td>\n      <td>3.712344e+06</td>\n    </tr>\n    <tr>\n      <th>50%</th>\n      <td>177.000000</td>\n      <td>4.668615e+06</td>\n    </tr>\n    <tr>\n      <th>75%</th>\n      <td>179.200000</td>\n      <td>7.862214e+06</td>\n    </tr>\n    <tr>\n      <th>max</th>\n      <td>183.000000</td>\n      <td>1.052326e+07</td>\n    </tr>\n  </tbody>\n</table>\n</div>"
     },
     "metadata": {},
     "execution_count": 109
    }
   ],
   "source": [
    "d.describe()"
   ]
  },
  {
   "cell_type": "code",
   "execution_count": 111,
   "metadata": {},
   "outputs": [
    {
     "output_type": "execute_result",
     "data": {
      "text/plain": [
       "      이름     그룹      소속사  성별        생년월일      키 혈액형   브랜드평판지수\n",
       "1     지민  방탄소년단      빅히트  남자  1995-10-13  173.6   A  10523260\n",
       "2   지드래곤     빅뱅       YG  남자  1988-08-18  177.0   A   9916947\n",
       "3   강다니엘    NaN      커넥트  남자  1996-12-10  180.0   A   8273745\n",
       "4      뷔  방탄소년단      빅히트  남자  1995-12-30  178.0  AB   8073501\n",
       "5     화사    마마무      RBW  여자  1995-07-23  162.1   A   7650928\n",
       "6     정국  방탄소년단      빅히트  남자  1997-09-01  178.0   A   5208335\n",
       "7     민현   뉴이스트     플레디스  남자  1995-08-09  182.3   O   4989792\n",
       "8     소연    아이들       큐브  여자  1998-08-26    NaN   B   4668615\n",
       "9      진  방탄소년단      빅히트  남자  1992-12-04  179.2   O   4570308\n",
       "10   하성운     핫샷  스타크루이엔티  남자  1994-03-22  167.1   A   4036489\n",
       "11    태연   소녀시대       SM  여자  1989-03-09    NaN   A   3918661\n",
       "12   차은우   아스트로     판타지오  남자  1997-03-30  183.0   B   3506027\n",
       "13    백호   뉴이스트     플레디스  남자  1995-07-21  175.0  AB   3301654\n",
       "14    JR   뉴이스트     플레디스  남자  1995-06-08  176.0   O   3274137\n",
       "15    슈가  방탄소년단      빅히트  남자  1993-03-09  174.0   O   2925442"
      ],
      "text/html": "<div>\n<style scoped>\n    .dataframe tbody tr th:only-of-type {\n        vertical-align: middle;\n    }\n\n    .dataframe tbody tr th {\n        vertical-align: top;\n    }\n\n    .dataframe thead th {\n        text-align: right;\n    }\n</style>\n<table border=\"1\" class=\"dataframe\">\n  <thead>\n    <tr style=\"text-align: right;\">\n      <th></th>\n      <th>이름</th>\n      <th>그룹</th>\n      <th>소속사</th>\n      <th>성별</th>\n      <th>생년월일</th>\n      <th>키</th>\n      <th>혈액형</th>\n      <th>브랜드평판지수</th>\n    </tr>\n  </thead>\n  <tbody>\n    <tr>\n      <th>1</th>\n      <td>지민</td>\n      <td>방탄소년단</td>\n      <td>빅히트</td>\n      <td>남자</td>\n      <td>1995-10-13</td>\n      <td>173.6</td>\n      <td>A</td>\n      <td>10523260</td>\n    </tr>\n    <tr>\n      <th>2</th>\n      <td>지드래곤</td>\n      <td>빅뱅</td>\n      <td>YG</td>\n      <td>남자</td>\n      <td>1988-08-18</td>\n      <td>177.0</td>\n      <td>A</td>\n      <td>9916947</td>\n    </tr>\n    <tr>\n      <th>3</th>\n      <td>강다니엘</td>\n      <td>NaN</td>\n      <td>커넥트</td>\n      <td>남자</td>\n      <td>1996-12-10</td>\n      <td>180.0</td>\n      <td>A</td>\n      <td>8273745</td>\n    </tr>\n    <tr>\n      <th>4</th>\n      <td>뷔</td>\n      <td>방탄소년단</td>\n      <td>빅히트</td>\n      <td>남자</td>\n      <td>1995-12-30</td>\n      <td>178.0</td>\n      <td>AB</td>\n      <td>8073501</td>\n    </tr>\n    <tr>\n      <th>5</th>\n      <td>화사</td>\n      <td>마마무</td>\n      <td>RBW</td>\n      <td>여자</td>\n      <td>1995-07-23</td>\n      <td>162.1</td>\n      <td>A</td>\n      <td>7650928</td>\n    </tr>\n    <tr>\n      <th>6</th>\n      <td>정국</td>\n      <td>방탄소년단</td>\n      <td>빅히트</td>\n      <td>남자</td>\n      <td>1997-09-01</td>\n      <td>178.0</td>\n      <td>A</td>\n      <td>5208335</td>\n    </tr>\n    <tr>\n      <th>7</th>\n      <td>민현</td>\n      <td>뉴이스트</td>\n      <td>플레디스</td>\n      <td>남자</td>\n      <td>1995-08-09</td>\n      <td>182.3</td>\n      <td>O</td>\n      <td>4989792</td>\n    </tr>\n    <tr>\n      <th>8</th>\n      <td>소연</td>\n      <td>아이들</td>\n      <td>큐브</td>\n      <td>여자</td>\n      <td>1998-08-26</td>\n      <td>NaN</td>\n      <td>B</td>\n      <td>4668615</td>\n    </tr>\n    <tr>\n      <th>9</th>\n      <td>진</td>\n      <td>방탄소년단</td>\n      <td>빅히트</td>\n      <td>남자</td>\n      <td>1992-12-04</td>\n      <td>179.2</td>\n      <td>O</td>\n      <td>4570308</td>\n    </tr>\n    <tr>\n      <th>10</th>\n      <td>하성운</td>\n      <td>핫샷</td>\n      <td>스타크루이엔티</td>\n      <td>남자</td>\n      <td>1994-03-22</td>\n      <td>167.1</td>\n      <td>A</td>\n      <td>4036489</td>\n    </tr>\n    <tr>\n      <th>11</th>\n      <td>태연</td>\n      <td>소녀시대</td>\n      <td>SM</td>\n      <td>여자</td>\n      <td>1989-03-09</td>\n      <td>NaN</td>\n      <td>A</td>\n      <td>3918661</td>\n    </tr>\n    <tr>\n      <th>12</th>\n      <td>차은우</td>\n      <td>아스트로</td>\n      <td>판타지오</td>\n      <td>남자</td>\n      <td>1997-03-30</td>\n      <td>183.0</td>\n      <td>B</td>\n      <td>3506027</td>\n    </tr>\n    <tr>\n      <th>13</th>\n      <td>백호</td>\n      <td>뉴이스트</td>\n      <td>플레디스</td>\n      <td>남자</td>\n      <td>1995-07-21</td>\n      <td>175.0</td>\n      <td>AB</td>\n      <td>3301654</td>\n    </tr>\n    <tr>\n      <th>14</th>\n      <td>JR</td>\n      <td>뉴이스트</td>\n      <td>플레디스</td>\n      <td>남자</td>\n      <td>1995-06-08</td>\n      <td>176.0</td>\n      <td>O</td>\n      <td>3274137</td>\n    </tr>\n    <tr>\n      <th>15</th>\n      <td>슈가</td>\n      <td>방탄소년단</td>\n      <td>빅히트</td>\n      <td>남자</td>\n      <td>1993-03-09</td>\n      <td>174.0</td>\n      <td>O</td>\n      <td>2925442</td>\n    </tr>\n  </tbody>\n</table>\n</div>"
     },
     "metadata": {},
     "execution_count": 111
    }
   ],
   "source": [
    "# 행 인덱스 증가\n",
    "d.index += 1\n",
    "d"
   ]
  },
  {
   "source": [
    "## 5-3; 데이터 인덱싱, 슬라이싱"
   ],
   "cell_type": "markdown",
   "metadata": {}
  },
  {
   "cell_type": "code",
   "execution_count": 113,
   "metadata": {},
   "outputs": [
    {
     "output_type": "execute_result",
     "data": {
      "text/plain": [
       "1       지민\n",
       "2     지드래곤\n",
       "3     강다니엘\n",
       "4        뷔\n",
       "5       화사\n",
       "6       정국\n",
       "7       민현\n",
       "8       소연\n",
       "9        진\n",
       "10     하성운\n",
       "11      태연\n",
       "12     차은우\n",
       "13      백호\n",
       "14      JR\n",
       "15      슈가\n",
       "Name: 이름, dtype: object"
      ]
     },
     "metadata": {},
     "execution_count": 113
    }
   ],
   "source": [
    "# 열 인덱싱\n",
    "d['이름']"
   ]
  },
  {
   "cell_type": "code",
   "execution_count": 115,
   "metadata": {},
   "outputs": [
    {
     "output_type": "execute_result",
     "data": {
      "text/plain": [
       "1       지민\n",
       "2     지드래곤\n",
       "3     강다니엘\n",
       "4        뷔\n",
       "5       화사\n",
       "6       정국\n",
       "7       민현\n",
       "8       소연\n",
       "9        진\n",
       "10     하성운\n",
       "11      태연\n",
       "12     차은우\n",
       "13      백호\n",
       "14      JR\n",
       "15      슈가\n",
       "Name: 이름, dtype: object"
      ]
     },
     "metadata": {},
     "execution_count": 115
    }
   ],
   "source": [
    "d.이름"
   ]
  },
  {
   "cell_type": "code",
   "execution_count": 117,
   "metadata": {},
   "outputs": [
    {
     "output_type": "execute_result",
     "data": {
      "text/plain": [
       "1       지민\n",
       "2     지드래곤\n",
       "3     강다니엘\n",
       "4        뷔\n",
       "5       화사\n",
       "6       정국\n",
       "7       민현\n",
       "8       소연\n",
       "9        진\n",
       "10     하성운\n",
       "11      태연\n",
       "12     차은우\n",
       "13      백호\n",
       "14      JR\n",
       "15      슈가\n",
       "Name: 이름, dtype: object"
      ]
     },
     "metadata": {},
     "execution_count": 117
    }
   ],
   "source": [
    "d.loc[:,'이름']"
   ]
  },
  {
   "cell_type": "code",
   "execution_count": 119,
   "metadata": {},
   "outputs": [
    {
     "output_type": "execute_result",
     "data": {
      "text/plain": [
       "1       지민\n",
       "2     지드래곤\n",
       "3     강다니엘\n",
       "4        뷔\n",
       "5       화사\n",
       "6       정국\n",
       "7       민현\n",
       "8       소연\n",
       "9        진\n",
       "10     하성운\n",
       "11      태연\n",
       "12     차은우\n",
       "13      백호\n",
       "14      JR\n",
       "15      슈가\n",
       "Name: 이름, dtype: object"
      ]
     },
     "metadata": {},
     "execution_count": 119
    }
   ],
   "source": [
    "d.iloc[:,0]"
   ]
  },
  {
   "cell_type": "code",
   "execution_count": 121,
   "metadata": {},
   "outputs": [
    {
     "output_type": "execute_result",
     "data": {
      "text/plain": [
       "      이름     그룹\n",
       "1     지민  방탄소년단\n",
       "2   지드래곤     빅뱅\n",
       "3   강다니엘    NaN\n",
       "4      뷔  방탄소년단\n",
       "5     화사    마마무\n",
       "6     정국  방탄소년단\n",
       "7     민현   뉴이스트\n",
       "8     소연    아이들\n",
       "9      진  방탄소년단\n",
       "10   하성운     핫샷\n",
       "11    태연   소녀시대\n",
       "12   차은우   아스트로\n",
       "13    백호   뉴이스트\n",
       "14    JR   뉴이스트\n",
       "15    슈가  방탄소년단"
      ],
      "text/html": "<div>\n<style scoped>\n    .dataframe tbody tr th:only-of-type {\n        vertical-align: middle;\n    }\n\n    .dataframe tbody tr th {\n        vertical-align: top;\n    }\n\n    .dataframe thead th {\n        text-align: right;\n    }\n</style>\n<table border=\"1\" class=\"dataframe\">\n  <thead>\n    <tr style=\"text-align: right;\">\n      <th></th>\n      <th>이름</th>\n      <th>그룹</th>\n    </tr>\n  </thead>\n  <tbody>\n    <tr>\n      <th>1</th>\n      <td>지민</td>\n      <td>방탄소년단</td>\n    </tr>\n    <tr>\n      <th>2</th>\n      <td>지드래곤</td>\n      <td>빅뱅</td>\n    </tr>\n    <tr>\n      <th>3</th>\n      <td>강다니엘</td>\n      <td>NaN</td>\n    </tr>\n    <tr>\n      <th>4</th>\n      <td>뷔</td>\n      <td>방탄소년단</td>\n    </tr>\n    <tr>\n      <th>5</th>\n      <td>화사</td>\n      <td>마마무</td>\n    </tr>\n    <tr>\n      <th>6</th>\n      <td>정국</td>\n      <td>방탄소년단</td>\n    </tr>\n    <tr>\n      <th>7</th>\n      <td>민현</td>\n      <td>뉴이스트</td>\n    </tr>\n    <tr>\n      <th>8</th>\n      <td>소연</td>\n      <td>아이들</td>\n    </tr>\n    <tr>\n      <th>9</th>\n      <td>진</td>\n      <td>방탄소년단</td>\n    </tr>\n    <tr>\n      <th>10</th>\n      <td>하성운</td>\n      <td>핫샷</td>\n    </tr>\n    <tr>\n      <th>11</th>\n      <td>태연</td>\n      <td>소녀시대</td>\n    </tr>\n    <tr>\n      <th>12</th>\n      <td>차은우</td>\n      <td>아스트로</td>\n    </tr>\n    <tr>\n      <th>13</th>\n      <td>백호</td>\n      <td>뉴이스트</td>\n    </tr>\n    <tr>\n      <th>14</th>\n      <td>JR</td>\n      <td>뉴이스트</td>\n    </tr>\n    <tr>\n      <th>15</th>\n      <td>슈가</td>\n      <td>방탄소년단</td>\n    </tr>\n  </tbody>\n</table>\n</div>"
     },
     "metadata": {},
     "execution_count": 121
    }
   ],
   "source": [
    "d.loc[:,'이름':'그룹']"
   ]
  },
  {
   "cell_type": "code",
   "execution_count": 123,
   "metadata": {},
   "outputs": [
    {
     "output_type": "execute_result",
     "data": {
      "text/plain": [
       "      이름     그룹\n",
       "1     지민  방탄소년단\n",
       "2   지드래곤     빅뱅\n",
       "3   강다니엘    NaN\n",
       "4      뷔  방탄소년단\n",
       "5     화사    마마무\n",
       "6     정국  방탄소년단\n",
       "7     민현   뉴이스트\n",
       "8     소연    아이들\n",
       "9      진  방탄소년단\n",
       "10   하성운     핫샷\n",
       "11    태연   소녀시대\n",
       "12   차은우   아스트로\n",
       "13    백호   뉴이스트\n",
       "14    JR   뉴이스트\n",
       "15    슈가  방탄소년단"
      ],
      "text/html": "<div>\n<style scoped>\n    .dataframe tbody tr th:only-of-type {\n        vertical-align: middle;\n    }\n\n    .dataframe tbody tr th {\n        vertical-align: top;\n    }\n\n    .dataframe thead th {\n        text-align: right;\n    }\n</style>\n<table border=\"1\" class=\"dataframe\">\n  <thead>\n    <tr style=\"text-align: right;\">\n      <th></th>\n      <th>이름</th>\n      <th>그룹</th>\n    </tr>\n  </thead>\n  <tbody>\n    <tr>\n      <th>1</th>\n      <td>지민</td>\n      <td>방탄소년단</td>\n    </tr>\n    <tr>\n      <th>2</th>\n      <td>지드래곤</td>\n      <td>빅뱅</td>\n    </tr>\n    <tr>\n      <th>3</th>\n      <td>강다니엘</td>\n      <td>NaN</td>\n    </tr>\n    <tr>\n      <th>4</th>\n      <td>뷔</td>\n      <td>방탄소년단</td>\n    </tr>\n    <tr>\n      <th>5</th>\n      <td>화사</td>\n      <td>마마무</td>\n    </tr>\n    <tr>\n      <th>6</th>\n      <td>정국</td>\n      <td>방탄소년단</td>\n    </tr>\n    <tr>\n      <th>7</th>\n      <td>민현</td>\n      <td>뉴이스트</td>\n    </tr>\n    <tr>\n      <th>8</th>\n      <td>소연</td>\n      <td>아이들</td>\n    </tr>\n    <tr>\n      <th>9</th>\n      <td>진</td>\n      <td>방탄소년단</td>\n    </tr>\n    <tr>\n      <th>10</th>\n      <td>하성운</td>\n      <td>핫샷</td>\n    </tr>\n    <tr>\n      <th>11</th>\n      <td>태연</td>\n      <td>소녀시대</td>\n    </tr>\n    <tr>\n      <th>12</th>\n      <td>차은우</td>\n      <td>아스트로</td>\n    </tr>\n    <tr>\n      <th>13</th>\n      <td>백호</td>\n      <td>뉴이스트</td>\n    </tr>\n    <tr>\n      <th>14</th>\n      <td>JR</td>\n      <td>뉴이스트</td>\n    </tr>\n    <tr>\n      <th>15</th>\n      <td>슈가</td>\n      <td>방탄소년단</td>\n    </tr>\n  </tbody>\n</table>\n</div>"
     },
     "metadata": {},
     "execution_count": 123
    }
   ],
   "source": [
    "d.iloc[:,0:2]"
   ]
  },
  {
   "cell_type": "code",
   "execution_count": 125,
   "metadata": {},
   "outputs": [
    {
     "output_type": "execute_result",
     "data": {
      "text/plain": [
       "      이름     그룹\n",
       "1     지민  방탄소년단\n",
       "2   지드래곤     빅뱅\n",
       "3   강다니엘    NaN\n",
       "4      뷔  방탄소년단\n",
       "5     화사    마마무\n",
       "6     정국  방탄소년단\n",
       "7     민현   뉴이스트\n",
       "8     소연    아이들\n",
       "9      진  방탄소년단\n",
       "10   하성운     핫샷\n",
       "11    태연   소녀시대\n",
       "12   차은우   아스트로\n",
       "13    백호   뉴이스트\n",
       "14    JR   뉴이스트\n",
       "15    슈가  방탄소년단"
      ],
      "text/html": "<div>\n<style scoped>\n    .dataframe tbody tr th:only-of-type {\n        vertical-align: middle;\n    }\n\n    .dataframe tbody tr th {\n        vertical-align: top;\n    }\n\n    .dataframe thead th {\n        text-align: right;\n    }\n</style>\n<table border=\"1\" class=\"dataframe\">\n  <thead>\n    <tr style=\"text-align: right;\">\n      <th></th>\n      <th>이름</th>\n      <th>그룹</th>\n    </tr>\n  </thead>\n  <tbody>\n    <tr>\n      <th>1</th>\n      <td>지민</td>\n      <td>방탄소년단</td>\n    </tr>\n    <tr>\n      <th>2</th>\n      <td>지드래곤</td>\n      <td>빅뱅</td>\n    </tr>\n    <tr>\n      <th>3</th>\n      <td>강다니엘</td>\n      <td>NaN</td>\n    </tr>\n    <tr>\n      <th>4</th>\n      <td>뷔</td>\n      <td>방탄소년단</td>\n    </tr>\n    <tr>\n      <th>5</th>\n      <td>화사</td>\n      <td>마마무</td>\n    </tr>\n    <tr>\n      <th>6</th>\n      <td>정국</td>\n      <td>방탄소년단</td>\n    </tr>\n    <tr>\n      <th>7</th>\n      <td>민현</td>\n      <td>뉴이스트</td>\n    </tr>\n    <tr>\n      <th>8</th>\n      <td>소연</td>\n      <td>아이들</td>\n    </tr>\n    <tr>\n      <th>9</th>\n      <td>진</td>\n      <td>방탄소년단</td>\n    </tr>\n    <tr>\n      <th>10</th>\n      <td>하성운</td>\n      <td>핫샷</td>\n    </tr>\n    <tr>\n      <th>11</th>\n      <td>태연</td>\n      <td>소녀시대</td>\n    </tr>\n    <tr>\n      <th>12</th>\n      <td>차은우</td>\n      <td>아스트로</td>\n    </tr>\n    <tr>\n      <th>13</th>\n      <td>백호</td>\n      <td>뉴이스트</td>\n    </tr>\n    <tr>\n      <th>14</th>\n      <td>JR</td>\n      <td>뉴이스트</td>\n    </tr>\n    <tr>\n      <th>15</th>\n      <td>슈가</td>\n      <td>방탄소년단</td>\n    </tr>\n  </tbody>\n</table>\n</div>"
     },
     "metadata": {},
     "execution_count": 125
    }
   ],
   "source": [
    "d[['이름','그룹']]"
   ]
  },
  {
   "cell_type": "code",
   "execution_count": 127,
   "metadata": {},
   "outputs": [
    {
     "output_type": "execute_result",
     "data": {
      "text/plain": [
       "이름                  뷔\n",
       "그룹              방탄소년단\n",
       "소속사               빅히트\n",
       "성별                 남자\n",
       "생년월일       1995-12-30\n",
       "키               178.0\n",
       "혈액형                AB\n",
       "브랜드평판지수       8073501\n",
       "Name: 4, dtype: object"
      ]
     },
     "metadata": {},
     "execution_count": 127
    }
   ],
   "source": [
    "# 행 인덱싱 (loc, iloc)\n",
    "d.loc[4]"
   ]
  },
  {
   "cell_type": "code",
   "execution_count": 129,
   "metadata": {},
   "outputs": [
    {
     "output_type": "execute_result",
     "data": {
      "text/plain": [
       "이름                  뷔\n",
       "그룹              방탄소년단\n",
       "소속사               빅히트\n",
       "성별                 남자\n",
       "생년월일       1995-12-30\n",
       "키               178.0\n",
       "혈액형                AB\n",
       "브랜드평판지수       8073501\n",
       "Name: 4, dtype: object"
      ]
     },
     "metadata": {},
     "execution_count": 129
    }
   ],
   "source": [
    "d.iloc[3]"
   ]
  },
  {
   "cell_type": "code",
   "execution_count": 131,
   "metadata": {},
   "outputs": [
    {
     "output_type": "execute_result",
     "data": {
      "text/plain": [
       "   이름     그룹  소속사  성별        생년월일      키 혈액형  브랜드평판지수\n",
       "4   뷔  방탄소년단  빅히트  남자  1995-12-30  178.0  AB  8073501\n",
       "6  정국  방탄소년단  빅히트  남자  1997-09-01  178.0   A  5208335"
      ],
      "text/html": "<div>\n<style scoped>\n    .dataframe tbody tr th:only-of-type {\n        vertical-align: middle;\n    }\n\n    .dataframe tbody tr th {\n        vertical-align: top;\n    }\n\n    .dataframe thead th {\n        text-align: right;\n    }\n</style>\n<table border=\"1\" class=\"dataframe\">\n  <thead>\n    <tr style=\"text-align: right;\">\n      <th></th>\n      <th>이름</th>\n      <th>그룹</th>\n      <th>소속사</th>\n      <th>성별</th>\n      <th>생년월일</th>\n      <th>키</th>\n      <th>혈액형</th>\n      <th>브랜드평판지수</th>\n    </tr>\n  </thead>\n  <tbody>\n    <tr>\n      <th>4</th>\n      <td>뷔</td>\n      <td>방탄소년단</td>\n      <td>빅히트</td>\n      <td>남자</td>\n      <td>1995-12-30</td>\n      <td>178.0</td>\n      <td>AB</td>\n      <td>8073501</td>\n    </tr>\n    <tr>\n      <th>6</th>\n      <td>정국</td>\n      <td>방탄소년단</td>\n      <td>빅히트</td>\n      <td>남자</td>\n      <td>1997-09-01</td>\n      <td>178.0</td>\n      <td>A</td>\n      <td>5208335</td>\n    </tr>\n  </tbody>\n</table>\n</div>"
     },
     "metadata": {},
     "execution_count": 131
    }
   ],
   "source": [
    "d.loc[[4,6]]"
   ]
  },
  {
   "cell_type": "code",
   "execution_count": 133,
   "metadata": {},
   "outputs": [
    {
     "output_type": "execute_result",
     "data": {
      "text/plain": [
       "   이름     그룹  소속사  성별        생년월일      키 혈액형  브랜드평판지수\n",
       "4   뷔  방탄소년단  빅히트  남자  1995-12-30  178.0  AB  8073501\n",
       "6  정국  방탄소년단  빅히트  남자  1997-09-01  178.0   A  5208335"
      ],
      "text/html": "<div>\n<style scoped>\n    .dataframe tbody tr th:only-of-type {\n        vertical-align: middle;\n    }\n\n    .dataframe tbody tr th {\n        vertical-align: top;\n    }\n\n    .dataframe thead th {\n        text-align: right;\n    }\n</style>\n<table border=\"1\" class=\"dataframe\">\n  <thead>\n    <tr style=\"text-align: right;\">\n      <th></th>\n      <th>이름</th>\n      <th>그룹</th>\n      <th>소속사</th>\n      <th>성별</th>\n      <th>생년월일</th>\n      <th>키</th>\n      <th>혈액형</th>\n      <th>브랜드평판지수</th>\n    </tr>\n  </thead>\n  <tbody>\n    <tr>\n      <th>4</th>\n      <td>뷔</td>\n      <td>방탄소년단</td>\n      <td>빅히트</td>\n      <td>남자</td>\n      <td>1995-12-30</td>\n      <td>178.0</td>\n      <td>AB</td>\n      <td>8073501</td>\n    </tr>\n    <tr>\n      <th>6</th>\n      <td>정국</td>\n      <td>방탄소년단</td>\n      <td>빅히트</td>\n      <td>남자</td>\n      <td>1997-09-01</td>\n      <td>178.0</td>\n      <td>A</td>\n      <td>5208335</td>\n    </tr>\n  </tbody>\n</table>\n</div>"
     },
     "metadata": {},
     "execution_count": 133
    }
   ],
   "source": [
    "d.iloc[[3,5]]"
   ]
  },
  {
   "cell_type": "code",
   "execution_count": 135,
   "metadata": {},
   "outputs": [
    {
     "output_type": "execute_result",
     "data": {
      "text/plain": [
       "   이름        생년월일\n",
       "4   뷔  1995-12-30\n",
       "6  정국  1997-09-01"
      ],
      "text/html": "<div>\n<style scoped>\n    .dataframe tbody tr th:only-of-type {\n        vertical-align: middle;\n    }\n\n    .dataframe tbody tr th {\n        vertical-align: top;\n    }\n\n    .dataframe thead th {\n        text-align: right;\n    }\n</style>\n<table border=\"1\" class=\"dataframe\">\n  <thead>\n    <tr style=\"text-align: right;\">\n      <th></th>\n      <th>이름</th>\n      <th>생년월일</th>\n    </tr>\n  </thead>\n  <tbody>\n    <tr>\n      <th>4</th>\n      <td>뷔</td>\n      <td>1995-12-30</td>\n    </tr>\n    <tr>\n      <th>6</th>\n      <td>정국</td>\n      <td>1997-09-01</td>\n    </tr>\n  </tbody>\n</table>\n</div>"
     },
     "metadata": {},
     "execution_count": 135
    }
   ],
   "source": [
    "d.loc[[4,6],['이름','생년월일']]"
   ]
  },
  {
   "cell_type": "code",
   "execution_count": 137,
   "metadata": {},
   "outputs": [
    {
     "output_type": "execute_result",
     "data": {
      "text/plain": [
       "   이름     그룹  소속사  성별        생년월일\n",
       "4   뷔  방탄소년단  빅히트  남자  1995-12-30\n",
       "5  화사    마마무  RBW  여자  1995-07-23\n",
       "6  정국  방탄소년단  빅히트  남자  1997-09-01"
      ],
      "text/html": "<div>\n<style scoped>\n    .dataframe tbody tr th:only-of-type {\n        vertical-align: middle;\n    }\n\n    .dataframe tbody tr th {\n        vertical-align: top;\n    }\n\n    .dataframe thead th {\n        text-align: right;\n    }\n</style>\n<table border=\"1\" class=\"dataframe\">\n  <thead>\n    <tr style=\"text-align: right;\">\n      <th></th>\n      <th>이름</th>\n      <th>그룹</th>\n      <th>소속사</th>\n      <th>성별</th>\n      <th>생년월일</th>\n    </tr>\n  </thead>\n  <tbody>\n    <tr>\n      <th>4</th>\n      <td>뷔</td>\n      <td>방탄소년단</td>\n      <td>빅히트</td>\n      <td>남자</td>\n      <td>1995-12-30</td>\n    </tr>\n    <tr>\n      <th>5</th>\n      <td>화사</td>\n      <td>마마무</td>\n      <td>RBW</td>\n      <td>여자</td>\n      <td>1995-07-23</td>\n    </tr>\n    <tr>\n      <th>6</th>\n      <td>정국</td>\n      <td>방탄소년단</td>\n      <td>빅히트</td>\n      <td>남자</td>\n      <td>1997-09-01</td>\n    </tr>\n  </tbody>\n</table>\n</div>"
     },
     "metadata": {},
     "execution_count": 137
    }
   ],
   "source": [
    "d.loc[4:6,'이름':'생년월일']"
   ]
  },
  {
   "cell_type": "code",
   "execution_count": 138,
   "metadata": {},
   "outputs": [
    {
     "output_type": "execute_result",
     "data": {
      "text/plain": [
       "   이름     그룹  소속사  성별        생년월일\n",
       "4   뷔  방탄소년단  빅히트  남자  1995-12-30\n",
       "5  화사    마마무  RBW  여자  1995-07-23\n",
       "6  정국  방탄소년단  빅히트  남자  1997-09-01"
      ],
      "text/html": "<div>\n<style scoped>\n    .dataframe tbody tr th:only-of-type {\n        vertical-align: middle;\n    }\n\n    .dataframe tbody tr th {\n        vertical-align: top;\n    }\n\n    .dataframe thead th {\n        text-align: right;\n    }\n</style>\n<table border=\"1\" class=\"dataframe\">\n  <thead>\n    <tr style=\"text-align: right;\">\n      <th></th>\n      <th>이름</th>\n      <th>그룹</th>\n      <th>소속사</th>\n      <th>성별</th>\n      <th>생년월일</th>\n    </tr>\n  </thead>\n  <tbody>\n    <tr>\n      <th>4</th>\n      <td>뷔</td>\n      <td>방탄소년단</td>\n      <td>빅히트</td>\n      <td>남자</td>\n      <td>1995-12-30</td>\n    </tr>\n    <tr>\n      <th>5</th>\n      <td>화사</td>\n      <td>마마무</td>\n      <td>RBW</td>\n      <td>여자</td>\n      <td>1995-07-23</td>\n    </tr>\n    <tr>\n      <th>6</th>\n      <td>정국</td>\n      <td>방탄소년단</td>\n      <td>빅히트</td>\n      <td>남자</td>\n      <td>1997-09-01</td>\n    </tr>\n  </tbody>\n</table>\n</div>"
     },
     "metadata": {},
     "execution_count": 138
    }
   ],
   "source": [
    "d.iloc[3:6,0:5]"
   ]
  },
  {
   "cell_type": "code",
   "execution_count": 139,
   "metadata": {},
   "outputs": [
    {
     "output_type": "execute_result",
     "data": {
      "text/plain": [
       "    이름     그룹  소속사  성별        생년월일      키 혈액형   브랜드평판지수\n",
       "1   지민  방탄소년단  빅히트  남자  1995-10-13  173.6   A  10523260\n",
       "4    뷔  방탄소년단  빅히트  남자  1995-12-30  178.0  AB   8073501\n",
       "6   정국  방탄소년단  빅히트  남자  1997-09-01  178.0   A   5208335\n",
       "9    진  방탄소년단  빅히트  남자  1992-12-04  179.2   O   4570308\n",
       "15  슈가  방탄소년단  빅히트  남자  1993-03-09  174.0   O   2925442"
      ],
      "text/html": "<div>\n<style scoped>\n    .dataframe tbody tr th:only-of-type {\n        vertical-align: middle;\n    }\n\n    .dataframe tbody tr th {\n        vertical-align: top;\n    }\n\n    .dataframe thead th {\n        text-align: right;\n    }\n</style>\n<table border=\"1\" class=\"dataframe\">\n  <thead>\n    <tr style=\"text-align: right;\">\n      <th></th>\n      <th>이름</th>\n      <th>그룹</th>\n      <th>소속사</th>\n      <th>성별</th>\n      <th>생년월일</th>\n      <th>키</th>\n      <th>혈액형</th>\n      <th>브랜드평판지수</th>\n    </tr>\n  </thead>\n  <tbody>\n    <tr>\n      <th>1</th>\n      <td>지민</td>\n      <td>방탄소년단</td>\n      <td>빅히트</td>\n      <td>남자</td>\n      <td>1995-10-13</td>\n      <td>173.6</td>\n      <td>A</td>\n      <td>10523260</td>\n    </tr>\n    <tr>\n      <th>4</th>\n      <td>뷔</td>\n      <td>방탄소년단</td>\n      <td>빅히트</td>\n      <td>남자</td>\n      <td>1995-12-30</td>\n      <td>178.0</td>\n      <td>AB</td>\n      <td>8073501</td>\n    </tr>\n    <tr>\n      <th>6</th>\n      <td>정국</td>\n      <td>방탄소년단</td>\n      <td>빅히트</td>\n      <td>남자</td>\n      <td>1997-09-01</td>\n      <td>178.0</td>\n      <td>A</td>\n      <td>5208335</td>\n    </tr>\n    <tr>\n      <th>9</th>\n      <td>진</td>\n      <td>방탄소년단</td>\n      <td>빅히트</td>\n      <td>남자</td>\n      <td>1992-12-04</td>\n      <td>179.2</td>\n      <td>O</td>\n      <td>4570308</td>\n    </tr>\n    <tr>\n      <th>15</th>\n      <td>슈가</td>\n      <td>방탄소년단</td>\n      <td>빅히트</td>\n      <td>남자</td>\n      <td>1993-03-09</td>\n      <td>174.0</td>\n      <td>O</td>\n      <td>2925442</td>\n    </tr>\n  </tbody>\n</table>\n</div>"
     },
     "metadata": {},
     "execution_count": 139
    }
   ],
   "source": [
    "# Boolean 인덱싱\n",
    "# 소속사가 빅히트인 가수 조회하기\n",
    "d[d['소속사'] == '빅히트']"
   ]
  },
  {
   "cell_type": "code",
   "execution_count": 140,
   "metadata": {},
   "outputs": [
    {
     "output_type": "execute_result",
     "data": {
      "text/plain": [
       "    이름     그룹  소속사  성별        생년월일      키 혈액형   브랜드평판지수\n",
       "1   지민  방탄소년단  빅히트  남자  1995-10-13  173.6   A  10523260\n",
       "4    뷔  방탄소년단  빅히트  남자  1995-12-30  178.0  AB   8073501\n",
       "6   정국  방탄소년단  빅히트  남자  1997-09-01  178.0   A   5208335\n",
       "9    진  방탄소년단  빅히트  남자  1992-12-04  179.2   O   4570308\n",
       "15  슈가  방탄소년단  빅히트  남자  1993-03-09  174.0   O   2925442"
      ],
      "text/html": "<div>\n<style scoped>\n    .dataframe tbody tr th:only-of-type {\n        vertical-align: middle;\n    }\n\n    .dataframe tbody tr th {\n        vertical-align: top;\n    }\n\n    .dataframe thead th {\n        text-align: right;\n    }\n</style>\n<table border=\"1\" class=\"dataframe\">\n  <thead>\n    <tr style=\"text-align: right;\">\n      <th></th>\n      <th>이름</th>\n      <th>그룹</th>\n      <th>소속사</th>\n      <th>성별</th>\n      <th>생년월일</th>\n      <th>키</th>\n      <th>혈액형</th>\n      <th>브랜드평판지수</th>\n    </tr>\n  </thead>\n  <tbody>\n    <tr>\n      <th>1</th>\n      <td>지민</td>\n      <td>방탄소년단</td>\n      <td>빅히트</td>\n      <td>남자</td>\n      <td>1995-10-13</td>\n      <td>173.6</td>\n      <td>A</td>\n      <td>10523260</td>\n    </tr>\n    <tr>\n      <th>4</th>\n      <td>뷔</td>\n      <td>방탄소년단</td>\n      <td>빅히트</td>\n      <td>남자</td>\n      <td>1995-12-30</td>\n      <td>178.0</td>\n      <td>AB</td>\n      <td>8073501</td>\n    </tr>\n    <tr>\n      <th>6</th>\n      <td>정국</td>\n      <td>방탄소년단</td>\n      <td>빅히트</td>\n      <td>남자</td>\n      <td>1997-09-01</td>\n      <td>178.0</td>\n      <td>A</td>\n      <td>5208335</td>\n    </tr>\n    <tr>\n      <th>9</th>\n      <td>진</td>\n      <td>방탄소년단</td>\n      <td>빅히트</td>\n      <td>남자</td>\n      <td>1992-12-04</td>\n      <td>179.2</td>\n      <td>O</td>\n      <td>4570308</td>\n    </tr>\n    <tr>\n      <th>15</th>\n      <td>슈가</td>\n      <td>방탄소년단</td>\n      <td>빅히트</td>\n      <td>남자</td>\n      <td>1993-03-09</td>\n      <td>174.0</td>\n      <td>O</td>\n      <td>2925442</td>\n    </tr>\n  </tbody>\n</table>\n</div>"
     },
     "metadata": {},
     "execution_count": 140
    }
   ],
   "source": [
    "d.loc[d['소속사']=='빅히트']"
   ]
  },
  {
   "cell_type": "code",
   "execution_count": 141,
   "metadata": {},
   "outputs": [
    {
     "output_type": "execute_result",
     "data": {
      "text/plain": [
       "    이름     그룹  소속사  성별        생년월일      키 혈액형   브랜드평판지수\n",
       "1   지민  방탄소년단  빅히트  남자  1995-10-13  173.6   A  10523260\n",
       "4    뷔  방탄소년단  빅히트  남자  1995-12-30  178.0  AB   8073501\n",
       "6   정국  방탄소년단  빅히트  남자  1997-09-01  178.0   A   5208335\n",
       "9    진  방탄소년단  빅히트  남자  1992-12-04  179.2   O   4570308\n",
       "15  슈가  방탄소년단  빅히트  남자  1993-03-09  174.0   O   2925442"
      ],
      "text/html": "<div>\n<style scoped>\n    .dataframe tbody tr th:only-of-type {\n        vertical-align: middle;\n    }\n\n    .dataframe tbody tr th {\n        vertical-align: top;\n    }\n\n    .dataframe thead th {\n        text-align: right;\n    }\n</style>\n<table border=\"1\" class=\"dataframe\">\n  <thead>\n    <tr style=\"text-align: right;\">\n      <th></th>\n      <th>이름</th>\n      <th>그룹</th>\n      <th>소속사</th>\n      <th>성별</th>\n      <th>생년월일</th>\n      <th>키</th>\n      <th>혈액형</th>\n      <th>브랜드평판지수</th>\n    </tr>\n  </thead>\n  <tbody>\n    <tr>\n      <th>1</th>\n      <td>지민</td>\n      <td>방탄소년단</td>\n      <td>빅히트</td>\n      <td>남자</td>\n      <td>1995-10-13</td>\n      <td>173.6</td>\n      <td>A</td>\n      <td>10523260</td>\n    </tr>\n    <tr>\n      <th>4</th>\n      <td>뷔</td>\n      <td>방탄소년단</td>\n      <td>빅히트</td>\n      <td>남자</td>\n      <td>1995-12-30</td>\n      <td>178.0</td>\n      <td>AB</td>\n      <td>8073501</td>\n    </tr>\n    <tr>\n      <th>6</th>\n      <td>정국</td>\n      <td>방탄소년단</td>\n      <td>빅히트</td>\n      <td>남자</td>\n      <td>1997-09-01</td>\n      <td>178.0</td>\n      <td>A</td>\n      <td>5208335</td>\n    </tr>\n    <tr>\n      <th>9</th>\n      <td>진</td>\n      <td>방탄소년단</td>\n      <td>빅히트</td>\n      <td>남자</td>\n      <td>1992-12-04</td>\n      <td>179.2</td>\n      <td>O</td>\n      <td>4570308</td>\n    </tr>\n    <tr>\n      <th>15</th>\n      <td>슈가</td>\n      <td>방탄소년단</td>\n      <td>빅히트</td>\n      <td>남자</td>\n      <td>1993-03-09</td>\n      <td>174.0</td>\n      <td>O</td>\n      <td>2925442</td>\n    </tr>\n  </tbody>\n</table>\n</div>"
     },
     "metadata": {},
     "execution_count": 141
    }
   ],
   "source": [
    "# pandas query\n",
    "d.query('소속사 == \"빅히트\"')"
   ]
  },
  {
   "cell_type": "code",
   "execution_count": 142,
   "metadata": {},
   "outputs": [
    {
     "output_type": "execute_result",
     "data": {
      "text/plain": [
       "      이름    그룹   소속사  성별        생년월일      키 혈액형  브랜드평판지수\n",
       "3   강다니엘   NaN   커넥트  남자  1996-12-10  180.0   A  8273745\n",
       "7     민현  뉴이스트  플레디스  남자  1995-08-09  182.3   O  4989792\n",
       "12   차은우  아스트로  판타지오  남자  1997-03-30  183.0   B  3506027"
      ],
      "text/html": "<div>\n<style scoped>\n    .dataframe tbody tr th:only-of-type {\n        vertical-align: middle;\n    }\n\n    .dataframe tbody tr th {\n        vertical-align: top;\n    }\n\n    .dataframe thead th {\n        text-align: right;\n    }\n</style>\n<table border=\"1\" class=\"dataframe\">\n  <thead>\n    <tr style=\"text-align: right;\">\n      <th></th>\n      <th>이름</th>\n      <th>그룹</th>\n      <th>소속사</th>\n      <th>성별</th>\n      <th>생년월일</th>\n      <th>키</th>\n      <th>혈액형</th>\n      <th>브랜드평판지수</th>\n    </tr>\n  </thead>\n  <tbody>\n    <tr>\n      <th>3</th>\n      <td>강다니엘</td>\n      <td>NaN</td>\n      <td>커넥트</td>\n      <td>남자</td>\n      <td>1996-12-10</td>\n      <td>180.0</td>\n      <td>A</td>\n      <td>8273745</td>\n    </tr>\n    <tr>\n      <th>7</th>\n      <td>민현</td>\n      <td>뉴이스트</td>\n      <td>플레디스</td>\n      <td>남자</td>\n      <td>1995-08-09</td>\n      <td>182.3</td>\n      <td>O</td>\n      <td>4989792</td>\n    </tr>\n    <tr>\n      <th>12</th>\n      <td>차은우</td>\n      <td>아스트로</td>\n      <td>판타지오</td>\n      <td>남자</td>\n      <td>1997-03-30</td>\n      <td>183.0</td>\n      <td>B</td>\n      <td>3506027</td>\n    </tr>\n  </tbody>\n</table>\n</div>"
     },
     "metadata": {},
     "execution_count": 142
    }
   ],
   "source": [
    "# 키가 180 이상인 사람 조회하기\n",
    "d.query('키 >= 180')"
   ]
  },
  {
   "cell_type": "code",
   "execution_count": 143,
   "metadata": {},
   "outputs": [
    {
     "output_type": "execute_result",
     "data": {
      "text/plain": [
       "      이름    그룹   소속사  성별        생년월일      키 혈액형  브랜드평판지수\n",
       "3   강다니엘   NaN   커넥트  남자  1996-12-10  180.0   A  8273745\n",
       "7     민현  뉴이스트  플레디스  남자  1995-08-09  182.3   O  4989792\n",
       "12   차은우  아스트로  판타지오  남자  1997-03-30  183.0   B  3506027"
      ],
      "text/html": "<div>\n<style scoped>\n    .dataframe tbody tr th:only-of-type {\n        vertical-align: middle;\n    }\n\n    .dataframe tbody tr th {\n        vertical-align: top;\n    }\n\n    .dataframe thead th {\n        text-align: right;\n    }\n</style>\n<table border=\"1\" class=\"dataframe\">\n  <thead>\n    <tr style=\"text-align: right;\">\n      <th></th>\n      <th>이름</th>\n      <th>그룹</th>\n      <th>소속사</th>\n      <th>성별</th>\n      <th>생년월일</th>\n      <th>키</th>\n      <th>혈액형</th>\n      <th>브랜드평판지수</th>\n    </tr>\n  </thead>\n  <tbody>\n    <tr>\n      <th>3</th>\n      <td>강다니엘</td>\n      <td>NaN</td>\n      <td>커넥트</td>\n      <td>남자</td>\n      <td>1996-12-10</td>\n      <td>180.0</td>\n      <td>A</td>\n      <td>8273745</td>\n    </tr>\n    <tr>\n      <th>7</th>\n      <td>민현</td>\n      <td>뉴이스트</td>\n      <td>플레디스</td>\n      <td>남자</td>\n      <td>1995-08-09</td>\n      <td>182.3</td>\n      <td>O</td>\n      <td>4989792</td>\n    </tr>\n    <tr>\n      <th>12</th>\n      <td>차은우</td>\n      <td>아스트로</td>\n      <td>판타지오</td>\n      <td>남자</td>\n      <td>1997-03-30</td>\n      <td>183.0</td>\n      <td>B</td>\n      <td>3506027</td>\n    </tr>\n  </tbody>\n</table>\n</div>"
     },
     "metadata": {},
     "execution_count": 143
    }
   ],
   "source": [
    "d.loc[d['키'] >= 180]"
   ]
  },
  {
   "cell_type": "code",
   "execution_count": 144,
   "metadata": {},
   "outputs": [
    {
     "output_type": "execute_result",
     "data": {
      "text/plain": [
       "    이름     그룹  소속사  성별        생년월일      키 혈액형   브랜드평판지수\n",
       "1   지민  방탄소년단  빅히트  남자  1995-10-13  173.6   A  10523260\n",
       "4    뷔  방탄소년단  빅히트  남자  1995-12-30  178.0  AB   8073501\n",
       "6   정국  방탄소년단  빅히트  남자  1997-09-01  178.0   A   5208335\n",
       "9    진  방탄소년단  빅히트  남자  1992-12-04  179.2   O   4570308\n",
       "11  태연   소녀시대   SM  여자  1989-03-09    NaN   A   3918661\n",
       "15  슈가  방탄소년단  빅히트  남자  1993-03-09  174.0   O   2925442"
      ],
      "text/html": "<div>\n<style scoped>\n    .dataframe tbody tr th:only-of-type {\n        vertical-align: middle;\n    }\n\n    .dataframe tbody tr th {\n        vertical-align: top;\n    }\n\n    .dataframe thead th {\n        text-align: right;\n    }\n</style>\n<table border=\"1\" class=\"dataframe\">\n  <thead>\n    <tr style=\"text-align: right;\">\n      <th></th>\n      <th>이름</th>\n      <th>그룹</th>\n      <th>소속사</th>\n      <th>성별</th>\n      <th>생년월일</th>\n      <th>키</th>\n      <th>혈액형</th>\n      <th>브랜드평판지수</th>\n    </tr>\n  </thead>\n  <tbody>\n    <tr>\n      <th>1</th>\n      <td>지민</td>\n      <td>방탄소년단</td>\n      <td>빅히트</td>\n      <td>남자</td>\n      <td>1995-10-13</td>\n      <td>173.6</td>\n      <td>A</td>\n      <td>10523260</td>\n    </tr>\n    <tr>\n      <th>4</th>\n      <td>뷔</td>\n      <td>방탄소년단</td>\n      <td>빅히트</td>\n      <td>남자</td>\n      <td>1995-12-30</td>\n      <td>178.0</td>\n      <td>AB</td>\n      <td>8073501</td>\n    </tr>\n    <tr>\n      <th>6</th>\n      <td>정국</td>\n      <td>방탄소년단</td>\n      <td>빅히트</td>\n      <td>남자</td>\n      <td>1997-09-01</td>\n      <td>178.0</td>\n      <td>A</td>\n      <td>5208335</td>\n    </tr>\n    <tr>\n      <th>9</th>\n      <td>진</td>\n      <td>방탄소년단</td>\n      <td>빅히트</td>\n      <td>남자</td>\n      <td>1992-12-04</td>\n      <td>179.2</td>\n      <td>O</td>\n      <td>4570308</td>\n    </tr>\n    <tr>\n      <th>11</th>\n      <td>태연</td>\n      <td>소녀시대</td>\n      <td>SM</td>\n      <td>여자</td>\n      <td>1989-03-09</td>\n      <td>NaN</td>\n      <td>A</td>\n      <td>3918661</td>\n    </tr>\n    <tr>\n      <th>15</th>\n      <td>슈가</td>\n      <td>방탄소년단</td>\n      <td>빅히트</td>\n      <td>남자</td>\n      <td>1993-03-09</td>\n      <td>174.0</td>\n      <td>O</td>\n      <td>2925442</td>\n    </tr>\n  </tbody>\n</table>\n</div>"
     },
     "metadata": {},
     "execution_count": 144
    }
   ],
   "source": [
    "# 소속사가 빅히트 또는 SM 인 데이터 조회하기\n",
    "d.loc[(d['소속사'] == '빅히트') | (d['소속사'] == 'SM')]"
   ]
  },
  {
   "cell_type": "code",
   "execution_count": 145,
   "metadata": {},
   "outputs": [
    {
     "output_type": "execute_result",
     "data": {
      "text/plain": [
       "    이름     그룹  소속사  성별        생년월일      키 혈액형   브랜드평판지수\n",
       "1   지민  방탄소년단  빅히트  남자  1995-10-13  173.6   A  10523260\n",
       "4    뷔  방탄소년단  빅히트  남자  1995-12-30  178.0  AB   8073501\n",
       "6   정국  방탄소년단  빅히트  남자  1997-09-01  178.0   A   5208335\n",
       "9    진  방탄소년단  빅히트  남자  1992-12-04  179.2   O   4570308\n",
       "11  태연   소녀시대   SM  여자  1989-03-09    NaN   A   3918661\n",
       "15  슈가  방탄소년단  빅히트  남자  1993-03-09  174.0   O   2925442"
      ],
      "text/html": "<div>\n<style scoped>\n    .dataframe tbody tr th:only-of-type {\n        vertical-align: middle;\n    }\n\n    .dataframe tbody tr th {\n        vertical-align: top;\n    }\n\n    .dataframe thead th {\n        text-align: right;\n    }\n</style>\n<table border=\"1\" class=\"dataframe\">\n  <thead>\n    <tr style=\"text-align: right;\">\n      <th></th>\n      <th>이름</th>\n      <th>그룹</th>\n      <th>소속사</th>\n      <th>성별</th>\n      <th>생년월일</th>\n      <th>키</th>\n      <th>혈액형</th>\n      <th>브랜드평판지수</th>\n    </tr>\n  </thead>\n  <tbody>\n    <tr>\n      <th>1</th>\n      <td>지민</td>\n      <td>방탄소년단</td>\n      <td>빅히트</td>\n      <td>남자</td>\n      <td>1995-10-13</td>\n      <td>173.6</td>\n      <td>A</td>\n      <td>10523260</td>\n    </tr>\n    <tr>\n      <th>4</th>\n      <td>뷔</td>\n      <td>방탄소년단</td>\n      <td>빅히트</td>\n      <td>남자</td>\n      <td>1995-12-30</td>\n      <td>178.0</td>\n      <td>AB</td>\n      <td>8073501</td>\n    </tr>\n    <tr>\n      <th>6</th>\n      <td>정국</td>\n      <td>방탄소년단</td>\n      <td>빅히트</td>\n      <td>남자</td>\n      <td>1997-09-01</td>\n      <td>178.0</td>\n      <td>A</td>\n      <td>5208335</td>\n    </tr>\n    <tr>\n      <th>9</th>\n      <td>진</td>\n      <td>방탄소년단</td>\n      <td>빅히트</td>\n      <td>남자</td>\n      <td>1992-12-04</td>\n      <td>179.2</td>\n      <td>O</td>\n      <td>4570308</td>\n    </tr>\n    <tr>\n      <th>11</th>\n      <td>태연</td>\n      <td>소녀시대</td>\n      <td>SM</td>\n      <td>여자</td>\n      <td>1989-03-09</td>\n      <td>NaN</td>\n      <td>A</td>\n      <td>3918661</td>\n    </tr>\n    <tr>\n      <th>15</th>\n      <td>슈가</td>\n      <td>방탄소년단</td>\n      <td>빅히트</td>\n      <td>남자</td>\n      <td>1993-03-09</td>\n      <td>174.0</td>\n      <td>O</td>\n      <td>2925442</td>\n    </tr>\n  </tbody>\n</table>\n</div>"
     },
     "metadata": {},
     "execution_count": 145
    }
   ],
   "source": [
    "d.query('소속사 == \"빅히트\" | 소속사 == \"SM\"') # or 또는 |"
   ]
  },
  {
   "cell_type": "code",
   "execution_count": 146,
   "metadata": {},
   "outputs": [
    {
     "output_type": "execute_result",
     "data": {
      "text/plain": [
       "    이름     그룹  소속사  성별        생년월일      키 혈액형   브랜드평판지수\n",
       "1   지민  방탄소년단  빅히트  남자  1995-10-13  173.6   A  10523260\n",
       "4    뷔  방탄소년단  빅히트  남자  1995-12-30  178.0  AB   8073501\n",
       "6   정국  방탄소년단  빅히트  남자  1997-09-01  178.0   A   5208335\n",
       "9    진  방탄소년단  빅히트  남자  1992-12-04  179.2   O   4570308\n",
       "11  태연   소녀시대   SM  여자  1989-03-09    NaN   A   3918661\n",
       "15  슈가  방탄소년단  빅히트  남자  1993-03-09  174.0   O   2925442"
      ],
      "text/html": "<div>\n<style scoped>\n    .dataframe tbody tr th:only-of-type {\n        vertical-align: middle;\n    }\n\n    .dataframe tbody tr th {\n        vertical-align: top;\n    }\n\n    .dataframe thead th {\n        text-align: right;\n    }\n</style>\n<table border=\"1\" class=\"dataframe\">\n  <thead>\n    <tr style=\"text-align: right;\">\n      <th></th>\n      <th>이름</th>\n      <th>그룹</th>\n      <th>소속사</th>\n      <th>성별</th>\n      <th>생년월일</th>\n      <th>키</th>\n      <th>혈액형</th>\n      <th>브랜드평판지수</th>\n    </tr>\n  </thead>\n  <tbody>\n    <tr>\n      <th>1</th>\n      <td>지민</td>\n      <td>방탄소년단</td>\n      <td>빅히트</td>\n      <td>남자</td>\n      <td>1995-10-13</td>\n      <td>173.6</td>\n      <td>A</td>\n      <td>10523260</td>\n    </tr>\n    <tr>\n      <th>4</th>\n      <td>뷔</td>\n      <td>방탄소년단</td>\n      <td>빅히트</td>\n      <td>남자</td>\n      <td>1995-12-30</td>\n      <td>178.0</td>\n      <td>AB</td>\n      <td>8073501</td>\n    </tr>\n    <tr>\n      <th>6</th>\n      <td>정국</td>\n      <td>방탄소년단</td>\n      <td>빅히트</td>\n      <td>남자</td>\n      <td>1997-09-01</td>\n      <td>178.0</td>\n      <td>A</td>\n      <td>5208335</td>\n    </tr>\n    <tr>\n      <th>9</th>\n      <td>진</td>\n      <td>방탄소년단</td>\n      <td>빅히트</td>\n      <td>남자</td>\n      <td>1992-12-04</td>\n      <td>179.2</td>\n      <td>O</td>\n      <td>4570308</td>\n    </tr>\n    <tr>\n      <th>11</th>\n      <td>태연</td>\n      <td>소녀시대</td>\n      <td>SM</td>\n      <td>여자</td>\n      <td>1989-03-09</td>\n      <td>NaN</td>\n      <td>A</td>\n      <td>3918661</td>\n    </tr>\n    <tr>\n      <th>15</th>\n      <td>슈가</td>\n      <td>방탄소년단</td>\n      <td>빅히트</td>\n      <td>남자</td>\n      <td>1993-03-09</td>\n      <td>174.0</td>\n      <td>O</td>\n      <td>2925442</td>\n    </tr>\n  </tbody>\n</table>\n</div>"
     },
     "metadata": {},
     "execution_count": 146
    }
   ],
   "source": [
    "d.query('소속사 in (\"빅히트\",\"SM\")')"
   ]
  },
  {
   "source": [
    "## 5-4. 데이터 CRUD"
   ],
   "cell_type": "markdown",
   "metadata": {}
  },
  {
   "cell_type": "code",
   "execution_count": 147,
   "metadata": {},
   "outputs": [
    {
     "output_type": "execute_result",
     "data": {
      "text/plain": [
       "      이름     그룹      소속사  성별        생년월일      키 혈액형   브랜드평판지수\n",
       "1     지민  방탄소년단      빅히트  남자  1995-10-13  173.6   A  10523260\n",
       "2   지드래곤     빅뱅       YG  남자  1988-08-18  177.0   A   9916947\n",
       "3   강다니엘    NaN      커넥트  남자  1996-12-10  180.0   A   8273745\n",
       "4      뷔  방탄소년단      빅히트  남자  1995-12-30  178.0  AB   8073501\n",
       "5     화사    마마무      RBW  여자  1995-07-23  162.1   A   7650928\n",
       "6     정국  방탄소년단      빅히트  남자  1997-09-01  178.0   A   5208335\n",
       "7     민현   뉴이스트     플레디스  남자  1995-08-09  182.3   O   4989792\n",
       "8     소연    아이들       큐브  여자  1998-08-26    NaN   B   4668615\n",
       "9      진  방탄소년단      빅히트  남자  1992-12-04  179.2   O   4570308\n",
       "10   하성운     핫샷  스타크루이엔티  남자  1994-03-22  167.1   A   4036489\n",
       "11    태연   소녀시대       SM  여자  1989-03-09    NaN   A   3918661\n",
       "12   차은우   아스트로     판타지오  남자  1997-03-30  183.0   B   3506027\n",
       "13    백호   뉴이스트     플레디스  남자  1995-07-21  175.0  AB   3301654\n",
       "14    JR   뉴이스트     플레디스  남자  1995-06-08  176.0   O   3274137\n",
       "15    슈가  방탄소년단      빅히트  남자  1993-03-09  174.0   O   2925442\n",
       "16   아이유    NaN     EDAM  여자  1993-05-16  161.8   O  12345678"
      ],
      "text/html": "<div>\n<style scoped>\n    .dataframe tbody tr th:only-of-type {\n        vertical-align: middle;\n    }\n\n    .dataframe tbody tr th {\n        vertical-align: top;\n    }\n\n    .dataframe thead th {\n        text-align: right;\n    }\n</style>\n<table border=\"1\" class=\"dataframe\">\n  <thead>\n    <tr style=\"text-align: right;\">\n      <th></th>\n      <th>이름</th>\n      <th>그룹</th>\n      <th>소속사</th>\n      <th>성별</th>\n      <th>생년월일</th>\n      <th>키</th>\n      <th>혈액형</th>\n      <th>브랜드평판지수</th>\n    </tr>\n  </thead>\n  <tbody>\n    <tr>\n      <th>1</th>\n      <td>지민</td>\n      <td>방탄소년단</td>\n      <td>빅히트</td>\n      <td>남자</td>\n      <td>1995-10-13</td>\n      <td>173.6</td>\n      <td>A</td>\n      <td>10523260</td>\n    </tr>\n    <tr>\n      <th>2</th>\n      <td>지드래곤</td>\n      <td>빅뱅</td>\n      <td>YG</td>\n      <td>남자</td>\n      <td>1988-08-18</td>\n      <td>177.0</td>\n      <td>A</td>\n      <td>9916947</td>\n    </tr>\n    <tr>\n      <th>3</th>\n      <td>강다니엘</td>\n      <td>NaN</td>\n      <td>커넥트</td>\n      <td>남자</td>\n      <td>1996-12-10</td>\n      <td>180.0</td>\n      <td>A</td>\n      <td>8273745</td>\n    </tr>\n    <tr>\n      <th>4</th>\n      <td>뷔</td>\n      <td>방탄소년단</td>\n      <td>빅히트</td>\n      <td>남자</td>\n      <td>1995-12-30</td>\n      <td>178.0</td>\n      <td>AB</td>\n      <td>8073501</td>\n    </tr>\n    <tr>\n      <th>5</th>\n      <td>화사</td>\n      <td>마마무</td>\n      <td>RBW</td>\n      <td>여자</td>\n      <td>1995-07-23</td>\n      <td>162.1</td>\n      <td>A</td>\n      <td>7650928</td>\n    </tr>\n    <tr>\n      <th>6</th>\n      <td>정국</td>\n      <td>방탄소년단</td>\n      <td>빅히트</td>\n      <td>남자</td>\n      <td>1997-09-01</td>\n      <td>178.0</td>\n      <td>A</td>\n      <td>5208335</td>\n    </tr>\n    <tr>\n      <th>7</th>\n      <td>민현</td>\n      <td>뉴이스트</td>\n      <td>플레디스</td>\n      <td>남자</td>\n      <td>1995-08-09</td>\n      <td>182.3</td>\n      <td>O</td>\n      <td>4989792</td>\n    </tr>\n    <tr>\n      <th>8</th>\n      <td>소연</td>\n      <td>아이들</td>\n      <td>큐브</td>\n      <td>여자</td>\n      <td>1998-08-26</td>\n      <td>NaN</td>\n      <td>B</td>\n      <td>4668615</td>\n    </tr>\n    <tr>\n      <th>9</th>\n      <td>진</td>\n      <td>방탄소년단</td>\n      <td>빅히트</td>\n      <td>남자</td>\n      <td>1992-12-04</td>\n      <td>179.2</td>\n      <td>O</td>\n      <td>4570308</td>\n    </tr>\n    <tr>\n      <th>10</th>\n      <td>하성운</td>\n      <td>핫샷</td>\n      <td>스타크루이엔티</td>\n      <td>남자</td>\n      <td>1994-03-22</td>\n      <td>167.1</td>\n      <td>A</td>\n      <td>4036489</td>\n    </tr>\n    <tr>\n      <th>11</th>\n      <td>태연</td>\n      <td>소녀시대</td>\n      <td>SM</td>\n      <td>여자</td>\n      <td>1989-03-09</td>\n      <td>NaN</td>\n      <td>A</td>\n      <td>3918661</td>\n    </tr>\n    <tr>\n      <th>12</th>\n      <td>차은우</td>\n      <td>아스트로</td>\n      <td>판타지오</td>\n      <td>남자</td>\n      <td>1997-03-30</td>\n      <td>183.0</td>\n      <td>B</td>\n      <td>3506027</td>\n    </tr>\n    <tr>\n      <th>13</th>\n      <td>백호</td>\n      <td>뉴이스트</td>\n      <td>플레디스</td>\n      <td>남자</td>\n      <td>1995-07-21</td>\n      <td>175.0</td>\n      <td>AB</td>\n      <td>3301654</td>\n    </tr>\n    <tr>\n      <th>14</th>\n      <td>JR</td>\n      <td>뉴이스트</td>\n      <td>플레디스</td>\n      <td>남자</td>\n      <td>1995-06-08</td>\n      <td>176.0</td>\n      <td>O</td>\n      <td>3274137</td>\n    </tr>\n    <tr>\n      <th>15</th>\n      <td>슈가</td>\n      <td>방탄소년단</td>\n      <td>빅히트</td>\n      <td>남자</td>\n      <td>1993-03-09</td>\n      <td>174.0</td>\n      <td>O</td>\n      <td>2925442</td>\n    </tr>\n    <tr>\n      <th>16</th>\n      <td>아이유</td>\n      <td>NaN</td>\n      <td>EDAM</td>\n      <td>여자</td>\n      <td>1993-05-16</td>\n      <td>161.8</td>\n      <td>O</td>\n      <td>12345678</td>\n    </tr>\n  </tbody>\n</table>\n</div>"
     },
     "metadata": {},
     "execution_count": 147
    }
   ],
   "source": [
    "# 아이유 행 추가\n",
    "d.loc[16] = ['아이유', np.NaN, 'EDAM', '여자', '1993-05-16', 161.8, 'O', 12345678]\n",
    "d"
   ]
  },
  {
   "cell_type": "code",
   "execution_count": 148,
   "metadata": {},
   "outputs": [
    {
     "output_type": "execute_result",
     "data": {
      "text/plain": [
       "      이름     그룹      소속사  성별        생년월일      키 혈액형   브랜드평판지수\n",
       "1     지민  방탄소년단      빅히트  남자  1995-10-13  173.6   A  10523260\n",
       "2   지드래곤     빅뱅       YG  남자  1988-08-18  177.0   A   9916947\n",
       "3   강다니엘    NaN      커넥트  남자  1996-12-10  180.0   A   8273745\n",
       "4      뷔  방탄소년단      빅히트  남자  1995-12-30  178.0  AB   8073501\n",
       "5     화사    마마무      RBW  여자  1995-07-23  162.1   A   7650928\n",
       "6     정국  방탄소년단      빅히트  남자  1997-09-01  178.0   A   5208335\n",
       "7     민현   뉴이스트     플레디스  남자  1995-08-09  182.3   O   4989792\n",
       "8     소연    아이들       큐브  여자  1998-08-26    NaN   B   4668615\n",
       "9      진  방탄소년단      빅히트  남자  1992-12-04  179.2   O   4570308\n",
       "10   하성운     핫샷  스타크루이엔티  남자  1994-03-22  167.1   A   4036489\n",
       "11    태연   소녀시대       SM  여자  1989-03-09    NaN   A   3918661\n",
       "12   차은우   아스트로     판타지오  남자  1997-03-30  183.0   B   3506027\n",
       "13    백호   뉴이스트     플레디스  남자  1995-07-21  175.0  AB   3301654\n",
       "14    JR   뉴이스트     플레디스  남자  1995-06-08  176.0   O   3274137\n",
       "15    슈가  방탄소년단      빅히트  남자  1993-03-09  174.0   O   2925442"
      ],
      "text/html": "<div>\n<style scoped>\n    .dataframe tbody tr th:only-of-type {\n        vertical-align: middle;\n    }\n\n    .dataframe tbody tr th {\n        vertical-align: top;\n    }\n\n    .dataframe thead th {\n        text-align: right;\n    }\n</style>\n<table border=\"1\" class=\"dataframe\">\n  <thead>\n    <tr style=\"text-align: right;\">\n      <th></th>\n      <th>이름</th>\n      <th>그룹</th>\n      <th>소속사</th>\n      <th>성별</th>\n      <th>생년월일</th>\n      <th>키</th>\n      <th>혈액형</th>\n      <th>브랜드평판지수</th>\n    </tr>\n  </thead>\n  <tbody>\n    <tr>\n      <th>1</th>\n      <td>지민</td>\n      <td>방탄소년단</td>\n      <td>빅히트</td>\n      <td>남자</td>\n      <td>1995-10-13</td>\n      <td>173.6</td>\n      <td>A</td>\n      <td>10523260</td>\n    </tr>\n    <tr>\n      <th>2</th>\n      <td>지드래곤</td>\n      <td>빅뱅</td>\n      <td>YG</td>\n      <td>남자</td>\n      <td>1988-08-18</td>\n      <td>177.0</td>\n      <td>A</td>\n      <td>9916947</td>\n    </tr>\n    <tr>\n      <th>3</th>\n      <td>강다니엘</td>\n      <td>NaN</td>\n      <td>커넥트</td>\n      <td>남자</td>\n      <td>1996-12-10</td>\n      <td>180.0</td>\n      <td>A</td>\n      <td>8273745</td>\n    </tr>\n    <tr>\n      <th>4</th>\n      <td>뷔</td>\n      <td>방탄소년단</td>\n      <td>빅히트</td>\n      <td>남자</td>\n      <td>1995-12-30</td>\n      <td>178.0</td>\n      <td>AB</td>\n      <td>8073501</td>\n    </tr>\n    <tr>\n      <th>5</th>\n      <td>화사</td>\n      <td>마마무</td>\n      <td>RBW</td>\n      <td>여자</td>\n      <td>1995-07-23</td>\n      <td>162.1</td>\n      <td>A</td>\n      <td>7650928</td>\n    </tr>\n    <tr>\n      <th>6</th>\n      <td>정국</td>\n      <td>방탄소년단</td>\n      <td>빅히트</td>\n      <td>남자</td>\n      <td>1997-09-01</td>\n      <td>178.0</td>\n      <td>A</td>\n      <td>5208335</td>\n    </tr>\n    <tr>\n      <th>7</th>\n      <td>민현</td>\n      <td>뉴이스트</td>\n      <td>플레디스</td>\n      <td>남자</td>\n      <td>1995-08-09</td>\n      <td>182.3</td>\n      <td>O</td>\n      <td>4989792</td>\n    </tr>\n    <tr>\n      <th>8</th>\n      <td>소연</td>\n      <td>아이들</td>\n      <td>큐브</td>\n      <td>여자</td>\n      <td>1998-08-26</td>\n      <td>NaN</td>\n      <td>B</td>\n      <td>4668615</td>\n    </tr>\n    <tr>\n      <th>9</th>\n      <td>진</td>\n      <td>방탄소년단</td>\n      <td>빅히트</td>\n      <td>남자</td>\n      <td>1992-12-04</td>\n      <td>179.2</td>\n      <td>O</td>\n      <td>4570308</td>\n    </tr>\n    <tr>\n      <th>10</th>\n      <td>하성운</td>\n      <td>핫샷</td>\n      <td>스타크루이엔티</td>\n      <td>남자</td>\n      <td>1994-03-22</td>\n      <td>167.1</td>\n      <td>A</td>\n      <td>4036489</td>\n    </tr>\n    <tr>\n      <th>11</th>\n      <td>태연</td>\n      <td>소녀시대</td>\n      <td>SM</td>\n      <td>여자</td>\n      <td>1989-03-09</td>\n      <td>NaN</td>\n      <td>A</td>\n      <td>3918661</td>\n    </tr>\n    <tr>\n      <th>12</th>\n      <td>차은우</td>\n      <td>아스트로</td>\n      <td>판타지오</td>\n      <td>남자</td>\n      <td>1997-03-30</td>\n      <td>183.0</td>\n      <td>B</td>\n      <td>3506027</td>\n    </tr>\n    <tr>\n      <th>13</th>\n      <td>백호</td>\n      <td>뉴이스트</td>\n      <td>플레디스</td>\n      <td>남자</td>\n      <td>1995-07-21</td>\n      <td>175.0</td>\n      <td>AB</td>\n      <td>3301654</td>\n    </tr>\n    <tr>\n      <th>14</th>\n      <td>JR</td>\n      <td>뉴이스트</td>\n      <td>플레디스</td>\n      <td>남자</td>\n      <td>1995-06-08</td>\n      <td>176.0</td>\n      <td>O</td>\n      <td>3274137</td>\n    </tr>\n    <tr>\n      <th>15</th>\n      <td>슈가</td>\n      <td>방탄소년단</td>\n      <td>빅히트</td>\n      <td>남자</td>\n      <td>1993-03-09</td>\n      <td>174.0</td>\n      <td>O</td>\n      <td>2925442</td>\n    </tr>\n  </tbody>\n</table>\n</div>"
     },
     "metadata": {},
     "execution_count": 148
    }
   ],
   "source": [
    "# 행 삭제\n",
    "d = d.drop(16)\n",
    "d"
   ]
  },
  {
   "cell_type": "code",
   "execution_count": 153,
   "metadata": {},
   "outputs": [
    {
     "output_type": "execute_result",
     "data": {
      "text/plain": [
       "      이름    그룹      소속사  성별        생년월일      키 혈액형  브랜드평판지수\n",
       "2   지드래곤    빅뱅       YG  남자  1988-08-18  177.0   A  9916947\n",
       "3   강다니엘   NaN      커넥트  남자  1996-12-10  180.0   A  8273745\n",
       "5     화사   마마무      RBW  여자  1995-07-23  162.1   A  7650928\n",
       "7     민현  뉴이스트     플레디스  남자  1995-08-09  182.3   O  4989792\n",
       "8     소연   아이들       큐브  여자  1998-08-26    NaN   B  4668615\n",
       "10   하성운    핫샷  스타크루이엔티  남자  1994-03-22  167.1   A  4036489\n",
       "11    태연  소녀시대       SM  여자  1989-03-09    NaN   A  3918661\n",
       "12   차은우  아스트로     판타지오  남자  1997-03-30  183.0   B  3506027\n",
       "13    백호  뉴이스트     플레디스  남자  1995-07-21  175.0  AB  3301654\n",
       "14    JR  뉴이스트     플레디스  남자  1995-06-08  176.0   O  3274137"
      ],
      "text/html": "<div>\n<style scoped>\n    .dataframe tbody tr th:only-of-type {\n        vertical-align: middle;\n    }\n\n    .dataframe tbody tr th {\n        vertical-align: top;\n    }\n\n    .dataframe thead th {\n        text-align: right;\n    }\n</style>\n<table border=\"1\" class=\"dataframe\">\n  <thead>\n    <tr style=\"text-align: right;\">\n      <th></th>\n      <th>이름</th>\n      <th>그룹</th>\n      <th>소속사</th>\n      <th>성별</th>\n      <th>생년월일</th>\n      <th>키</th>\n      <th>혈액형</th>\n      <th>브랜드평판지수</th>\n    </tr>\n  </thead>\n  <tbody>\n    <tr>\n      <th>2</th>\n      <td>지드래곤</td>\n      <td>빅뱅</td>\n      <td>YG</td>\n      <td>남자</td>\n      <td>1988-08-18</td>\n      <td>177.0</td>\n      <td>A</td>\n      <td>9916947</td>\n    </tr>\n    <tr>\n      <th>3</th>\n      <td>강다니엘</td>\n      <td>NaN</td>\n      <td>커넥트</td>\n      <td>남자</td>\n      <td>1996-12-10</td>\n      <td>180.0</td>\n      <td>A</td>\n      <td>8273745</td>\n    </tr>\n    <tr>\n      <th>5</th>\n      <td>화사</td>\n      <td>마마무</td>\n      <td>RBW</td>\n      <td>여자</td>\n      <td>1995-07-23</td>\n      <td>162.1</td>\n      <td>A</td>\n      <td>7650928</td>\n    </tr>\n    <tr>\n      <th>7</th>\n      <td>민현</td>\n      <td>뉴이스트</td>\n      <td>플레디스</td>\n      <td>남자</td>\n      <td>1995-08-09</td>\n      <td>182.3</td>\n      <td>O</td>\n      <td>4989792</td>\n    </tr>\n    <tr>\n      <th>8</th>\n      <td>소연</td>\n      <td>아이들</td>\n      <td>큐브</td>\n      <td>여자</td>\n      <td>1998-08-26</td>\n      <td>NaN</td>\n      <td>B</td>\n      <td>4668615</td>\n    </tr>\n    <tr>\n      <th>10</th>\n      <td>하성운</td>\n      <td>핫샷</td>\n      <td>스타크루이엔티</td>\n      <td>남자</td>\n      <td>1994-03-22</td>\n      <td>167.1</td>\n      <td>A</td>\n      <td>4036489</td>\n    </tr>\n    <tr>\n      <th>11</th>\n      <td>태연</td>\n      <td>소녀시대</td>\n      <td>SM</td>\n      <td>여자</td>\n      <td>1989-03-09</td>\n      <td>NaN</td>\n      <td>A</td>\n      <td>3918661</td>\n    </tr>\n    <tr>\n      <th>12</th>\n      <td>차은우</td>\n      <td>아스트로</td>\n      <td>판타지오</td>\n      <td>남자</td>\n      <td>1997-03-30</td>\n      <td>183.0</td>\n      <td>B</td>\n      <td>3506027</td>\n    </tr>\n    <tr>\n      <th>13</th>\n      <td>백호</td>\n      <td>뉴이스트</td>\n      <td>플레디스</td>\n      <td>남자</td>\n      <td>1995-07-21</td>\n      <td>175.0</td>\n      <td>AB</td>\n      <td>3301654</td>\n    </tr>\n    <tr>\n      <th>14</th>\n      <td>JR</td>\n      <td>뉴이스트</td>\n      <td>플레디스</td>\n      <td>남자</td>\n      <td>1995-06-08</td>\n      <td>176.0</td>\n      <td>O</td>\n      <td>3274137</td>\n    </tr>\n  </tbody>\n</table>\n</div>"
     },
     "metadata": {},
     "execution_count": 153
    }
   ],
   "source": [
    "# 소속사가 빅히트인 데이터 삭제하기\n",
    "d = d.drop(d[d['소속사']=='빅히트'].index)\n",
    "d"
   ]
  },
  {
   "cell_type": "code",
   "execution_count": 154,
   "metadata": {},
   "outputs": [
    {
     "output_type": "execute_result",
     "data": {
      "text/plain": [
       "      이름    그룹      소속사  성별        생년월일      키 혈액형  브랜드평판지수    국적\n",
       "2   지드래곤    빅뱅       YG  남자  1988-08-18  177.0   A  9916947  대한민국\n",
       "3   강다니엘   NaN      커넥트  남자  1996-12-10  180.0   A  8273745  대한민국\n",
       "5     화사   마마무      RBW  여자  1995-07-23  162.1   A  7650928  대한민국\n",
       "7     민현  뉴이스트     플레디스  남자  1995-08-09  182.3   O  4989792  대한민국\n",
       "8     소연   아이들       큐브  여자  1998-08-26    NaN   B  4668615  대한민국\n",
       "10   하성운    핫샷  스타크루이엔티  남자  1994-03-22  167.1   A  4036489  대한민국\n",
       "11    태연  소녀시대       SM  여자  1989-03-09    NaN   A  3918661  대한민국\n",
       "12   차은우  아스트로     판타지오  남자  1997-03-30  183.0   B  3506027  대한민국\n",
       "13    백호  뉴이스트     플레디스  남자  1995-07-21  175.0  AB  3301654  대한민국\n",
       "14    JR  뉴이스트     플레디스  남자  1995-06-08  176.0   O  3274137  대한민국"
      ],
      "text/html": "<div>\n<style scoped>\n    .dataframe tbody tr th:only-of-type {\n        vertical-align: middle;\n    }\n\n    .dataframe tbody tr th {\n        vertical-align: top;\n    }\n\n    .dataframe thead th {\n        text-align: right;\n    }\n</style>\n<table border=\"1\" class=\"dataframe\">\n  <thead>\n    <tr style=\"text-align: right;\">\n      <th></th>\n      <th>이름</th>\n      <th>그룹</th>\n      <th>소속사</th>\n      <th>성별</th>\n      <th>생년월일</th>\n      <th>키</th>\n      <th>혈액형</th>\n      <th>브랜드평판지수</th>\n      <th>국적</th>\n    </tr>\n  </thead>\n  <tbody>\n    <tr>\n      <th>2</th>\n      <td>지드래곤</td>\n      <td>빅뱅</td>\n      <td>YG</td>\n      <td>남자</td>\n      <td>1988-08-18</td>\n      <td>177.0</td>\n      <td>A</td>\n      <td>9916947</td>\n      <td>대한민국</td>\n    </tr>\n    <tr>\n      <th>3</th>\n      <td>강다니엘</td>\n      <td>NaN</td>\n      <td>커넥트</td>\n      <td>남자</td>\n      <td>1996-12-10</td>\n      <td>180.0</td>\n      <td>A</td>\n      <td>8273745</td>\n      <td>대한민국</td>\n    </tr>\n    <tr>\n      <th>5</th>\n      <td>화사</td>\n      <td>마마무</td>\n      <td>RBW</td>\n      <td>여자</td>\n      <td>1995-07-23</td>\n      <td>162.1</td>\n      <td>A</td>\n      <td>7650928</td>\n      <td>대한민국</td>\n    </tr>\n    <tr>\n      <th>7</th>\n      <td>민현</td>\n      <td>뉴이스트</td>\n      <td>플레디스</td>\n      <td>남자</td>\n      <td>1995-08-09</td>\n      <td>182.3</td>\n      <td>O</td>\n      <td>4989792</td>\n      <td>대한민국</td>\n    </tr>\n    <tr>\n      <th>8</th>\n      <td>소연</td>\n      <td>아이들</td>\n      <td>큐브</td>\n      <td>여자</td>\n      <td>1998-08-26</td>\n      <td>NaN</td>\n      <td>B</td>\n      <td>4668615</td>\n      <td>대한민국</td>\n    </tr>\n    <tr>\n      <th>10</th>\n      <td>하성운</td>\n      <td>핫샷</td>\n      <td>스타크루이엔티</td>\n      <td>남자</td>\n      <td>1994-03-22</td>\n      <td>167.1</td>\n      <td>A</td>\n      <td>4036489</td>\n      <td>대한민국</td>\n    </tr>\n    <tr>\n      <th>11</th>\n      <td>태연</td>\n      <td>소녀시대</td>\n      <td>SM</td>\n      <td>여자</td>\n      <td>1989-03-09</td>\n      <td>NaN</td>\n      <td>A</td>\n      <td>3918661</td>\n      <td>대한민국</td>\n    </tr>\n    <tr>\n      <th>12</th>\n      <td>차은우</td>\n      <td>아스트로</td>\n      <td>판타지오</td>\n      <td>남자</td>\n      <td>1997-03-30</td>\n      <td>183.0</td>\n      <td>B</td>\n      <td>3506027</td>\n      <td>대한민국</td>\n    </tr>\n    <tr>\n      <th>13</th>\n      <td>백호</td>\n      <td>뉴이스트</td>\n      <td>플레디스</td>\n      <td>남자</td>\n      <td>1995-07-21</td>\n      <td>175.0</td>\n      <td>AB</td>\n      <td>3301654</td>\n      <td>대한민국</td>\n    </tr>\n    <tr>\n      <th>14</th>\n      <td>JR</td>\n      <td>뉴이스트</td>\n      <td>플레디스</td>\n      <td>남자</td>\n      <td>1995-06-08</td>\n      <td>176.0</td>\n      <td>O</td>\n      <td>3274137</td>\n      <td>대한민국</td>\n    </tr>\n  </tbody>\n</table>\n</div>"
     },
     "metadata": {},
     "execution_count": 154
    }
   ],
   "source": [
    "# 열 추가\n",
    "d['국적'] = '대한민국'\n",
    "d"
   ]
  },
  {
   "cell_type": "code",
   "execution_count": 158,
   "metadata": {},
   "outputs": [
    {
     "output_type": "execute_result",
     "data": {
      "text/plain": [
       "      이름    그룹      소속사  성별        생년월일      키 혈액형  브랜드평판지수\n",
       "2   지드래곤    빅뱅       YG  남자  1988-08-18  177.0   A  9916947\n",
       "3   강다니엘   NaN      커넥트  남자  1996-12-10  180.0   A  8273745\n",
       "5     화사   마마무      RBW  여자  1995-07-23  162.1   A  7650928\n",
       "7     민현  뉴이스트     플레디스  남자  1995-08-09  182.3   O  4989792\n",
       "8     소연   아이들       큐브  여자  1998-08-26    NaN   B  4668615\n",
       "10   하성운    핫샷  스타크루이엔티  남자  1994-03-22  167.1   A  4036489\n",
       "11    태연  소녀시대       SM  여자  1989-03-09    NaN   A  3918661\n",
       "12   차은우  아스트로     판타지오  남자  1997-03-30  183.0   B  3506027\n",
       "13    백호  뉴이스트     플레디스  남자  1995-07-21  175.0  AB  3301654\n",
       "14    JR  뉴이스트     플레디스  남자  1995-06-08  176.0   O  3274137"
      ],
      "text/html": "<div>\n<style scoped>\n    .dataframe tbody tr th:only-of-type {\n        vertical-align: middle;\n    }\n\n    .dataframe tbody tr th {\n        vertical-align: top;\n    }\n\n    .dataframe thead th {\n        text-align: right;\n    }\n</style>\n<table border=\"1\" class=\"dataframe\">\n  <thead>\n    <tr style=\"text-align: right;\">\n      <th></th>\n      <th>이름</th>\n      <th>그룹</th>\n      <th>소속사</th>\n      <th>성별</th>\n      <th>생년월일</th>\n      <th>키</th>\n      <th>혈액형</th>\n      <th>브랜드평판지수</th>\n    </tr>\n  </thead>\n  <tbody>\n    <tr>\n      <th>2</th>\n      <td>지드래곤</td>\n      <td>빅뱅</td>\n      <td>YG</td>\n      <td>남자</td>\n      <td>1988-08-18</td>\n      <td>177.0</td>\n      <td>A</td>\n      <td>9916947</td>\n    </tr>\n    <tr>\n      <th>3</th>\n      <td>강다니엘</td>\n      <td>NaN</td>\n      <td>커넥트</td>\n      <td>남자</td>\n      <td>1996-12-10</td>\n      <td>180.0</td>\n      <td>A</td>\n      <td>8273745</td>\n    </tr>\n    <tr>\n      <th>5</th>\n      <td>화사</td>\n      <td>마마무</td>\n      <td>RBW</td>\n      <td>여자</td>\n      <td>1995-07-23</td>\n      <td>162.1</td>\n      <td>A</td>\n      <td>7650928</td>\n    </tr>\n    <tr>\n      <th>7</th>\n      <td>민현</td>\n      <td>뉴이스트</td>\n      <td>플레디스</td>\n      <td>남자</td>\n      <td>1995-08-09</td>\n      <td>182.3</td>\n      <td>O</td>\n      <td>4989792</td>\n    </tr>\n    <tr>\n      <th>8</th>\n      <td>소연</td>\n      <td>아이들</td>\n      <td>큐브</td>\n      <td>여자</td>\n      <td>1998-08-26</td>\n      <td>NaN</td>\n      <td>B</td>\n      <td>4668615</td>\n    </tr>\n    <tr>\n      <th>10</th>\n      <td>하성운</td>\n      <td>핫샷</td>\n      <td>스타크루이엔티</td>\n      <td>남자</td>\n      <td>1994-03-22</td>\n      <td>167.1</td>\n      <td>A</td>\n      <td>4036489</td>\n    </tr>\n    <tr>\n      <th>11</th>\n      <td>태연</td>\n      <td>소녀시대</td>\n      <td>SM</td>\n      <td>여자</td>\n      <td>1989-03-09</td>\n      <td>NaN</td>\n      <td>A</td>\n      <td>3918661</td>\n    </tr>\n    <tr>\n      <th>12</th>\n      <td>차은우</td>\n      <td>아스트로</td>\n      <td>판타지오</td>\n      <td>남자</td>\n      <td>1997-03-30</td>\n      <td>183.0</td>\n      <td>B</td>\n      <td>3506027</td>\n    </tr>\n    <tr>\n      <th>13</th>\n      <td>백호</td>\n      <td>뉴이스트</td>\n      <td>플레디스</td>\n      <td>남자</td>\n      <td>1995-07-21</td>\n      <td>175.0</td>\n      <td>AB</td>\n      <td>3301654</td>\n    </tr>\n    <tr>\n      <th>14</th>\n      <td>JR</td>\n      <td>뉴이스트</td>\n      <td>플레디스</td>\n      <td>남자</td>\n      <td>1995-06-08</td>\n      <td>176.0</td>\n      <td>O</td>\n      <td>3274137</td>\n    </tr>\n  </tbody>\n</table>\n</div>"
     },
     "metadata": {},
     "execution_count": 158
    }
   ],
   "source": [
    "# 열 삭제\n",
    "d = d.drop('국적', axis=1) # d.drop(columns='국적')\n",
    "d"
   ]
  },
  {
   "cell_type": "code",
   "execution_count": 163,
   "metadata": {},
   "outputs": [
    {
     "output_type": "execute_result",
     "data": {
      "text/plain": [
       "      이름     그룹      소속사  성별        생년월일      키 혈액형  브랜드평판지수\n",
       "2   지드래곤     빅뱅       YG  남자  1988-08-18  177.0   A  9916947\n",
       "3   강다니엘    NaN      커넥트  남자  1996-12-10  180.0   A  8273745\n",
       "5     화사    마마무      RBW  여자  1995-07-23  162.1   A  7650928\n",
       "7     민현  올드이스트     플레디스  남자  1995-08-09  182.3   O  4989792\n",
       "8     소연    아이들       큐브  여자  1998-08-26    NaN   B  4668615\n",
       "10   하성운     핫샷  스타크루이엔티  남자  1994-03-22  167.1   A  4036489\n",
       "11    태연   소녀시대       SM  여자  1989-03-09    NaN   A  3918661\n",
       "12   차은우   아스트로     판타지오  남자  1997-03-30  183.0   B  3506027\n",
       "13    백호  올드이스트     플레디스  남자  1995-07-21  175.0  AB  3301654\n",
       "14    JR  올드이스트     플레디스  남자  1995-06-08  176.0   O  3274137"
      ],
      "text/html": "<div>\n<style scoped>\n    .dataframe tbody tr th:only-of-type {\n        vertical-align: middle;\n    }\n\n    .dataframe tbody tr th {\n        vertical-align: top;\n    }\n\n    .dataframe thead th {\n        text-align: right;\n    }\n</style>\n<table border=\"1\" class=\"dataframe\">\n  <thead>\n    <tr style=\"text-align: right;\">\n      <th></th>\n      <th>이름</th>\n      <th>그룹</th>\n      <th>소속사</th>\n      <th>성별</th>\n      <th>생년월일</th>\n      <th>키</th>\n      <th>혈액형</th>\n      <th>브랜드평판지수</th>\n    </tr>\n  </thead>\n  <tbody>\n    <tr>\n      <th>2</th>\n      <td>지드래곤</td>\n      <td>빅뱅</td>\n      <td>YG</td>\n      <td>남자</td>\n      <td>1988-08-18</td>\n      <td>177.0</td>\n      <td>A</td>\n      <td>9916947</td>\n    </tr>\n    <tr>\n      <th>3</th>\n      <td>강다니엘</td>\n      <td>NaN</td>\n      <td>커넥트</td>\n      <td>남자</td>\n      <td>1996-12-10</td>\n      <td>180.0</td>\n      <td>A</td>\n      <td>8273745</td>\n    </tr>\n    <tr>\n      <th>5</th>\n      <td>화사</td>\n      <td>마마무</td>\n      <td>RBW</td>\n      <td>여자</td>\n      <td>1995-07-23</td>\n      <td>162.1</td>\n      <td>A</td>\n      <td>7650928</td>\n    </tr>\n    <tr>\n      <th>7</th>\n      <td>민현</td>\n      <td>올드이스트</td>\n      <td>플레디스</td>\n      <td>남자</td>\n      <td>1995-08-09</td>\n      <td>182.3</td>\n      <td>O</td>\n      <td>4989792</td>\n    </tr>\n    <tr>\n      <th>8</th>\n      <td>소연</td>\n      <td>아이들</td>\n      <td>큐브</td>\n      <td>여자</td>\n      <td>1998-08-26</td>\n      <td>NaN</td>\n      <td>B</td>\n      <td>4668615</td>\n    </tr>\n    <tr>\n      <th>10</th>\n      <td>하성운</td>\n      <td>핫샷</td>\n      <td>스타크루이엔티</td>\n      <td>남자</td>\n      <td>1994-03-22</td>\n      <td>167.1</td>\n      <td>A</td>\n      <td>4036489</td>\n    </tr>\n    <tr>\n      <th>11</th>\n      <td>태연</td>\n      <td>소녀시대</td>\n      <td>SM</td>\n      <td>여자</td>\n      <td>1989-03-09</td>\n      <td>NaN</td>\n      <td>A</td>\n      <td>3918661</td>\n    </tr>\n    <tr>\n      <th>12</th>\n      <td>차은우</td>\n      <td>아스트로</td>\n      <td>판타지오</td>\n      <td>남자</td>\n      <td>1997-03-30</td>\n      <td>183.0</td>\n      <td>B</td>\n      <td>3506027</td>\n    </tr>\n    <tr>\n      <th>13</th>\n      <td>백호</td>\n      <td>올드이스트</td>\n      <td>플레디스</td>\n      <td>남자</td>\n      <td>1995-07-21</td>\n      <td>175.0</td>\n      <td>AB</td>\n      <td>3301654</td>\n    </tr>\n    <tr>\n      <th>14</th>\n      <td>JR</td>\n      <td>올드이스트</td>\n      <td>플레디스</td>\n      <td>남자</td>\n      <td>1995-06-08</td>\n      <td>176.0</td>\n      <td>O</td>\n      <td>3274137</td>\n    </tr>\n  </tbody>\n</table>\n</div>"
     },
     "metadata": {},
     "execution_count": 163
    }
   ],
   "source": [
    "d.loc[d['그룹'] == '뉴이스트','그룹'] = '올드이스트'\n",
    "d"
   ]
  },
  {
   "cell_type": "code",
   "execution_count": null,
   "metadata": {},
   "outputs": [],
   "source": []
  }
 ]
}